{
 "cells": [
  {
   "cell_type": "markdown",
   "id": "c624d1c9",
   "metadata": {},
   "source": [
    "Tên thành viên: \n",
    "1. Vũ Công Duy - 19120212\n",
    "2. Tô Gia Thuận - 19120389"
   ]
  },
  {
   "cell_type": "markdown",
   "id": "0715c2c4",
   "metadata": {},
   "source": [
    "# Import thư viện"
   ]
  },
  {
   "cell_type": "code",
   "execution_count": null,
   "id": "2661e9dc",
   "metadata": {},
   "outputs": [],
   "source": [
    "import numpy as np\n",
    "import pandas as pd\n",
    "import matplotlib.pyplot as plt\n",
    "import re\n",
    "import copy\n",
    "import seaborn as sns\n"
   ]
  },
  {
   "cell_type": "markdown",
   "id": "89b694ec",
   "metadata": {},
   "source": [
    "# Thu thập dữ liệu"
   ]
  },
  {
   "cell_type": "markdown",
   "id": "ea5f79c6",
   "metadata": {},
   "source": [
    "Dữ liệu được sử dụng trong đồ án này là tập dữ liệu được thu thập sẵn và được đăng tải trên Kaggle. Đây là tập dữ liệu thông tin về các khoản vay bao gồm thông tin cá nhân của người vay và khoản vay có được chấp nhận hay không.\n",
    "Dữ liệu bao gồm :  \n",
    "- File `df1_loan.csv` : tập dữ liệu \n",
    "\n",
    "Nguồn dữ liệu: [Loan Application Data](https://www.kaggle.com/vipin20/loan-application-data?fbclid=IwAR1fjcdLGjY-5E5rgJMjQwrH2PGrnum4G3dyXH2ZnEIE8rg1RXMu-7hA95Q)\n",
    "\n",
    "Thông tin mô tả dữ liệu được trích dẫn một phần từ nguồn trên:\n",
    ">About data set\n",
    "Among all industries, Banking domain has the largest use of analytics & data science methods. This data set would provide you enough taste of working on data sets from insurance companies and banks, what challenges are faced, what strategies are used, etc. This is a classification problem. The data has 615 rows and 14 features to predict weather loan approved or not approved.\n",
    "\n",
    ">Company wants to automate the loan eligibility process (real time) based on customer detail provided while filling online application form. These details are Gender, Marital Status, Education, Number of Dependents, Income, Loan Amount, Credit History and others. To automate this process, they have given a problem to identify the customers segments, those are eligible for loan amount so that they can specifically target these customers.\n",
    "\n"
   ]
  },
  {
   "cell_type": "markdown",
   "id": "3a778adb",
   "metadata": {},
   "source": [
    "# Khám phá dữ liệu (trong quá trình khám phá, có thể sẽ dừng lại để tiền xử lý)"
   ]
  },
  {
   "cell_type": "markdown",
   "id": "774754e4",
   "metadata": {},
   "source": [
    "## Đọc dữ liệu từ file vào dataframe"
   ]
  },
  {
   "cell_type": "code",
   "execution_count": null,
   "id": "2724930b",
   "metadata": {
    "scrolled": true
   },
   "outputs": [],
   "source": [
    "loan_df = pd.read_csv('Data/df1_loan.csv', delimiter=',', index_col=0)\n",
    "loan_df.head()"
   ]
  },
  {
   "cell_type": "markdown",
   "id": "84ea1255",
   "metadata": {},
   "source": [
    "## Dữ liệu bao gồm bao nhiêu dòng và bao nhiêu cột?"
   ]
  },
  {
   "cell_type": "code",
   "execution_count": null,
   "id": "01a10639",
   "metadata": {},
   "outputs": [],
   "source": [
    "loan_df.shape"
   ]
  },
  {
   "cell_type": "markdown",
   "id": "80981ddd",
   "metadata": {},
   "source": [
    "## Quan sát sơ lược về dữ liệu"
   ]
  },
  {
   "cell_type": "code",
   "execution_count": null,
   "id": "fa09cbd2",
   "metadata": {},
   "outputs": [],
   "source": [
    "loan_df.info()"
   ]
  },
  {
   "cell_type": "markdown",
   "id": "5024af9e",
   "metadata": {},
   "source": [
    "## Mỗi dòng có ý nghĩa gì?\n"
   ]
  },
  {
   "cell_type": "markdown",
   "id": "dacaf25e",
   "metadata": {},
   "source": [
    "Mỗi dòng là thông tin về một đơn đăng ký khoản vay của một người nào đó."
   ]
  },
  {
   "cell_type": "markdown",
   "id": "fc62b3a0",
   "metadata": {},
   "source": [
    "## Có dòng nào bị lặp không? Nếu có thì bao nhiêu dòng bị lặp?"
   ]
  },
  {
   "cell_type": "code",
   "execution_count": null,
   "id": "3175881d",
   "metadata": {},
   "outputs": [],
   "source": [
    "re = loan_df.duplicated()\n",
    "if re.any():\n",
    "    print(f\"Số dòng bị lặp: {sum(re)}\")\n",
    "else:\n",
    "    print('Không dòng nào bị lặp')"
   ]
  },
  {
   "cell_type": "markdown",
   "id": "860b9b60",
   "metadata": {},
   "source": [
    "## Mỗi cột có ý nghĩa gì?"
   ]
  },
  {
   "cell_type": "code",
   "execution_count": null,
   "id": "d9a86b4f",
   "metadata": {},
   "outputs": [],
   "source": [
    "with open('description.txt', 'r') as f:\n",
    "    print(f.read())"
   ]
  },
  {
   "cell_type": "markdown",
   "id": "8c4e8c9b",
   "metadata": {},
   "source": [
    "Từ thông tin trên, ta có thể hiểu ý nghĩa của các cột như sau:"
   ]
  },
  {
   "cell_type": "markdown",
   "id": "88cb1a49",
   "metadata": {},
   "source": [
    "|Tên cột|Ý nghĩa|\n",
    "|:---|:---|\n",
    "|**Loan_ID**|Mã định danh của đơn đăng ký vay tiền (mỗi Loan_ID là duy nhất)|\n",
    "|**Gender**|Giới tính của người nộp đơn đăng ký vay tiền|\n",
    "|**Married**|Tình trạng hôn nhân của người nộp đơn đăng ký vay tiền|\n",
    "|**Dependents**|Số người phụ thuộc vào người nộp đơn|\n",
    "|**Education**|Trình độ vấn của người nộp đơn đăng ký vay tiền|\n",
    "|**Self_Employed**|Người nộp đơn có đang làm việc tự do hay không|\n",
    "|**ApplicantIncome**|Thu nhập của người nộp đơn đăng ký vay tiền|\n",
    "|**CoapplicantIncome**|Thu nhập của người đồng nộp đơn(người có cùng trách nhiệm với người nộp đơn)|\n",
    "|**LoanAmount**|Số tiền cho vay|\n",
    "|**Loan_Amount_Term**|Thời hạn cho vay tiền|\n",
    "|**Credit_History**|Lịch sử tín dụng|\n",
    "|**Property_Area**|Nhà ở nằm ở khu vực nào|\n",
    "|**Loan_Status**|Trạng thái khoản vay (có được duyệt hay không)|\n",
    "|**Total_Income**|Tổng thu nhập (bao gồm tổng thu nhập của người nộp đơn và người cùng chịu trách nhiệm)|\n",
    "\n",
    "\n",
    "\n"
   ]
  },
  {
   "cell_type": "markdown",
   "id": "e6a1aec5",
   "metadata": {},
   "source": [
    "## Kiểu dữ liệu của mỗi cột là gì? Có cột nào có kiểu dữ liệu chưa phù hợp cần tiền xử lý không?"
   ]
  },
  {
   "cell_type": "code",
   "execution_count": null,
   "id": "6e09951a",
   "metadata": {},
   "outputs": [],
   "source": [
    "loan_df.dtypes"
   ]
  },
  {
   "cell_type": "markdown",
   "id": "7b2eaddf",
   "metadata": {},
   "source": [
    "**Nhận xét**: \n",
    "- Có tới 2 cột định danh là cột index và cột `Loan_ID`.  Ta sẽ lựa chọn 1 trong 2 cột làm định danh và loại bỏ cột còn lại.  Ở đây ta sẽ chọn chọn cột đầu (vì nó tốn ít bộ nhớ hơn so với cột `Loan_ID`)\n",
    "- Cột `ApplicantIncome` có kiểu dữ liệu là int64, trong khi các cột numerical khác lại có kiểu dữ liệu là float64. Vậy để dễ dàng tính toán, ta chuyển cột ApplicantIncome sáng kiểu float.\n",
    "\n",
    "- Cột `Dependents` : ta thấy ở phần head() chỉ có dữ liệu là số nhưng khi quan sát phương thức info() thì lại thấy cột này có dạng object. Ta sẽ khám phá cột này xem có vấn đề gì không.\n",
    "\n",
    "- Cột `Loan_status` có 2 giá Y và N, cần chuẩn hóa thành Yes và No giúp cho người đọc dễ hiểu và đồng bộ kiểu giá trị với cột Married (có cùng kiểu giá trị)."
   ]
  },
  {
   "cell_type": "markdown",
   "id": "bf1793cb",
   "metadata": {},
   "source": [
    "## Tiền xử lý"
   ]
  },
  {
   "cell_type": "markdown",
   "id": "4bc0ccde",
   "metadata": {},
   "source": [
    "**Lưu ý**: Trong phần phía dưới sẽ có một số chỗ sử dụng kỹ thuật **try** và **except**, bởi vì có một số thao tác loại bỏ cột hoặc thay đổi giá trị của dòng. Nếu đã thỏa rồi sẽ không phải thực hiện nữa, vì thực hiện lại sẽ bị lỗi."
   ]
  },
  {
   "cell_type": "markdown",
   "id": "f8565d1c",
   "metadata": {},
   "source": [
    "### Cột `Loan_ID`"
   ]
  },
  {
   "cell_type": "code",
   "execution_count": null,
   "id": "338fa56d",
   "metadata": {},
   "outputs": [],
   "source": [
    "try:\n",
    "    loan_df = loan_df.drop(columns=['Loan_ID'])\n",
    "except:\n",
    "    pass"
   ]
  },
  {
   "cell_type": "markdown",
   "id": "ef46da1c",
   "metadata": {},
   "source": [
    "### Cột `ApplicantIncome`"
   ]
  },
  {
   "cell_type": "code",
   "execution_count": null,
   "id": "e66a4b27",
   "metadata": {},
   "outputs": [],
   "source": [
    "try:\n",
    "    loan_df['ApplicantIncome'] = loan_df['ApplicantIncome'].astype('float')\n",
    "except:\n",
    "    pass"
   ]
  },
  {
   "cell_type": "markdown",
   "id": "e3db622b",
   "metadata": {},
   "source": [
    "### Cột `Dependents`"
   ]
  },
  {
   "cell_type": "markdown",
   "id": "d21a8ad9",
   "metadata": {},
   "source": [
    "Ta sẽ tiến hành khám phá các giá trị có trong cột `Dependents`"
   ]
  },
  {
   "cell_type": "code",
   "execution_count": null,
   "id": "bd7a6641",
   "metadata": {},
   "outputs": [],
   "source": [
    "loan_df['Dependents'].unique()"
   ]
  },
  {
   "cell_type": "markdown",
   "id": "d4040c68",
   "metadata": {},
   "source": [
    "Ta phát hiện ra có giá trị `3+`, đây là lý do khiến cho cột này có dạng `object`. Ta sẽ quy ước đổi `3+` thành `3` để đồng bộ."
   ]
  },
  {
   "cell_type": "code",
   "execution_count": null,
   "id": "2170a719",
   "metadata": {},
   "outputs": [],
   "source": [
    "try:\n",
    "    loan_df.Dependents = loan_df.Dependents.str.replace(\"+\",\"\",regex=False).apply(pd.to_numeric)\n",
    "except:\n",
    "    pass"
   ]
  },
  {
   "cell_type": "markdown",
   "id": "cead4273",
   "metadata": {},
   "source": [
    "### Cột `Loan_Status`"
   ]
  },
  {
   "cell_type": "code",
   "execution_count": null,
   "id": "3703b488",
   "metadata": {},
   "outputs": [],
   "source": [
    "pattern_convert = {'Y':'Yes',\n",
    "                  'N': 'No'}\n",
    "try:\n",
    "    loan_df['Loan_Status'] = loan_df['Loan_Status'].apply(lambda x: pattern_convert[x])\n",
    "except:\n",
    "    pass"
   ]
  },
  {
   "cell_type": "markdown",
   "id": "07908645",
   "metadata": {},
   "source": [
    "### Kiểm tra lại"
   ]
  },
  {
   "cell_type": "code",
   "execution_count": null,
   "id": "ca458e65",
   "metadata": {
    "scrolled": false
   },
   "outputs": [],
   "source": [
    "loan_df.dtypes"
   ]
  },
  {
   "cell_type": "markdown",
   "id": "a9e0dfbc",
   "metadata": {},
   "source": [
    "Khá ổn rồi...."
   ]
  },
  {
   "cell_type": "markdown",
   "id": "39c1f891",
   "metadata": {},
   "source": [
    "### Chuyển dtype của cột Toltal_income sang dạng số"
   ]
  },
  {
   "cell_type": "markdown",
   "id": "9079d7c5",
   "metadata": {},
   "source": [
    "Có thể thấy cột `Total_income` thực chât là biểu diễn số liệu nhưng lại được biểu diễn dưới dạng object do có kí tự \"\\$\" đứng trước.  \n",
    "Ta sẽ tiến hành loại bỏ kí tự \"\\$\" đứng đầu và chuyển về dạng số.  "
   ]
  },
  {
   "cell_type": "code",
   "execution_count": null,
   "id": "698985ca",
   "metadata": {},
   "outputs": [],
   "source": [
    "try:\n",
    "    loan_df.Total_Income = loan_df.Total_Income.str[1:].astype(np.float64)\n",
    "except:\n",
    "    pass"
   ]
  },
  {
   "cell_type": "markdown",
   "id": "276ac0f6",
   "metadata": {},
   "source": [
    "## Khám phá mới ! `Total_income = ApplicantIncome + CoapplicantIncome`"
   ]
  },
  {
   "cell_type": "markdown",
   "id": "a58f2e4c",
   "metadata": {},
   "source": [
    "Theo quan sát, ta thấy được `Total_income = ApplicantIncome + CoapplicantIncome`.  \n",
    "Kiểm chứng bằng code :"
   ]
  },
  {
   "cell_type": "code",
   "execution_count": null,
   "id": "4fee28ff",
   "metadata": {},
   "outputs": [],
   "source": [
    "np.all(loan_df.ApplicantIncome + loan_df.CoapplicantIncome == loan_df.Total_Income)"
   ]
  },
  {
   "cell_type": "markdown",
   "id": "47b5e73d",
   "metadata": {},
   "source": [
    "Đúng như dự đoán, `Total_income = ApplicantIncome + CoapplicantIncome` :)\n",
    "\n",
    "Tuy nhiên, em quyết định không loại bỏ cột nào cả vì có thể sau này cần dùng đến."
   ]
  },
  {
   "cell_type": "markdown",
   "id": "e24a5ce6",
   "metadata": {},
   "source": [
    "## Với mỗi cột dữ liệu dạng categorical, các giá trị được phân bố như thế nào?"
   ]
  },
  {
   "cell_type": "markdown",
   "id": "5af1448b",
   "metadata": {},
   "source": [
    "Ta tính cần tính\n",
    "- missing_ratio: tỉ lệ phần trăm các giá trị thiếu.\n",
    "- nums_diff_values: số lượng giá trị khác nhau (không xét giá trị thiếu).\n",
    "- diff_vals_ratio: tỉ lệ phần trăm của mỗi giá trị khác nhau ứng với mỗi cột (không xét giá trị thiếu), lưu dạng dictionary với key là tên giá trị và value là tỉ lệ phần trăm của giá trị đó."
   ]
  },
  {
   "cell_type": "code",
   "execution_count": null,
   "id": "f8e094c6",
   "metadata": {
    "scrolled": false
   },
   "outputs": [],
   "source": [
    "def missing_ratio(s):\n",
    "    return s.isna().mean()*100\n",
    "def nums_diff_values(s):\n",
    "    return s.dropna().nunique()\n",
    "def diff_vals_ratio(s):\n",
    "    s = s.dropna()\n",
    "    return (s.value_counts()/len(s)*100).to_dict()\n",
    "\n",
    "#cate_cols = loan_df.select_dtypes(exclude=['float32','float64','int32','int64'])\n",
    "cate_cols = loan_df.columns[loan_df.nunique() <= 9]\n",
    "cate_cols = loan_df[cate_cols]\n",
    "cate_cols_info = cate_cols.agg([missing_ratio, nums_diff_values, diff_vals_ratio])\n",
    "cate_cols_info"
   ]
  },
  {
   "cell_type": "markdown",
   "id": "3415b65c",
   "metadata": {},
   "source": [
    "Ta tiến hành trực quan hoá để có cái nhìn tổng quát hơn về dữ liệu categories"
   ]
  },
  {
   "cell_type": "code",
   "execution_count": null,
   "id": "939d6107",
   "metadata": {},
   "outputs": [],
   "source": [
    "for col in cate_cols :\n",
    "    loan_df[col].value_counts().plot.bar()\n",
    "    plt.xlabel(col)\n",
    "    plt.show()"
   ]
  },
  {
   "cell_type": "markdown",
   "id": "de3ed39f",
   "metadata": {},
   "source": [
    "Ta thấy các dữ liệu dạng categorical khá ổn và giống với mô tả về tập dữ liệu."
   ]
  },
  {
   "cell_type": "markdown",
   "id": "0add4656",
   "metadata": {},
   "source": [
    "## Với mỗi cột dữ liệu dạng numerical, các giá trị được phân bố như thế nào?"
   ]
  },
  {
   "cell_type": "markdown",
   "id": "0018d919",
   "metadata": {},
   "source": [
    "Ta tiến hành tính các thông số missing_ratio (tỉ lệ phần trăm các giá trị thiếu), mean, min, median, max.\n",
    "\n",
    "- Các cột `Dependents`, `Loan_Amount_Term` và `Credit_History` chỉ gồm một số giá trị cố định (quá trình thống kê sẽ không khả quan), nên ta sẽ không xét các cột đó trong quá trình thống kê. Ta tiến hành lấy các cột có nhiều hơn 10 giá trị khác nhau để xem phân bố giá trị của các cột đó."
   ]
  },
  {
   "cell_type": "code",
   "execution_count": null,
   "id": "986d3657",
   "metadata": {
    "scrolled": false
   },
   "outputs": [],
   "source": [
    "\n",
    "nume_cols = loan_df.columns[loan_df.nunique() > 9]\n",
    "nume_cols = loan_df[nume_cols]\n",
    "nume_cols_info = nume_cols.agg([missing_ratio,'mean', 'std', 'min','median','max'])\n",
    "nume_cols_info"
   ]
  },
  {
   "cell_type": "markdown",
   "id": "70065b2d",
   "metadata": {},
   "source": [
    "Ta sẽ tiến hành trực quan hoá dữ liệu dạng numeric xem có gì bất thường không."
   ]
  },
  {
   "cell_type": "code",
   "execution_count": null,
   "id": "c35d7bee",
   "metadata": {},
   "outputs": [],
   "source": [
    "for col in nume_cols:\n",
    "    loan_df[col].plot.hist(bins=50)\n",
    "    plt.xlabel(col)\n",
    "    plt.show()"
   ]
  },
  {
   "cell_type": "markdown",
   "id": "774bb5f1",
   "metadata": {},
   "source": [
    "Ta nhận thấy outlier của các **cột dữ liệu numerical** khá là kinh dị và sẽ rất tệ nếu ta không xử lý chúng."
   ]
  },
  {
   "cell_type": "markdown",
   "id": "4b0869b3",
   "metadata": {},
   "source": [
    "## Tiếp tục tiền xử lý cho các cột numerical"
   ]
  },
  {
   "cell_type": "markdown",
   "id": "bc84680b",
   "metadata": {},
   "source": [
    "### Xóa outlier như thế nào?"
   ]
  },
  {
   "cell_type": "markdown",
   "id": "f1002eee",
   "metadata": {},
   "source": [
    "- Quan sát biểu đồ được trực quan hóa, ta có thể thấy giá trị của cột cột có dạng phân phối chuẩn (theo kinh nghiệm nhìn biểu đồ nhiều).\n",
    "- Theo định luật Empirical : https://www.investopedia.com/terms/e/empirical-rule.asp\n",
    "- 99.7% dữ liệu nằm trong khoảng [mean - 3*std , mean + 3 *std], những phần còn lại nằm ngoài khoảng này đều là linh tinh hết (outlier)."
   ]
  },
  {
   "cell_type": "code",
   "execution_count": null,
   "id": "eabc526f",
   "metadata": {},
   "outputs": [],
   "source": [
    "def notOutlierRange(s):\n",
    "    _mean = s.mean()\n",
    "    _std = s.std()\n",
    "    return (_mean - 3 * _std , _mean + 3* _std)"
   ]
  },
  {
   "cell_type": "markdown",
   "id": "c0b88b52",
   "metadata": {},
   "source": [
    "Test hàm"
   ]
  },
  {
   "cell_type": "code",
   "execution_count": null,
   "id": "6280d7b0",
   "metadata": {
    "scrolled": true
   },
   "outputs": [],
   "source": [
    "notOutlierRange(loan_df.Loan_Amount_Term)"
   ]
  },
  {
   "cell_type": "markdown",
   "id": "8dd6f4e9",
   "metadata": {},
   "source": [
    "### Đợi đã, việc xóa này có ảnh hưởng đến tính trực quan của dữ liệu không?"
   ]
  },
  {
   "cell_type": "markdown",
   "id": "9737adf8",
   "metadata": {},
   "source": [
    "Đầu tiên, ta sẽ xem số outlier bị loại bỏ có nhiều không bằng cách tính tỉ lệ outlier có trong từng cột"
   ]
  },
  {
   "cell_type": "code",
   "execution_count": null,
   "id": "e954fc66",
   "metadata": {},
   "outputs": [],
   "source": [
    "for col in nume_cols:\n",
    "    front,rear = notOutlierRange(loan_df[col])\n",
    "    s = loan_df[col]\n",
    "    before = len(s)\n",
    "    #print(\n",
    "    after = len(s.loc[(s > front) & (s < rear)])\n",
    "    print(col)\n",
    "    print(\"{}%\".format(((before-after)/after)*100))"
   ]
  },
  {
   "cell_type": "markdown",
   "id": "3857401d",
   "metadata": {},
   "source": [
    "Các cột trên hầu chỉ chỉ có 1.4 %, không đáng quan ngại. Nhưng cột `LoanAmount` lên tới ~6% !  \n",
    "Hãy cùng xem tìm chuyện gì sẽ xảy ra nếu ta loại bỏ tất cả outlier. "
   ]
  },
  {
   "cell_type": "code",
   "execution_count": null,
   "id": "1ac68443",
   "metadata": {
    "scrolled": true
   },
   "outputs": [],
   "source": [
    "loan_df_copy = copy.deepcopy(loan_df)\n",
    "for col in nume_cols:\n",
    "    front,rear = notOutlierRange(loan_df_copy[col])\n",
    "    loan_df_copy = loan_df_copy.drop(loan_df_copy[~((loan_df_copy[col] > front) & (loan_df_copy[col] < rear))].index)\n",
    "(1 - (loan_df_copy.shape[0]/loan_df.shape[0]))*100"
   ]
  },
  {
   "cell_type": "markdown",
   "id": "c8d56546",
   "metadata": {},
   "source": [
    "Sau khi loại bỏ tất cả outlier thì dữ liệu giảm đi 15%, con số này có vẻ không đáng quan ngại."
   ]
  },
  {
   "cell_type": "markdown",
   "id": "b5eb3da6",
   "metadata": {},
   "source": [
    "Ta tiến hành tạo bản copy của `loan_df` để xem tình hình ra sao."
   ]
  },
  {
   "cell_type": "code",
   "execution_count": null,
   "id": "5eac1780",
   "metadata": {},
   "outputs": [],
   "source": [
    "for col in nume_cols:\n",
    "    loan_df_copy[col].plot.hist(bins=50)\n",
    "    plt.xlabel(col)\n",
    "    plt.show()"
   ]
  },
  {
   "cell_type": "markdown",
   "id": "0994b902",
   "metadata": {},
   "source": [
    "Có vẻ khả quan, ta tiến hành bỏ outliers trên `loan_df`"
   ]
  },
  {
   "cell_type": "code",
   "execution_count": null,
   "id": "fdaf2fde",
   "metadata": {},
   "outputs": [],
   "source": [
    "loan_df = loan_df_copy\n",
    "# loan_df = loan_df.reset_index(drop=True)\n",
    "loan_df.head()"
   ]
  },
  {
   "cell_type": "markdown",
   "id": "db11cae6",
   "metadata": {},
   "source": [
    "# Câu hỏi : Những yếu tố nào ảnh hướng đến **Tổng thu nhập** của từng người?"
   ]
  },
  {
   "cell_type": "markdown",
   "id": "97e5aba2",
   "metadata": {},
   "source": [
    "Một câu hỏi cực kì thú vị mà nếu trả lời được thì trong một số trường hợp nếu ta cần đoán thu nhập của một người nào đó thì có thể dùng những dữ liệu dễ có hơn để từ đó suy ra người này có thu nhập cao hay thấp.  \n",
    "Một ví dụ thực tế : trong đời sống ta nếu ta biết một người có tốt nghiệp (trong trường hợp data này là cột `Education`) thì ta sẽ đoán rằng người này sẽ có thu nhập cao hơn những người không có bằng cấp. Từ đó, ta sẽ có những quyết định đúng đắn như làm quen, tạo mối quan hệ (thấy sang bắt quàng làm họ) chẳng hạn, hoặc gạ hỏi có muốn mua nhà mua đất không,...?  \n",
    "Tất nhiên là tri thức ở ví dụ trên chỉ là ví dụ ;-) . Chúng ta hãy cùng đi kiểm chứng để trả lời câu hỏi này nhé. "
   ]
  },
  {
   "cell_type": "markdown",
   "id": "5e0c926a",
   "metadata": {},
   "source": [
    "## Tiền xử lý cho câu hỏi"
   ]
  },
  {
   "cell_type": "markdown",
   "id": "eada9f8c",
   "metadata": {},
   "source": [
    "### Có dòng nào thu nhập là null không?"
   ]
  },
  {
   "cell_type": "markdown",
   "id": "6b2b7409",
   "metadata": {},
   "source": [
    "Vì trung tâm của câu hỏi là Cột `ApplicantIncome`,tức thu nhập cá nhân nên những dòng nào thiếu dữ liệu thu nhập cá nhân sẽ bị loại bỏ. Ta tiến hành kiểm tra xem có dòng nào bị thiếu như vậy không."
   ]
  },
  {
   "cell_type": "code",
   "execution_count": null,
   "id": "3c8ab584",
   "metadata": {},
   "outputs": [],
   "source": [
    "loan_df['ApplicantIncome'].isnull().any()"
   ]
  },
  {
   "cell_type": "markdown",
   "id": "99c9f7ec",
   "metadata": {},
   "source": [
    "Hên quá không có dòng nào thiếu hết :-)"
   ]
  },
  {
   "cell_type": "markdown",
   "id": "6125cf1f",
   "metadata": {},
   "source": [
    "### Chuyển cột `Loan_Amount_Term`"
   ]
  },
  {
   "cell_type": "markdown",
   "id": "1ed6a259",
   "metadata": {},
   "source": [
    "Ta nhận thấy sau khi loại bỏ outlier thì cột `Loan_Amount_Term` quá ít loại dữ liệu nên ta sẽ chuyển nó sang dạng categories."
   ]
  },
  {
   "cell_type": "code",
   "execution_count": null,
   "id": "fab32d35",
   "metadata": {},
   "outputs": [],
   "source": [
    "try:\n",
    "    nume_cols = nume_cols.drop(columns=\"Loan_Amount_Term\")\n",
    "except:\n",
    "    pass\n",
    "try:\n",
    "    cate_cols[\"Loan_Amount_Term\"] = loan_df[\"Loan_Amount_Term\"]\n",
    "except:\n",
    "    pass\n",
    "cate_cols.head()"
   ]
  },
  {
   "cell_type": "markdown",
   "id": "1024cdd5",
   "metadata": {},
   "source": [
    "## Cột numeric"
   ]
  },
  {
   "cell_type": "markdown",
   "id": "2c71a27b",
   "metadata": {},
   "source": [
    "Vì số lượng cột số khá ít nên bọn em sẽ trực quan hoá mối liên hệ giữa từng cột numeric với tổng thu nhập."
   ]
  },
  {
   "cell_type": "code",
   "execution_count": null,
   "id": "fe0c104e",
   "metadata": {},
   "outputs": [],
   "source": [
    "for col in nume_cols:\n",
    "    if col == \"ApplicantIncome\":\n",
    "        continue\n",
    "    sns.lmplot(x=col,y='ApplicantIncome',data=loan_df[[col,\"ApplicantIncome\"]],fit_reg=True)\n"
   ]
  },
  {
   "cell_type": "markdown",
   "id": "c80fd120",
   "metadata": {},
   "source": [
    "- Hai cột income cộng lại bằng cột income tổng (đã khám phá ra ở bước khám phá dữ liệu). Ta cũng có thể thấy sự tỉ lệ thuận của hai cột này với TotalIncome.\n",
    "- Cột LoanAmount có vẻ tỉ lệ thuận với thu nhập cá nhân.  \n",
    "==> Ta có kết luận khá thú vị : người càng có thu nhập thì vay tiền càng nhiều.\n",
    "- Với cột CoapplicantIncome, ta nhận thấy có rất nhiều người đi vay mà không có đối tác, vì vậy nên biểu đồ nhìn không được trực quan cho lắm...  \n"
   ]
  },
  {
   "cell_type": "markdown",
   "id": "9eaba5dd",
   "metadata": {},
   "source": [
    "### Trực quan riêng cột CopplicantIncome"
   ]
  },
  {
   "cell_type": "markdown",
   "id": "34000eb2",
   "metadata": {},
   "source": [
    "Thật ra bọn em tính để phần xử lý này lên khúc tiền xử lý phía trên. Tuy nhiên, làm như vậy thì không thể hiện rõ được cái flow làm việc của bọn em một cách chân thật nhất :tiền xử lý -> đặt vấn đề -> giải quyết -> tạo vấn đề mới -> giải quyết -> ..."
   ]
  },
  {
   "cell_type": "markdown",
   "id": "71beebeb",
   "metadata": {},
   "source": [
    "Trước khi tiến hành, bọn em sẽ loại bỏ những dòng có CoaplicantIncome bằng 0, tức những người không có đối tác trong hợp đồng vay.  \n",
    "Lý do bọn em làm như vậy vì : mục đích của việc so sánh 2 cột này là thấy được giữa thu nhập của cá nhân của 1 người so với thu nhập của đối tác người đó, nếu người đó không có đối tác thì lấy gì mà so sánh?"
   ]
  },
  {
   "cell_type": "code",
   "execution_count": null,
   "id": "6bb4d58d",
   "metadata": {},
   "outputs": [],
   "source": [
    "have_coapplicant_df = loan_df[loan_df['CoapplicantIncome'] != 0]\n",
    "have_coapplicant_df\n",
    "col = 'CoapplicantIncome'\n",
    "sns.lmplot(x=col,y='ApplicantIncome',data = have_coapplicant_df[[col,'ApplicantIncome']],fit_reg=True)"
   ]
  },
  {
   "cell_type": "markdown",
   "id": "81f3d472",
   "metadata": {},
   "source": [
    "Thật đáng buồn là không có thông tin gì được rút trích từ biểu đồ này cả :'("
   ]
  },
  {
   "cell_type": "markdown",
   "id": "d22e3005",
   "metadata": {},
   "source": [
    "## Cột categories"
   ]
  },
  {
   "cell_type": "code",
   "execution_count": null,
   "id": "5d44cec8",
   "metadata": {},
   "outputs": [],
   "source": [
    "_compare = []\n",
    "for col in cate_cols:\n",
    "    _compare.append(loan_df[[col,\"ApplicantIncome\"]].groupby(col).mean())\n",
    "    _compare[-1].plot.bar()\n",
    "    plt.show()"
   ]
  },
  {
   "cell_type": "markdown",
   "id": "aadf59db",
   "metadata": {},
   "source": [
    "Như vậy là ta đã có được những yếu tố ảnh hưởng đến tổng thu nhập của một cá nhân như : giới tính, hôn nhân, self-employ,...  \n",
    "- Nam có thu nhập nhiều hơn nữ  \n",
    "- Sau khi kết hôn, thu nhập giảm nhẹ.\n",
    "- Càng gần trung tâm (tức mức độ đô thị hoá cao) thì càng có thu nhập cao.  \n",
    "- Người có bằng cấp thì thu nhập cao hơn.  \n",
    "- Người làm công (tức không phải self-employed) thì thu nhập thấp hơn.  \n",
    "\n",
    "Tuy nhiên, bọn em khá tò mò về hai đặc trưng khá là liên quan nhau : giới tính và kết hôn. Liệu rằng Income của một giới sẽ thay đổi như nào trước khi kết hôn và sau khi kết hôn? Ví dụ như liệu rằng thu nhập của nữ có tăng lên (thu tiền lương của chồng) hay thu nhập của nam sẽ giảm xuống (điều ngược lại)."
   ]
  },
  {
   "cell_type": "markdown",
   "id": "97158503",
   "metadata": {},
   "source": [
    "Để trả lời, bọn em sẽ dùng kĩ thuật gom nhóm (hay còn gọi là groupby, một kỹ thuật rất hay bọn em **học được của thầy Kiên**) dựa vào giới tính vào tình trạng hôn nhân và tính trung bình thu nhập của từng nhóm."
   ]
  },
  {
   "cell_type": "code",
   "execution_count": null,
   "id": "5c570040",
   "metadata": {},
   "outputs": [],
   "source": [
    "gender_married = loan_df.groupby([\"Gender\",\"Married\"]).mean()[\"ApplicantIncome\"]"
   ]
  },
  {
   "cell_type": "code",
   "execution_count": null,
   "id": "60721f1e",
   "metadata": {
    "scrolled": true
   },
   "outputs": [],
   "source": [
    "gender_married.plot.bar()"
   ]
  },
  {
   "cell_type": "markdown",
   "id": "502db197",
   "metadata": {},
   "source": [
    "Có vẻ nam và nữ đều giảm mức thu nhập bình quân nếu so với nhóm chưa kết hôn. \n",
    "Ta tiến hành so sánh sự chệnh lệnh trước và sau hôn nhân của nam và nữ (tăng lên bao nhiêu %).  \n",
    "Ở đây, bọn em sử dụng kỹ thuật thay đổi shape của dataframe (một kỹ thuật rất hay bọn em học được của thầy Kiên)."
   ]
  },
  {
   "cell_type": "code",
   "execution_count": null,
   "id": "6db7c5ae",
   "metadata": {},
   "outputs": [],
   "source": [
    "gender_married_diff = gender_married.unstack(1).T\n",
    "(gender_married_diff.loc['Yes'].subtract(gender_married_diff.loc['No'])).divide(gender_married_diff.loc['No'])*100"
   ]
  },
  {
   "cell_type": "markdown",
   "id": "3c670e41",
   "metadata": {},
   "source": [
    "Có vẻ như sau khi tiến đến hôn nhân, thu nhập của phái nữ giảm mạnh hơn so với nam (gấp 2 lần)  \n",
    "Lý do là gì nhỉ? Có thể do phái nữ sau khi kết hôn thì đi làm ít hơn nên lương ít hơn chăng?  \n",
    "Còn đàn ông tại sao lại giảm thu nhập?\n",
    "Có quá ít dữ liệu để có thể phân tích cho những câu hỏi này nên em quyết định dừng tại đây."
   ]
  },
  {
   "cell_type": "markdown",
   "id": "aa2c013f",
   "metadata": {},
   "source": [
    "## Trả lời cho câu hỏi ban đầu\n",
    "Như vậy, ta đã có câu trả lời cho câu hỏi đưa ra từ đầu : \n",
    "- Càng vay nhiều tiền thì thu nhập càng cao\n",
    "- Nam có thu nhập nhiều hơn nữ\n",
    "- Khi kết hôn, thu nhập giảm\n",
    "- Sau khi kết hôn, thu nhập phụ nữ giảm mạnh hơn đàn ông (gấp 2 lần). Chưa kết luận được lý do, nhưng có thể do phụ nữ làm ít đi để lo việc nhà cửa. \n",
    "- Càng gần trung tâm (tức mức độ đô thị hoá cao) thì càng có thu nhập cao.\n",
    "- Người có bằng cấp thì thu nhập cao hơn.\n",
    "- Người làm công (tức không phải self-employed) thì thu nhập thấp hơn.  \n",
    "\n",
    "Tuy nhiên, hai biến với nhau cũng không thể kết luận là có quan hệ nhân quả. Bọn em chỉ có thể đưa ra những ý tưởng, còn việc kiểm chứng thì phải cần nhiều nỗ lực lẫn dữ liệu hơn (điều mà không bao gồm trong khuôn khổ đồ án này)."
   ]
  },
  {
   "cell_type": "markdown",
   "id": "7acb3494",
   "metadata": {},
   "source": [
    "# Mô hình phân lớp"
   ]
  },
  {
   "cell_type": "markdown",
   "id": "88194335",
   "metadata": {},
   "source": [
    "Trong quá trình học, thầy Kiên đã dạy bọn em kiến thức rất hữu ích về numpy mà nếu không dùng trong đồ án cuối kỳ này sẽ là một sự lãng phí.  \n",
    "Tuy nhiên, do thời gian có hạn nên bọn em sẽ tái sử dụng mã nguồn (ở môn Data mining) do chính bọn em code. Thật may mắn khi bọn em đã được thầy dạy numpy nên làm đồ án của môn này rất suôn sẻ."
   ]
  },
  {
   "cell_type": "markdown",
   "id": "02a73c90",
   "metadata": {},
   "source": [
    "## Class cây quyết định"
   ]
  },
  {
   "cell_type": "markdown",
   "id": "c869810f",
   "metadata": {},
   "source": [
    "Đầu tiên ta sẽ định nghĩa một hàm trả về Entrophy (chỉ số hỗn loạn của thông tin).  \n",
    "Chỉ số hỗn loạn của thông tin cho biết độ tinh khiết của tập dữ liệu có được. Tập dữ liệu càng thống nhất thì chỉ số hỗn loạn càng ít, tức nhìn vào tập dữ liệu đó càng dễ đoán được tập dữ liệu thuộc lớp nào. Nói lý thuyết hơi khó hiểu, hãy đọc ví dụ bên dưới rồi nghiệm lại lý thuyết xem nào.  \n",
    "Lấy ví dụ : trong chuyện cổ tích Tấm Cám, khi dì ghẻ trộn đậu xanh đậu đỏ lại với nhau trong 1 cái rổ, khi đó ta nói cái rổ có độ hỗn loạn cao vì nếu bốc đại một hạt ngẫu nhiên thì rất khó biết đó sẽ là đậu xanh hay đậu đỏ. Còn khi bụt đã cho chim sẻ phân lớp cái rổ đó ra thành hai rổ đậu xanh và đậu đỏ thì hai cái rổ đó có độ hỗn loạn thấp vì mỗi rỗ chỉ chứa 1 loại đậu, khi bốc đại 1 hạt ở giỏ thì khả năng cao sẽ biết được đó là hạt đậu xanh hay đậu đỏ.  \n",
    "Công thức của hàm etrophy là : sum (p_i * log(p_i)) với i là class trong tập dữ liệu."
   ]
  },
  {
   "cell_type": "code",
   "execution_count": null,
   "id": "4aa9fbab",
   "metadata": {},
   "outputs": [],
   "source": [
    "def get_entrophy(y,returnMaxCount = False):\n",
    "    unique,count = np.unique(y,return_counts=True)\n",
    "    p = count/len(y)\n",
    "    if returnMaxCount == False:\n",
    "        return -np.sum(p*np.log(p))\n",
    "    else:\n",
    "        return -np.sum(p*np.log(p)),unique[count==np.max(count)][0],np.max(count)"
   ]
  },
  {
   "cell_type": "markdown",
   "id": "a22b19d8",
   "metadata": {},
   "source": [
    "Ta tiến hành tính entrophy cho từng cột. Tập dữ liệu sẽ phân ra nhiều tập con dựa theo một feature được định sẵn. Sau đó, ta sẽ tính tổng chỉ số entrophy của các tập con đó.  "
   ]
  },
  {
   "cell_type": "code",
   "execution_count": null,
   "id": "e3d8cec5",
   "metadata": {},
   "outputs": [],
   "source": [
    "def get_entrophy_col(X,y,col_index):\n",
    "    X_col = X[:,col_index]\n",
    "    res = 0\n",
    "    N = len(y)\n",
    "    unique,counts = np.unique(X_col,return_counts=True)\n",
    "    for value,count in zip(unique,counts):\n",
    "        #print(value,count,get_entrophy(y[X_col==value]))\n",
    "        res += (count/N)* get_entrophy(y[X_col==value])\n",
    "    return res"
   ]
  },
  {
   "cell_type": "markdown",
   "id": "9cc976a4",
   "metadata": {},
   "source": [
    "Dựa vào hàm trên, ta xem feature nào cho ra tổng entrophy thấp nhất.  "
   ]
  },
  {
   "cell_type": "code",
   "execution_count": null,
   "id": "a5b50ce9",
   "metadata": {},
   "outputs": [],
   "source": [
    "def find_best_col(X,y):\n",
    "    min_entrophy = float('inf')\n",
    "    best_col = -1\n",
    "    for col in range(X.shape[1]):\n",
    "        entrophy = get_entrophy_col(X,y,col)\n",
    "        if min_entrophy > entrophy:\n",
    "            min_entrophy = entrophy\n",
    "            best_col = col\n",
    "    return best_col,min_entrophy"
   ]
  },
  {
   "cell_type": "markdown",
   "id": "09fbced1",
   "metadata": {},
   "source": [
    "Sơ qua về mô hình tạo cây phân lớp : mỗi tập dữ liệu sẽ là một node. Nếu tập dữ liệu đó có độ hỗn loạn ở mức chấp nhận được thì dừng. Nếu không thì chia nhỏ ra thành các node con bằng cách tìm ra cột để phân chia tốt nhất bằng hàm ở trên.  "
   ]
  },
  {
   "cell_type": "code",
   "execution_count": null,
   "id": "711bf88e",
   "metadata": {},
   "outputs": [],
   "source": [
    "from sklearn.metrics import accuracy_score\n",
    "from sklearn.model_selection import train_test_split\n",
    "from anytree.importer import DictImporter\n",
    "from anytree import RenderTree\n",
    "class DecisionTree:\n",
    "    def __init__(self,threshold=1.0):\n",
    "        self.root = {}\n",
    "        self.threshold=threshold\n",
    "        #node is a dictionary :\n",
    "# ╔═══════════════════════╦════════════════════════════════════════════════╗\n",
    "# ║ key                   ║ ý nghĩa                                        ║\n",
    "# ╠═══════════════════════╬════════════════════════════════════════════════╣\n",
    "# ║ children              ║ list chứa các node con                         ║\n",
    "# ╠═══════════════════════╬════════════════════════════════════════════════╣\n",
    "# ║ col_index             ║ chứa chỉ số cột dùng để phân chia              ║\n",
    "# ╠═══════════════════════╬════════════════════════════════════════════════╣\n",
    "# ║ col_val               ║ gíá trị nhận được của cột được chọn ở node cha ║\n",
    "# ╠═══════════════════════╬════════════════════════════════════════════════╣\n",
    "# ║ result(leafnode only) ║ kết quả phân lớp cuối cùng                     ║\n",
    "# ╚═══════════════════════╩════════════════════════════════════════════════╝\n",
    "    def fit(self, X_train, y_train):\n",
    "        self.root = {}\n",
    "        self.fit_recur(X_train,y_train,self.root)\n",
    "    def fit_recur(self, X_train, y_train,node={}):\n",
    "        if(np.all(y_train==y_train[0])):\n",
    "            node ['result']=y_train[0][0]\n",
    "            return\n",
    "        y_entrophy,popular_value,maxcount = get_entrophy(y_train,returnMaxCount=True)\n",
    "        #print(maxcount/len(y_train))\n",
    "        if maxcount/len(y_train)>self.threshold:\n",
    "            node['result'] = popular_value\n",
    "            return\n",
    "        node['col_index'],entrophy=find_best_col(X_train,y_train)\n",
    "        #print(y_entrophy,entrophy)\n",
    "        if(y_entrophy - entrophy<0.01):\n",
    "            node['result'] = popular_value\n",
    "            return\n",
    "        node['children']=[]\n",
    "        for val in set(X_train[:,node['col_index']]):\n",
    "            child_node = {}\n",
    "            child_node['col_val'] = val\n",
    "            row_to_train = X_train[:,node['col_index']]==val\n",
    "            self.fit_recur(X_train[row_to_train],y_train[row_to_train],child_node)\n",
    "            node['children'].append(child_node)\n",
    "    def predict(self, X_test):\n",
    "        y = []\n",
    "        for i,x in enumerate(X_test):\n",
    "            y.append(self._predict(x))\n",
    "        return np.array(y)\n",
    "    def _predict(self,X):\n",
    "        node = self.root\n",
    "        unk = 0\n",
    "        while('children' in node): #còn có node con\n",
    "            unk = 1\n",
    "            for child in node['children']:\n",
    "                if(X[node['col_index']]==child['col_val']):\n",
    "                    node = child\n",
    "                    unk = 0\n",
    "                    break\n",
    "                \n",
    "            if unk:\n",
    "                return 'unknown'\n",
    "        return node['result']\n",
    "    def visualize(self):\n",
    "        importer = DictImporter()\n",
    "        root = importer.import_(self.root)\n",
    "        print(RenderTree(root))"
   ]
  },
  {
   "cell_type": "markdown",
   "id": "2524d4ee",
   "metadata": {},
   "source": [
    "## Tiền xử lý cho mô hình"
   ]
  },
  {
   "cell_type": "markdown",
   "id": "e3bce310",
   "metadata": {},
   "source": [
    "Lấy những cột feature trong dataframe. Tuy nhiên, do thời gian có hạn nên bọn em chưa kịp code xử lý những cột dạng numeric (dù có ý tưởng, nhóm sẽ trình bày bên dưới).  \n",
    "Nên bọn em sẽ chỉ lấy những cột có dạng categories (là những cột có só giá trị phân biệt bé hơn 9). \n",
    "Đồng thời, giá trị NaN sẽ được coi là một giá trị, nhóm sẽ đổi những giá trị NaN thành `unknown`.  \n",
    "Những giá trị Nan trong những cột định dạng số (nhưng bản chất là categories, cụ thể là `Dependents` và `Credit_History`) sẽ được gán cho giá trị `-1`.\n",
    "\n",
    "Tất cả sẽ được biểu diễn dưới dạng numpy array.  \n",
    "Lý do bọn em chọn numpy array thay cho dataframe vì nó có tốc độ gần ngang với array thuần C (hình như thấy Kiên có nói :D)."
   ]
  },
  {
   "cell_type": "code",
   "execution_count": null,
   "id": "a558f0d5",
   "metadata": {},
   "outputs": [],
   "source": [
    "cate_cols = loan_df.columns[loan_df.nunique() <= 9]\n",
    "cate_cols = loan_df[cate_cols]\n",
    "X = cate_cols.fillna('unknown')\n",
    "X['Dependents'] = X['Dependents'].replace({'unknown':-1})\n",
    "X['Credit_History'] = X['Credit_History'].replace({'unknown':-1})\n",
    "X = np.array(X)\n",
    "X = X[:,:-1]"
   ]
  },
  {
   "cell_type": "markdown",
   "id": "9f5ce28b",
   "metadata": {},
   "source": [
    "Lấy cột label từ loan_df đã qua xử lý rồi chuyển nó về numpy array.  "
   ]
  },
  {
   "cell_type": "code",
   "execution_count": null,
   "id": "2430c958",
   "metadata": {},
   "outputs": [],
   "source": [
    "y = loan_df['Loan_Status'].reset_index().drop(columns=['index'])\n",
    "y = np.array(y)"
   ]
  },
  {
   "cell_type": "markdown",
   "id": "7062fe31",
   "metadata": {},
   "source": [
    "Phân chia tập train và test. Đây là bước quan trọng trong học máy. Bạn đọc chỉ cần hiểu là mô hình sẽ huấn luyện và thử nghiệm trên mô hình khác nhau để khách quan việc huấn luyện.  "
   ]
  },
  {
   "cell_type": "code",
   "execution_count": null,
   "id": "cff24358",
   "metadata": {},
   "outputs": [],
   "source": [
    "X_train,X_val,y_train,y_val = train_test_split(X,y,test_size=3/10,random_state=156+212)"
   ]
  },
  {
   "cell_type": "markdown",
   "id": "04724776",
   "metadata": {},
   "source": [
    "## Huấn luyện mô hình"
   ]
  },
  {
   "cell_type": "markdown",
   "id": "a581a06f",
   "metadata": {},
   "source": [
    "Huấn luyện mô hình rồi coi mô hình tính dựa vào cái gì để biết một người có được vay hay không.  "
   ]
  },
  {
   "cell_type": "code",
   "execution_count": null,
   "id": "d058f9ac",
   "metadata": {},
   "outputs": [],
   "source": [
    "tree = DecisionTree()\n",
    "tree.fit(X_train,y_train)\n",
    "print(cate_cols.columns)\n",
    "tree.visualize()"
   ]
  },
  {
   "cell_type": "markdown",
   "id": "5829d5b2",
   "metadata": {},
   "source": [
    "Ồ, có vẻ khá là phức tạp, nhìn sơ qua thì cột `Credit_History`, tức cột số 6 sẽ được đem ra để xem xét trước, ta có thể tạm kết luận đây là đặc trưng quan trọng nhất, ảnh hưởng nhiều nhất đến việc xét coi người này có được vay hay không.  \n",
    "\n",
    "Quan sát kĩ hơn một chút (nhưng vẫn chỉ ở mức độ sơ sơ), ta thấy nếu một người có lịch sử tín dụng, thì ngân hàng sẽ xét đến coi người này ở đâu : thành thị, nông thôn hay thị xã? Còn nếu chưa có lịch sử tín dụng thì sẽ đến trình độ học vấn. Còn nếu thông tin chưa có thì chuyển sang giới tính (???).  \n",
    "\n"
   ]
  },
  {
   "cell_type": "markdown",
   "id": "c4cd8973",
   "metadata": {},
   "source": [
    "Trong trường hợp cây phân lớp không thể đưa ra dự đoán (đến node lá nhưng không có nhánh thuộc giá trị của feature của vector X đang xét) thì sẽ cho ra kết quả unknown.  \n",
    "Do ý đồ ban đầu của nhóm nên nếu không dự đoán được thì bỏ qua, không tính vào lỗi sai của mô hình.  \n",
    "Vì vậy, khi đánh giá, nhóm sẽ loại bỏ những kết quả `unknown` (bằng những kỹ thuật numpy rất hay của thầy Kiên)"
   ]
  },
  {
   "cell_type": "markdown",
   "id": "47f1ec2c",
   "metadata": {},
   "source": [
    "## Đánh giá mô hình"
   ]
  },
  {
   "cell_type": "code",
   "execution_count": null,
   "id": "bb4c74fd",
   "metadata": {},
   "outputs": [],
   "source": [
    "y_pred = tree.predict(X_val)\n",
    "unknown_col = (y_pred == 'unknown')\n",
    "print(accuracy_score(y_val[~unknown_col],y_pred[~unknown_col]))\n",
    "#print(accuracy_score(y_val,y_pred))\n"
   ]
  },
  {
   "cell_type": "markdown",
   "id": "7ff8f035",
   "metadata": {},
   "source": [
    "Một vài cột sample"
   ]
  },
  {
   "cell_type": "code",
   "execution_count": null,
   "id": "f939a0d2",
   "metadata": {},
   "outputs": [],
   "source": [
    "pd.DataFrame(y_val[~unknown_col],y_pred[~unknown_col]).sample(10)"
   ]
  }
 ],
 "metadata": {
  "kernelspec": {
   "display_name": "Python 3 (ipykernel)",
   "language": "python",
   "name": "python3"
  },
  "language_info": {
   "codemirror_mode": {
    "name": "ipython",
    "version": 3
   },
   "file_extension": ".py",
   "mimetype": "text/x-python",
   "name": "python",
   "nbconvert_exporter": "python",
   "pygments_lexer": "ipython3",
   "version": "3.10.0"
  },
  "toc": {
   "base_numbering": 1,
   "nav_menu": {},
   "number_sections": true,
   "sideBar": true,
   "skip_h1_title": false,
   "title_cell": "Table of Contents",
   "title_sidebar": "Contents",
   "toc_cell": false,
   "toc_position": {},
   "toc_section_display": true,
   "toc_window_display": false
  }
 },
 "nbformat": 4,
 "nbformat_minor": 5
}
