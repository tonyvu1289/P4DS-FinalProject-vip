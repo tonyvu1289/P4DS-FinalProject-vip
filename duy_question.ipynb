{
 "cells": [
  {
   "cell_type": "markdown",
   "id": "c624d1c9",
   "metadata": {},
   "source": [
    "Tên thành viên: \n",
    "1. Vũ Công Duy - 19120212\n",
    "2. Tô Gia Thuận - 19120389"
   ]
  },
  {
   "cell_type": "markdown",
   "id": "0715c2c4",
   "metadata": {},
   "source": [
    "# Import thư viện"
   ]
  },
  {
   "cell_type": "code",
   "execution_count": 83,
   "id": "2661e9dc",
   "metadata": {},
   "outputs": [],
   "source": [
    "import numpy as np\n",
    "import pandas as pd\n",
    "import matplotlib.pyplot as plt\n",
    "import re\n",
    "import copy\n",
    "import seaborn as sns\n"
   ]
  },
  {
   "cell_type": "markdown",
   "id": "89b694ec",
   "metadata": {},
   "source": [
    "# Thu thập dữ liệu"
   ]
  },
  {
   "cell_type": "markdown",
   "id": "ea5f79c6",
   "metadata": {},
   "source": [
    "Dữ liệu được sử dụng trong đồ án này là tập dữ liệu được thu thập sẵn và được đăng tải trên Kaggle. Đây là tập dữ liệu thông tin về các khoản vay bao gồm thông tin cá nhân của người vay và khoản vay có được chấp nhận hay không.\n",
    "Dữ liệu bao gồm :  \n",
    "- File `df1_loan.csv` : tập dữ liệu \n",
    "\n",
    "Nguồn dữ liệu: [Loan Application Data](https://www.kaggle.com/vipin20/loan-application-data?fbclid=IwAR1fjcdLGjY-5E5rgJMjQwrH2PGrnum4G3dyXH2ZnEIE8rg1RXMu-7hA95Q)\n",
    "\n",
    "Thông tin mô tả dữ liệu được trích dẫn một phần từ nguồn trên:\n",
    ">About data set\n",
    "Among all industries, Banking domain has the largest use of analytics & data science methods. This data set would provide you enough taste of working on data sets from insurance companies and banks, what challenges are faced, what strategies are used, etc. This is a classification problem. The data has 615 rows and 14 features to predict weather loan approved or not approved.\n",
    "\n",
    ">Company wants to automate the loan eligibility process (real time) based on customer detail provided while filling online application form. These details are Gender, Marital Status, Education, Number of Dependents, Income, Loan Amount, Credit History and others. To automate this process, they have given a problem to identify the customers segments, those are eligible for loan amount so that they can specifically target these customers.\n",
    "\n"
   ]
  },
  {
   "cell_type": "markdown",
   "id": "3a778adb",
   "metadata": {},
   "source": [
    "# Khám phá dữ liệu (trong quá trình khám phá, có thể sẽ dừng lại để tiền xử lý)"
   ]
  },
  {
   "cell_type": "markdown",
   "id": "774754e4",
   "metadata": {},
   "source": [
    "## Đọc dữ liệu từ file vào dataframe"
   ]
  },
  {
   "cell_type": "code",
   "execution_count": 84,
   "id": "2724930b",
   "metadata": {
    "scrolled": true
   },
   "outputs": [
    {
     "data": {
      "text/html": [
       "<div>\n",
       "<style scoped>\n",
       "    .dataframe tbody tr th:only-of-type {\n",
       "        vertical-align: middle;\n",
       "    }\n",
       "\n",
       "    .dataframe tbody tr th {\n",
       "        vertical-align: top;\n",
       "    }\n",
       "\n",
       "    .dataframe thead th {\n",
       "        text-align: right;\n",
       "    }\n",
       "</style>\n",
       "<table border=\"1\" class=\"dataframe\">\n",
       "  <thead>\n",
       "    <tr style=\"text-align: right;\">\n",
       "      <th></th>\n",
       "      <th>Loan_ID</th>\n",
       "      <th>Gender</th>\n",
       "      <th>Married</th>\n",
       "      <th>Dependents</th>\n",
       "      <th>Education</th>\n",
       "      <th>Self_Employed</th>\n",
       "      <th>ApplicantIncome</th>\n",
       "      <th>CoapplicantIncome</th>\n",
       "      <th>LoanAmount</th>\n",
       "      <th>Loan_Amount_Term</th>\n",
       "      <th>Credit_History</th>\n",
       "      <th>Property_Area</th>\n",
       "      <th>Loan_Status</th>\n",
       "      <th>Total_Income</th>\n",
       "    </tr>\n",
       "  </thead>\n",
       "  <tbody>\n",
       "    <tr>\n",
       "      <th>0</th>\n",
       "      <td>LP001002</td>\n",
       "      <td>Male</td>\n",
       "      <td>No</td>\n",
       "      <td>0</td>\n",
       "      <td>Graduate</td>\n",
       "      <td>No</td>\n",
       "      <td>5849</td>\n",
       "      <td>0.0</td>\n",
       "      <td>NaN</td>\n",
       "      <td>360.0</td>\n",
       "      <td>1.0</td>\n",
       "      <td>Urban</td>\n",
       "      <td>Y</td>\n",
       "      <td>$5849.0</td>\n",
       "    </tr>\n",
       "    <tr>\n",
       "      <th>1</th>\n",
       "      <td>LP001003</td>\n",
       "      <td>Male</td>\n",
       "      <td>Yes</td>\n",
       "      <td>1</td>\n",
       "      <td>Graduate</td>\n",
       "      <td>No</td>\n",
       "      <td>4583</td>\n",
       "      <td>1508.0</td>\n",
       "      <td>128.0</td>\n",
       "      <td>360.0</td>\n",
       "      <td>1.0</td>\n",
       "      <td>Rural</td>\n",
       "      <td>N</td>\n",
       "      <td>$6091.0</td>\n",
       "    </tr>\n",
       "    <tr>\n",
       "      <th>2</th>\n",
       "      <td>LP001005</td>\n",
       "      <td>Male</td>\n",
       "      <td>Yes</td>\n",
       "      <td>0</td>\n",
       "      <td>Graduate</td>\n",
       "      <td>Yes</td>\n",
       "      <td>3000</td>\n",
       "      <td>0.0</td>\n",
       "      <td>66.0</td>\n",
       "      <td>360.0</td>\n",
       "      <td>1.0</td>\n",
       "      <td>Urban</td>\n",
       "      <td>Y</td>\n",
       "      <td>$3000.0</td>\n",
       "    </tr>\n",
       "    <tr>\n",
       "      <th>3</th>\n",
       "      <td>LP001006</td>\n",
       "      <td>Male</td>\n",
       "      <td>Yes</td>\n",
       "      <td>0</td>\n",
       "      <td>Not Graduate</td>\n",
       "      <td>No</td>\n",
       "      <td>2583</td>\n",
       "      <td>2358.0</td>\n",
       "      <td>120.0</td>\n",
       "      <td>360.0</td>\n",
       "      <td>1.0</td>\n",
       "      <td>Urban</td>\n",
       "      <td>Y</td>\n",
       "      <td>$4941.0</td>\n",
       "    </tr>\n",
       "    <tr>\n",
       "      <th>4</th>\n",
       "      <td>LP001008</td>\n",
       "      <td>Male</td>\n",
       "      <td>No</td>\n",
       "      <td>0</td>\n",
       "      <td>Graduate</td>\n",
       "      <td>No</td>\n",
       "      <td>6000</td>\n",
       "      <td>0.0</td>\n",
       "      <td>141.0</td>\n",
       "      <td>360.0</td>\n",
       "      <td>1.0</td>\n",
       "      <td>Urban</td>\n",
       "      <td>Y</td>\n",
       "      <td>$6000.0</td>\n",
       "    </tr>\n",
       "  </tbody>\n",
       "</table>\n",
       "</div>"
      ],
      "text/plain": [
       "    Loan_ID Gender Married Dependents     Education Self_Employed  \\\n",
       "0  LP001002   Male      No          0      Graduate            No   \n",
       "1  LP001003   Male     Yes          1      Graduate            No   \n",
       "2  LP001005   Male     Yes          0      Graduate           Yes   \n",
       "3  LP001006   Male     Yes          0  Not Graduate            No   \n",
       "4  LP001008   Male      No          0      Graduate            No   \n",
       "\n",
       "   ApplicantIncome  CoapplicantIncome  LoanAmount  Loan_Amount_Term  \\\n",
       "0             5849                0.0         NaN             360.0   \n",
       "1             4583             1508.0       128.0             360.0   \n",
       "2             3000                0.0        66.0             360.0   \n",
       "3             2583             2358.0       120.0             360.0   \n",
       "4             6000                0.0       141.0             360.0   \n",
       "\n",
       "   Credit_History Property_Area Loan_Status Total_Income  \n",
       "0             1.0         Urban           Y      $5849.0  \n",
       "1             1.0         Rural           N      $6091.0  \n",
       "2             1.0         Urban           Y      $3000.0  \n",
       "3             1.0         Urban           Y      $4941.0  \n",
       "4             1.0         Urban           Y      $6000.0  "
      ]
     },
     "execution_count": 84,
     "metadata": {},
     "output_type": "execute_result"
    }
   ],
   "source": [
    "loan_df = pd.read_csv('Data/df1_loan.csv', delimiter=',', index_col=0)\n",
    "loan_df.head()"
   ]
  },
  {
   "cell_type": "markdown",
   "id": "84ea1255",
   "metadata": {},
   "source": [
    "## Dữ liệu bao gồm bao nhiêu dòng và bao nhiêu cột?"
   ]
  },
  {
   "cell_type": "code",
   "execution_count": 85,
   "id": "01a10639",
   "metadata": {},
   "outputs": [
    {
     "data": {
      "text/plain": [
       "(500, 14)"
      ]
     },
     "execution_count": 85,
     "metadata": {},
     "output_type": "execute_result"
    }
   ],
   "source": [
    "loan_df.shape"
   ]
  },
  {
   "cell_type": "markdown",
   "id": "80981ddd",
   "metadata": {},
   "source": [
    "## Quan sát sơ lược về dữ liệu"
   ]
  },
  {
   "cell_type": "code",
   "execution_count": 86,
   "id": "fa09cbd2",
   "metadata": {},
   "outputs": [
    {
     "name": "stdout",
     "output_type": "stream",
     "text": [
      "<class 'pandas.core.frame.DataFrame'>\n",
      "Int64Index: 500 entries, 0 to 499\n",
      "Data columns (total 14 columns):\n",
      " #   Column             Non-Null Count  Dtype  \n",
      "---  ------             --------------  -----  \n",
      " 0   Loan_ID            500 non-null    object \n",
      " 1   Gender             491 non-null    object \n",
      " 2   Married            497 non-null    object \n",
      " 3   Dependents         488 non-null    object \n",
      " 4   Education          500 non-null    object \n",
      " 5   Self_Employed      473 non-null    object \n",
      " 6   ApplicantIncome    500 non-null    int64  \n",
      " 7   CoapplicantIncome  500 non-null    float64\n",
      " 8   LoanAmount         482 non-null    float64\n",
      " 9   Loan_Amount_Term   486 non-null    float64\n",
      " 10  Credit_History     459 non-null    float64\n",
      " 11  Property_Area      500 non-null    object \n",
      " 12  Loan_Status        500 non-null    object \n",
      " 13  Total_Income       500 non-null    object \n",
      "dtypes: float64(4), int64(1), object(9)\n",
      "memory usage: 58.6+ KB\n"
     ]
    }
   ],
   "source": [
    "loan_df.info()"
   ]
  },
  {
   "cell_type": "markdown",
   "id": "5024af9e",
   "metadata": {},
   "source": [
    "## Mỗi dòng có ý nghĩa gì?\n"
   ]
  },
  {
   "cell_type": "markdown",
   "id": "dacaf25e",
   "metadata": {},
   "source": [
    "Mỗi dòng là thông tin về một đơn đăng ký khoản vay của một người nào đó."
   ]
  },
  {
   "cell_type": "markdown",
   "id": "fc62b3a0",
   "metadata": {},
   "source": [
    "## Có dòng nào bị lặp không? Nếu có thì bao nhiêu dòng bị lặp?"
   ]
  },
  {
   "cell_type": "code",
   "execution_count": 87,
   "id": "3175881d",
   "metadata": {},
   "outputs": [
    {
     "name": "stdout",
     "output_type": "stream",
     "text": [
      "Không dòng nào bị lặp\n"
     ]
    }
   ],
   "source": [
    "re = loan_df.duplicated()\n",
    "if re.any():\n",
    "    print(f\"Số dòng bị lặp: {sum(re)}\")\n",
    "else:\n",
    "    print('Không dòng nào bị lặp')"
   ]
  },
  {
   "cell_type": "markdown",
   "id": "860b9b60",
   "metadata": {},
   "source": [
    "## Mỗi cột có ý nghĩa gì?"
   ]
  },
  {
   "cell_type": "code",
   "execution_count": 88,
   "id": "d9a86b4f",
   "metadata": {},
   "outputs": [
    {
     "name": "stdout",
     "output_type": "stream",
     "text": [
      "Loan_ID : Unique Loan application ID\n",
      "Gender : Gender of applicant male or female\n",
      "Married : Married Status! Yes or no\n",
      "Dependents:Dependents of applicant\n",
      "Education : Education, Graduate or Not Graduate\n",
      "Self_Employed : Self_Employed! Yes or No\n",
      "ApplicantIncome : Applicant total Income\n",
      "CoapplicantIncome : Coapplicant total Income\n",
      "LoanAmount : Loan Amount apply for loan\n",
      "Loan_Amount_Term : Loan Amount Term\n",
      "Credit_History : Credit History\n",
      "Property_Area : Property Area\n",
      "Loan_Status : Loan Status, approved or not\n",
      "Total_Income : Total Icome\n",
      "\n"
     ]
    }
   ],
   "source": [
    "with open('description.txt', 'r') as f:\n",
    "    print(f.read())"
   ]
  },
  {
   "cell_type": "markdown",
   "id": "8c4e8c9b",
   "metadata": {},
   "source": [
    "Từ thông tin trên, ta có thể hiểu ý nghĩa của các cột như sau:"
   ]
  },
  {
   "cell_type": "markdown",
   "id": "88cb1a49",
   "metadata": {},
   "source": [
    "|Tên cột|Ý nghĩa|\n",
    "|:---|:---|\n",
    "|**Loan_ID**|Mã định danh của đơn đăng ký vay tiền (mỗi Loan_ID là duy nhất)|\n",
    "|**Gender**|Giới tính của người nộp đơn đăng ký vay tiền|\n",
    "|**Married**|Tình trạng hôn nhân của người nộp đơn đăng ký vay tiền|\n",
    "|**Dependents**|Số người phụ thuộc vào người nộp đơn|\n",
    "|**Education**|Trình độ vấn của người nộp đơn đăng ký vay tiền|\n",
    "|**Self_Employed**|Người nộp đơn có đang làm việc tự do hay không|\n",
    "|**ApplicantIncome**|Thu nhập của người nộp đơn đăng ký vay tiền|\n",
    "|**CoapplicantIncome**|Thu nhập của người đồng nộp đơn(người có cùng trách nhiệm với người nộp đơn)|\n",
    "|**LoanAmount**|Số tiền cho vay|\n",
    "|**Loan_Amount_Term**|Thời hạn cho vay tiền|\n",
    "|**Credit_History**|Lịch sử tín dụng|\n",
    "|**Property_Area**|Nhà ở nằm ở khu vực nào|\n",
    "|**Loan_Status**|Trạng thái khoản vay (có được duyệt hay không)|\n",
    "|**Total_Income**|Tổng thu nhập (bao gồm tổng thu nhập của người nộp đơn và người cùng chịu trách nhiệm)|\n",
    "\n",
    "\n",
    "\n"
   ]
  },
  {
   "cell_type": "markdown",
   "id": "e6a1aec5",
   "metadata": {},
   "source": [
    "## Kiểu dữ liệu của mỗi cột là gì? Có cột nào có kiểu dữ liệu chưa phù hợp cần tiền xử lý không?"
   ]
  },
  {
   "cell_type": "code",
   "execution_count": 89,
   "id": "6e09951a",
   "metadata": {},
   "outputs": [
    {
     "data": {
      "text/plain": [
       "Loan_ID               object\n",
       "Gender                object\n",
       "Married               object\n",
       "Dependents            object\n",
       "Education             object\n",
       "Self_Employed         object\n",
       "ApplicantIncome        int64\n",
       "CoapplicantIncome    float64\n",
       "LoanAmount           float64\n",
       "Loan_Amount_Term     float64\n",
       "Credit_History       float64\n",
       "Property_Area         object\n",
       "Loan_Status           object\n",
       "Total_Income          object\n",
       "dtype: object"
      ]
     },
     "execution_count": 89,
     "metadata": {},
     "output_type": "execute_result"
    }
   ],
   "source": [
    "loan_df.dtypes"
   ]
  },
  {
   "cell_type": "markdown",
   "id": "7b2eaddf",
   "metadata": {},
   "source": [
    "**Nhận xét**: \n",
    "- Có tới 2 cột định danh là cột index và cột `Loan_ID`.  Ta sẽ lựa chọn 1 trong 2 cột làm định danh và loại bỏ cột còn lại.  Ở đây ta sẽ chọn chọn cột đầu (vì nó tốn ít bộ nhớ hơn so với cột `Loan_ID`)\n",
    "- Cột `ApplicantIncome` có kiểu dữ liệu là int64, trong khi các cột numerical khác lại có kiểu dữ liệu là float64. Vậy để dễ dàng tính toán, ta chuyển cột ApplicantIncome sáng kiểu float.\n",
    "\n",
    "- Cột `Dependents` : ta thấy ở phần head() chỉ có dữ liệu là số nhưng khi quan sát phương thức info() thì lại thấy cột này có dạng object. Ta sẽ khám phá cột này xem có vấn đề gì không.\n",
    "\n",
    "- Cột `Loan_status` có 2 giá Y và N, cần chuẩn hóa thành Yes và No giúp cho người đọc dễ hiểu và đồng bộ kiểu giá trị với cột Married (có cùng kiểu giá trị)."
   ]
  },
  {
   "cell_type": "markdown",
   "id": "bf1793cb",
   "metadata": {},
   "source": [
    "## Tiền xử lý"
   ]
  },
  {
   "cell_type": "markdown",
   "id": "4bc0ccde",
   "metadata": {},
   "source": [
    "**Lưu ý**: Trong phần phía dưới sẽ có một số chỗ sử dụng kỹ thuật **try** và **except**, bởi vì có một số thao tác loại bỏ cột hoặc thay đổi giá trị của dòng. Nếu đã thỏa rồi sẽ không phải thực hiện nữa, vì thực hiện lại sẽ bị lỗi."
   ]
  },
  {
   "cell_type": "markdown",
   "id": "f8565d1c",
   "metadata": {},
   "source": [
    "### Cột `Loan_ID`"
   ]
  },
  {
   "cell_type": "code",
   "execution_count": 90,
   "id": "338fa56d",
   "metadata": {},
   "outputs": [],
   "source": [
    "try:\n",
    "    loan_df = loan_df.drop(columns=['Loan_ID'])\n",
    "except:\n",
    "    pass"
   ]
  },
  {
   "cell_type": "markdown",
   "id": "ef46da1c",
   "metadata": {},
   "source": [
    "### Cột `ApplicantIncome`"
   ]
  },
  {
   "cell_type": "code",
   "execution_count": 91,
   "id": "e66a4b27",
   "metadata": {},
   "outputs": [],
   "source": [
    "try:\n",
    "    loan_df['ApplicantIncome'] = loan_df['ApplicantIncome'].astype('float')\n",
    "except:\n",
    "    pass"
   ]
  },
  {
   "cell_type": "markdown",
   "id": "e3db622b",
   "metadata": {},
   "source": [
    "### Cột `Dependents`"
   ]
  },
  {
   "cell_type": "markdown",
   "id": "d21a8ad9",
   "metadata": {},
   "source": [
    "Ta sẽ tiến hành khám phá các giá trị có trong cột `Dependents`"
   ]
  },
  {
   "cell_type": "code",
   "execution_count": 92,
   "id": "bd7a6641",
   "metadata": {},
   "outputs": [
    {
     "data": {
      "text/plain": [
       "array(['0', '1', '2', '3+', nan], dtype=object)"
      ]
     },
     "execution_count": 92,
     "metadata": {},
     "output_type": "execute_result"
    }
   ],
   "source": [
    "loan_df['Dependents'].unique()"
   ]
  },
  {
   "cell_type": "markdown",
   "id": "d4040c68",
   "metadata": {},
   "source": [
    "Ta phát hiện ra có giá trị `3+`, đây là lý do khiến cho cột này có dạng `object`. Ta sẽ quy ước đổi `3+` thành `3` để đồng bộ."
   ]
  },
  {
   "cell_type": "code",
   "execution_count": 93,
   "id": "2170a719",
   "metadata": {},
   "outputs": [],
   "source": [
    "try:\n",
    "    loan_df.Dependents = loan_df.Dependents.str.replace(\"+\",\"\",regex=False).apply(pd.to_numeric)\n",
    "except:\n",
    "    pass"
   ]
  },
  {
   "cell_type": "markdown",
   "id": "cead4273",
   "metadata": {},
   "source": [
    "### Cột `Loan_Status`"
   ]
  },
  {
   "cell_type": "code",
   "execution_count": 94,
   "id": "3703b488",
   "metadata": {},
   "outputs": [],
   "source": [
    "pattern_convert = {'Y':'Yes',\n",
    "                  'N': 'No'}\n",
    "try:\n",
    "    loan_df['Loan_Status'] = loan_df['Loan_Status'].apply(lambda x: pattern_convert[x])\n",
    "except:\n",
    "    pass"
   ]
  },
  {
   "cell_type": "markdown",
   "id": "07908645",
   "metadata": {},
   "source": [
    "### Kiểm tra lại"
   ]
  },
  {
   "cell_type": "code",
   "execution_count": 95,
   "id": "ca458e65",
   "metadata": {
    "scrolled": false
   },
   "outputs": [
    {
     "data": {
      "text/plain": [
       "Gender                object\n",
       "Married               object\n",
       "Dependents           float64\n",
       "Education             object\n",
       "Self_Employed         object\n",
       "ApplicantIncome      float64\n",
       "CoapplicantIncome    float64\n",
       "LoanAmount           float64\n",
       "Loan_Amount_Term     float64\n",
       "Credit_History       float64\n",
       "Property_Area         object\n",
       "Loan_Status           object\n",
       "Total_Income          object\n",
       "dtype: object"
      ]
     },
     "execution_count": 95,
     "metadata": {},
     "output_type": "execute_result"
    }
   ],
   "source": [
    "loan_df.dtypes"
   ]
  },
  {
   "cell_type": "markdown",
   "id": "a9e0dfbc",
   "metadata": {},
   "source": [
    "Khá ổn rồi...."
   ]
  },
  {
   "cell_type": "markdown",
   "id": "39c1f891",
   "metadata": {},
   "source": [
    "### Chuyển dtype của cột Toltal_income sang dạng số"
   ]
  },
  {
   "cell_type": "markdown",
   "id": "9079d7c5",
   "metadata": {},
   "source": [
    "Có thể thấy cột `Total_income` thực chât là biểu diễn số liệu nhưng lại được biểu diễn dưới dạng object do có kí tự \"\\$\" đứng trước.  \n",
    "Ta sẽ tiến hành loại bỏ kí tự \"\\$\" đứng đầu và chuyển về dạng số.  "
   ]
  },
  {
   "cell_type": "code",
   "execution_count": 96,
   "id": "698985ca",
   "metadata": {},
   "outputs": [],
   "source": [
    "try:\n",
    "    loan_df.Total_Income = loan_df.Total_Income.str[1:].astype(np.float64)\n",
    "except:\n",
    "    pass"
   ]
  },
  {
   "cell_type": "markdown",
   "id": "276ac0f6",
   "metadata": {},
   "source": [
    "## Khám phá mới ! `Total_income = ApplicantIncome + CoapplicantIncome`"
   ]
  },
  {
   "cell_type": "markdown",
   "id": "a58f2e4c",
   "metadata": {},
   "source": [
    "Theo quan sát, ta thấy được `Total_income = ApplicantIncome + CoapplicantIncome`.  \n",
    "Kiểm chứng bằng code :"
   ]
  },
  {
   "cell_type": "code",
   "execution_count": 97,
   "id": "4fee28ff",
   "metadata": {},
   "outputs": [
    {
     "data": {
      "text/plain": [
       "True"
      ]
     },
     "execution_count": 97,
     "metadata": {},
     "output_type": "execute_result"
    }
   ],
   "source": [
    "np.all(loan_df.ApplicantIncome + loan_df.CoapplicantIncome == loan_df.Total_Income)"
   ]
  },
  {
   "cell_type": "markdown",
   "id": "47b5e73d",
   "metadata": {},
   "source": [
    "Đúng như dự đoán, `Total_income = ApplicantIncome + CoapplicantIncome` :)\n",
    "\n",
    "Tuy nhiên, em quyết định không loại bỏ cột nào cả vì có thể sau này cần dùng đến."
   ]
  },
  {
   "cell_type": "markdown",
   "id": "e24a5ce6",
   "metadata": {},
   "source": [
    "## Với mỗi cột dữ liệu dạng categorical, các giá trị được phân bố như thế nào?"
   ]
  },
  {
   "cell_type": "markdown",
   "id": "5af1448b",
   "metadata": {},
   "source": [
    "Ta tính cần tính\n",
    "- missing_ratio: tỉ lệ phần trăm các giá trị thiếu.\n",
    "- nums_diff_values: số lượng giá trị khác nhau (không xét giá trị thiếu).\n",
    "- diff_vals_ratio: tỉ lệ phần trăm của mỗi giá trị khác nhau ứng với mỗi cột (không xét giá trị thiếu), lưu dạng dictionary với key là tên giá trị và value là tỉ lệ phần trăm của giá trị đó."
   ]
  },
  {
   "cell_type": "code",
   "execution_count": 98,
   "id": "f8e094c6",
   "metadata": {
    "scrolled": false
   },
   "outputs": [
    {
     "data": {
      "text/html": [
       "<div>\n",
       "<style scoped>\n",
       "    .dataframe tbody tr th:only-of-type {\n",
       "        vertical-align: middle;\n",
       "    }\n",
       "\n",
       "    .dataframe tbody tr th {\n",
       "        vertical-align: top;\n",
       "    }\n",
       "\n",
       "    .dataframe thead th {\n",
       "        text-align: right;\n",
       "    }\n",
       "</style>\n",
       "<table border=\"1\" class=\"dataframe\">\n",
       "  <thead>\n",
       "    <tr style=\"text-align: right;\">\n",
       "      <th></th>\n",
       "      <th>Gender</th>\n",
       "      <th>Married</th>\n",
       "      <th>Dependents</th>\n",
       "      <th>Education</th>\n",
       "      <th>Self_Employed</th>\n",
       "      <th>Credit_History</th>\n",
       "      <th>Property_Area</th>\n",
       "      <th>Loan_Status</th>\n",
       "    </tr>\n",
       "  </thead>\n",
       "  <tbody>\n",
       "    <tr>\n",
       "      <th>missing_ratio</th>\n",
       "      <td>1.8</td>\n",
       "      <td>0.6</td>\n",
       "      <td>2.4</td>\n",
       "      <td>0.0</td>\n",
       "      <td>5.4</td>\n",
       "      <td>8.2</td>\n",
       "      <td>0.0</td>\n",
       "      <td>0.0</td>\n",
       "    </tr>\n",
       "    <tr>\n",
       "      <th>nums_diff_values</th>\n",
       "      <td>2</td>\n",
       "      <td>2</td>\n",
       "      <td>4</td>\n",
       "      <td>2</td>\n",
       "      <td>2</td>\n",
       "      <td>2</td>\n",
       "      <td>3</td>\n",
       "      <td>2</td>\n",
       "    </tr>\n",
       "    <tr>\n",
       "      <th>diff_vals_ratio</th>\n",
       "      <td>{'Male': 81.4663951120163, 'Female': 18.533604...</td>\n",
       "      <td>{'Yes': 64.7887323943662, 'No': 35.2112676056338}</td>\n",
       "      <td>{0.0: 59.01639344262295, 1.0: 16.5983606557377...</td>\n",
       "      <td>{'Graduate': 78.60000000000001, 'Not Graduate'...</td>\n",
       "      <td>{'No': 86.04651162790698, 'Yes': 13.9534883720...</td>\n",
       "      <td>{1.0: 84.31372549019608, 0.0: 15.686274509803921}</td>\n",
       "      <td>{'Semiurban': 37.6, 'Urban': 34.2, 'Rural': 28...</td>\n",
       "      <td>{'Yes': 69.0, 'No': 31.0}</td>\n",
       "    </tr>\n",
       "  </tbody>\n",
       "</table>\n",
       "</div>"
      ],
      "text/plain": [
       "                                                             Gender  \\\n",
       "missing_ratio                                                   1.8   \n",
       "nums_diff_values                                                  2   \n",
       "diff_vals_ratio   {'Male': 81.4663951120163, 'Female': 18.533604...   \n",
       "\n",
       "                                                            Married  \\\n",
       "missing_ratio                                                   0.6   \n",
       "nums_diff_values                                                  2   \n",
       "diff_vals_ratio   {'Yes': 64.7887323943662, 'No': 35.2112676056338}   \n",
       "\n",
       "                                                         Dependents  \\\n",
       "missing_ratio                                                   2.4   \n",
       "nums_diff_values                                                  4   \n",
       "diff_vals_ratio   {0.0: 59.01639344262295, 1.0: 16.5983606557377...   \n",
       "\n",
       "                                                          Education  \\\n",
       "missing_ratio                                                   0.0   \n",
       "nums_diff_values                                                  2   \n",
       "diff_vals_ratio   {'Graduate': 78.60000000000001, 'Not Graduate'...   \n",
       "\n",
       "                                                      Self_Employed  \\\n",
       "missing_ratio                                                   5.4   \n",
       "nums_diff_values                                                  2   \n",
       "diff_vals_ratio   {'No': 86.04651162790698, 'Yes': 13.9534883720...   \n",
       "\n",
       "                                                     Credit_History  \\\n",
       "missing_ratio                                                   8.2   \n",
       "nums_diff_values                                                  2   \n",
       "diff_vals_ratio   {1.0: 84.31372549019608, 0.0: 15.686274509803921}   \n",
       "\n",
       "                                                      Property_Area  \\\n",
       "missing_ratio                                                   0.0   \n",
       "nums_diff_values                                                  3   \n",
       "diff_vals_ratio   {'Semiurban': 37.6, 'Urban': 34.2, 'Rural': 28...   \n",
       "\n",
       "                                Loan_Status  \n",
       "missing_ratio                           0.0  \n",
       "nums_diff_values                          2  \n",
       "diff_vals_ratio   {'Yes': 69.0, 'No': 31.0}  "
      ]
     },
     "execution_count": 98,
     "metadata": {},
     "output_type": "execute_result"
    }
   ],
   "source": [
    "def missing_ratio(s):\n",
    "    return s.isna().mean()*100\n",
    "def nums_diff_values(s):\n",
    "    return s.dropna().nunique()\n",
    "def diff_vals_ratio(s):\n",
    "    s = s.dropna()\n",
    "    return (s.value_counts()/len(s)*100).to_dict()\n",
    "\n",
    "#cate_cols = loan_df.select_dtypes(exclude=['float32','float64','int32','int64'])\n",
    "cate_cols = loan_df.columns[loan_df.nunique() <= 9]\n",
    "cate_cols = loan_df[cate_cols]\n",
    "cate_cols_info = cate_cols.agg([missing_ratio, nums_diff_values, diff_vals_ratio])\n",
    "cate_cols_info"
   ]
  },
  {
   "cell_type": "markdown",
   "id": "3415b65c",
   "metadata": {},
   "source": [
    "Ta tiến hành trực quan hoá để có cái nhìn tổng quát hơn về dữ liệu categories"
   ]
  },
  {
   "cell_type": "code",
   "execution_count": 99,
   "id": "939d6107",
   "metadata": {},
   "outputs": [
    {
     "data": {
      "image/png": "[encoded data removed]",
      "text/plain": [
       "<Figure size 432x288 with 1 Axes>"
      ]
     },
     "metadata": {
      "needs_background": "light"
     },
     "output_type": "display_data"
    },
    {
     "data": {
      "image/png": "[encoded data removed]",
      "text/plain": [
       "<Figure size 432x288 with 1 Axes>"
      ]
     },
     "metadata": {
      "needs_background": "light"
     },
     "output_type": "display_data"
    },
    {
     "data": {
      "image/png": "[encoded data removed]",
      "text/plain": [
       "<Figure size 432x288 with 1 Axes>"
      ]
     },
     "metadata": {
      "needs_background": "light"
     },
     "output_type": "display_data"
    },
    {
     "data": {
      "image/png": "[encoded data removed]",
      "text/plain": [
       "<Figure size 432x288 with 1 Axes>"
      ]
     },
     "metadata": {
      "needs_background": "light"
     },
     "output_type": "display_data"
    },
    {
     "data": {
      "image/png": "[encoded data removed]",
      "text/plain": [
       "<Figure size 432x288 with 1 Axes>"
      ]
     },
     "metadata": {
      "needs_background": "light"
     },
     "output_type": "display_data"
    },
    {
     "data": {
      "image/png": "[encoded data removed]",
      "text/plain": [
       "<Figure size 432x288 with 1 Axes>"
      ]
     },
     "metadata": {
      "needs_background": "light"
     },
     "output_type": "display_data"
    },
    {
     "data": {
      "image/png": "[encoded data removed]",
      "text/plain": [
       "<Figure size 432x288 with 1 Axes>"
      ]
     },
     "metadata": {
      "needs_background": "light"
     },
     "output_type": "display_data"
    },
    {
     "data": {
      "image/png": "[encoded data removed]",
      "text/plain": [
       "<Figure size 432x288 with 1 Axes>"
      ]
     },
     "metadata": {
      "needs_background": "light"
     },
     "output_type": "display_data"
    }
   ],
   "source": [
    "for col in cate_cols :\n",
    "    loan_df[col].value_counts().plot.bar()\n",
    "    plt.xlabel(col)\n",
    "    plt.show()"
   ]
  },
  {
   "cell_type": "markdown",
   "id": "de3ed39f",
   "metadata": {},
   "source": [
    "Ta thấy các dữ liệu dạng categorical khá ổn và giống với mô tả về tập dữ liệu."
   ]
  },
  {
   "cell_type": "markdown",
   "id": "0add4656",
   "metadata": {},
   "source": [
    "## Với mỗi cột dữ liệu dạng numerical, các giá trị được phân bố như thế nào?"
   ]
  },
  {
   "cell_type": "markdown",
   "id": "0018d919",
   "metadata": {},
   "source": [
    "Ta tiến hành tính các thông số missing_ratio (tỉ lệ phần trăm các giá trị thiếu), mean, min, median, max.\n",
    "\n",
    "- Các cột `Dependents`, `Loan_Amount_Term` và `Credit_History` chỉ gồm một số giá trị cố định (quá trình thống kê sẽ không khả quan), nên ta sẽ không xét các cột đó trong quá trình thống kê. Ta tiến hành lấy các cột có nhiều hơn 10 giá trị khác nhau để xem phân bố giá trị của các cột đó."
   ]
  },
  {
   "cell_type": "code",
   "execution_count": 100,
   "id": "986d3657",
   "metadata": {
    "scrolled": false
   },
   "outputs": [
    {
     "data": {
      "text/html": [
       "<div>\n",
       "<style scoped>\n",
       "    .dataframe tbody tr th:only-of-type {\n",
       "        vertical-align: middle;\n",
       "    }\n",
       "\n",
       "    .dataframe tbody tr th {\n",
       "        vertical-align: top;\n",
       "    }\n",
       "\n",
       "    .dataframe thead th {\n",
       "        text-align: right;\n",
       "    }\n",
       "</style>\n",
       "<table border=\"1\" class=\"dataframe\">\n",
       "  <thead>\n",
       "    <tr style=\"text-align: right;\">\n",
       "      <th></th>\n",
       "      <th>ApplicantIncome</th>\n",
       "      <th>CoapplicantIncome</th>\n",
       "      <th>LoanAmount</th>\n",
       "      <th>Loan_Amount_Term</th>\n",
       "      <th>Total_Income</th>\n",
       "    </tr>\n",
       "  </thead>\n",
       "  <tbody>\n",
       "    <tr>\n",
       "      <th>missing_ratio</th>\n",
       "      <td>0.000000</td>\n",
       "      <td>0.000000</td>\n",
       "      <td>3.600000</td>\n",
       "      <td>2.800000</td>\n",
       "      <td>0.000000</td>\n",
       "    </tr>\n",
       "    <tr>\n",
       "      <th>mean</th>\n",
       "      <td>5493.644000</td>\n",
       "      <td>1506.307840</td>\n",
       "      <td>144.020747</td>\n",
       "      <td>342.543210</td>\n",
       "      <td>6999.951840</td>\n",
       "    </tr>\n",
       "    <tr>\n",
       "      <th>std</th>\n",
       "      <td>6515.668972</td>\n",
       "      <td>2134.432188</td>\n",
       "      <td>82.344919</td>\n",
       "      <td>63.834977</td>\n",
       "      <td>6605.759256</td>\n",
       "    </tr>\n",
       "    <tr>\n",
       "      <th>min</th>\n",
       "      <td>150.000000</td>\n",
       "      <td>0.000000</td>\n",
       "      <td>17.000000</td>\n",
       "      <td>12.000000</td>\n",
       "      <td>1442.000000</td>\n",
       "    </tr>\n",
       "    <tr>\n",
       "      <th>median</th>\n",
       "      <td>3854.000000</td>\n",
       "      <td>1125.500000</td>\n",
       "      <td>126.500000</td>\n",
       "      <td>360.000000</td>\n",
       "      <td>5332.500000</td>\n",
       "    </tr>\n",
       "    <tr>\n",
       "      <th>max</th>\n",
       "      <td>81000.000000</td>\n",
       "      <td>20000.000000</td>\n",
       "      <td>700.000000</td>\n",
       "      <td>480.000000</td>\n",
       "      <td>81000.000000</td>\n",
       "    </tr>\n",
       "  </tbody>\n",
       "</table>\n",
       "</div>"
      ],
      "text/plain": [
       "               ApplicantIncome  CoapplicantIncome  LoanAmount  \\\n",
       "missing_ratio         0.000000           0.000000    3.600000   \n",
       "mean               5493.644000        1506.307840  144.020747   \n",
       "std                6515.668972        2134.432188   82.344919   \n",
       "min                 150.000000           0.000000   17.000000   \n",
       "median             3854.000000        1125.500000  126.500000   \n",
       "max               81000.000000       20000.000000  700.000000   \n",
       "\n",
       "               Loan_Amount_Term  Total_Income  \n",
       "missing_ratio          2.800000      0.000000  \n",
       "mean                 342.543210   6999.951840  \n",
       "std                   63.834977   6605.759256  \n",
       "min                   12.000000   1442.000000  \n",
       "median               360.000000   5332.500000  \n",
       "max                  480.000000  81000.000000  "
      ]
     },
     "execution_count": 100,
     "metadata": {},
     "output_type": "execute_result"
    }
   ],
   "source": [
    "\n",
    "nume_cols = loan_df.columns[loan_df.nunique() > 9]\n",
    "nume_cols = loan_df[nume_cols]\n",
    "nume_cols_info = nume_cols.agg([missing_ratio,'mean', 'std', 'min','median','max'])\n",
    "nume_cols_info"
   ]
  },
  {
   "cell_type": "markdown",
   "id": "70065b2d",
   "metadata": {},
   "source": [
    "Ta sẽ tiến hành trực quan hoá dữ liệu dạng numeric xem có gì bất thường không."
   ]
  },
  {
   "cell_type": "code",
   "execution_count": 101,
   "id": "c35d7bee",
   "metadata": {},
   "outputs": [
    {
     "data": {
      "image/png": "[encoded data removed]",
      "text/plain": [
       "<Figure size 432x288 with 1 Axes>"
      ]
     },
     "metadata": {
      "needs_background": "light"
     },
     "output_type": "display_data"
    },
    {
     "data": {
      "image/png": "[encoded data removed]",
      "text/plain": [
       "<Figure size 432x288 with 1 Axes>"
      ]
     },
     "metadata": {
      "needs_background": "light"
     },
     "output_type": "display_data"
    },
    {
     "data": {
      "image/png": "[encoded data removed]",
      "text/plain": [
       "<Figure size 432x288 with 1 Axes>"
      ]
     },
     "metadata": {
      "needs_background": "light"
     },
     "output_type": "display_data"
    },
    {
     "data": {
      "image/png": "[encoded data removed]",
      "text/plain": [
       "<Figure size 432x288 with 1 Axes>"
      ]
     },
     "metadata": {
      "needs_background": "light"
     },
     "output_type": "display_data"
    },
    {
     "data": {
      "image/png": "[encoded data removed]",
      "text/plain": [
       "<Figure size 432x288 with 1 Axes>"
      ]
     },
     "metadata": {
      "needs_background": "light"
     },
     "output_type": "display_data"
    }
   ],
   "source": [
    "for col in nume_cols:\n",
    "    loan_df[col].plot.hist(bins=50)\n",
    "    plt.xlabel(col)\n",
    "    plt.show()"
   ]
  },
  {
   "cell_type": "markdown",
   "id": "774bb5f1",
   "metadata": {},
   "source": [
    "Ta nhận thấy outlier của các **cột dữ liệu numerical** khá là kinh dị và sẽ rất tệ nếu ta không xử lý chúng."
   ]
  },
  {
   "cell_type": "markdown",
   "id": "4b0869b3",
   "metadata": {},
   "source": [
    "## Tiếp tục tiền xử lý cho các cột numerical"
   ]
  },
  {
   "cell_type": "markdown",
   "id": "bc84680b",
   "metadata": {},
   "source": [
    "### Xóa outlier như thế nào?"
   ]
  },
  {
   "cell_type": "markdown",
   "id": "f1002eee",
   "metadata": {},
   "source": [
    "- Quan sát biểu đồ được trực quan hóa, ta có thể thấy giá trị của cột cột có dạng phân phối chuẩn (theo kinh nghiệm nhìn biểu đồ nhiều).\n",
    "- Theo định luật Empirical : https://www.investopedia.com/terms/e/empirical-rule.asp\n",
    "- 99.7% dữ liệu nằm trong khoảng [mean - 3*std , mean + 3 *std], những phần còn lại nằm ngoài khoảng này đều là linh tinh hết (outlier)."
   ]
  },
  {
   "cell_type": "code",
   "execution_count": 102,
   "id": "eabc526f",
   "metadata": {},
   "outputs": [],
   "source": [
    "def notOutlierRange(s):\n",
    "    _mean = s.mean()\n",
    "    _std = s.std()\n",
    "    return (_mean - 3 * _std , _mean + 3* _std)"
   ]
  },
  {
   "cell_type": "markdown",
   "id": "c0b88b52",
   "metadata": {},
   "source": [
    "Test hàm"
   ]
  },
  {
   "cell_type": "code",
   "execution_count": 103,
   "id": "6280d7b0",
   "metadata": {
    "scrolled": true
   },
   "outputs": [
    {
     "data": {
      "text/plain": [
       "(151.03827826480864, 534.0481414882777)"
      ]
     },
     "execution_count": 103,
     "metadata": {},
     "output_type": "execute_result"
    }
   ],
   "source": [
    "notOutlierRange(loan_df.Loan_Amount_Term)"
   ]
  },
  {
   "cell_type": "markdown",
   "id": "8dd6f4e9",
   "metadata": {},
   "source": [
    "### Đợi đã, việc xóa này có ảnh hưởng đến tính trực quan của dữ liệu không?"
   ]
  },
  {
   "cell_type": "markdown",
   "id": "9737adf8",
   "metadata": {},
   "source": [
    "Đầu tiên, ta sẽ xem số outlier bị loại bỏ có nhiều không bằng cách tính tỉ lệ outlier có trong từng cột"
   ]
  },
  {
   "cell_type": "code",
   "execution_count": 104,
   "id": "e954fc66",
   "metadata": {},
   "outputs": [
    {
     "name": "stdout",
     "output_type": "stream",
     "text": [
      "ApplicantIncome\n",
      "1.4198782961460445%\n",
      "CoapplicantIncome\n",
      "1.4198782961460445%\n",
      "LoanAmount\n",
      "5.932203389830509%\n",
      "Loan_Amount_Term\n",
      "4.821802935010482%\n",
      "Total_Income\n",
      "1.4198782961460445%\n"
     ]
    }
   ],
   "source": [
    "for col in nume_cols:\n",
    "    front,rear = notOutlierRange(loan_df[col])\n",
    "    s = loan_df[col]\n",
    "    before = len(s)\n",
    "    #print(\n",
    "    after = len(s.loc[(s > front) & (s < rear)])\n",
    "    print(col)\n",
    "    print(\"{}%\".format(((before-after)/after)*100))"
   ]
  },
  {
   "cell_type": "markdown",
   "id": "3857401d",
   "metadata": {},
   "source": [
    "Các cột trên hầu chỉ chỉ có 1.4 %, không đáng quan ngại. Nhưng cột `LoanAmount` lên tới ~6% !  \n",
    "Hãy cùng xem tìm chuyện gì sẽ xảy ra nếu ta loại bỏ tất cả outlier. "
   ]
  },
  {
   "cell_type": "code",
   "execution_count": 105,
   "id": "1ac68443",
   "metadata": {
    "scrolled": true
   },
   "outputs": [
    {
     "data": {
      "text/plain": [
       "15.200000000000003"
      ]
     },
     "execution_count": 105,
     "metadata": {},
     "output_type": "execute_result"
    }
   ],
   "source": [
    "loan_df_copy = copy.deepcopy(loan_df)\n",
    "for col in nume_cols:\n",
    "    front,rear = notOutlierRange(loan_df_copy[col])\n",
    "    loan_df_copy = loan_df_copy.drop(loan_df_copy[~((loan_df_copy[col] > front) & (loan_df_copy[col] < rear))].index)\n",
    "(1 - (loan_df_copy.shape[0]/loan_df.shape[0]))*100"
   ]
  },
  {
   "cell_type": "markdown",
   "id": "c8d56546",
   "metadata": {},
   "source": [
    "Sau khi loại bỏ tất cả outlier thì dữ liệu giảm đi 15%, con số này có vẻ không đáng quan ngại."
   ]
  },
  {
   "cell_type": "markdown",
   "id": "b5eb3da6",
   "metadata": {},
   "source": [
    "Ta tiến hành tạo bản copy của `loan_df` để xem tình hình ra sao."
   ]
  },
  {
   "cell_type": "code",
   "execution_count": 106,
   "id": "5eac1780",
   "metadata": {},
   "outputs": [
    {
     "data": {
      "image/png": "[encoded data removed]",
      "text/plain": [
       "<Figure size 432x288 with 1 Axes>"
      ]
     },
     "metadata": {
      "needs_background": "light"
     },
     "output_type": "display_data"
    },
    {
     "data": {
      "image/png": "[encoded data removed]",
      "text/plain": [
       "<Figure size 432x288 with 1 Axes>"
      ]
     },
     "metadata": {
      "needs_background": "light"
     },
     "output_type": "display_data"
    },
    {
     "data": {
      "image/png": "[encoded data removed]",
      "text/plain": [
       "<Figure size 432x288 with 1 Axes>"
      ]
     },
     "metadata": {
      "needs_background": "light"
     },
     "output_type": "display_data"
    },
    {
     "data": {
      "image/png": "[encoded data removed]",
      "text/plain": [
       "<Figure size 432x288 with 1 Axes>"
      ]
     },
     "metadata": {
      "needs_background": "light"
     },
     "output_type": "display_data"
    },
    {
     "data": {
      "image/png": "[encoded data removed]",
      "text/plain": [
       "<Figure size 432x288 with 1 Axes>"
      ]
     },
     "metadata": {
      "needs_background": "light"
     },
     "output_type": "display_data"
    }
   ],
   "source": [
    "for col in nume_cols:\n",
    "    loan_df_copy[col].plot.hist(bins=50)\n",
    "    plt.xlabel(col)\n",
    "    plt.show()"
   ]
  },
  {
   "cell_type": "markdown",
   "id": "0994b902",
   "metadata": {},
   "source": [
    "Có vẻ khả quan, ta tiến hành bỏ outliers trên `loan_df`"
   ]
  },
  {
   "cell_type": "code",
   "execution_count": 107,
   "id": "fdaf2fde",
   "metadata": {},
   "outputs": [
    {
     "data": {
      "text/html": [
       "<div>\n",
       "<style scoped>\n",
       "    .dataframe tbody tr th:only-of-type {\n",
       "        vertical-align: middle;\n",
       "    }\n",
       "\n",
       "    .dataframe tbody tr th {\n",
       "        vertical-align: top;\n",
       "    }\n",
       "\n",
       "    .dataframe thead th {\n",
       "        text-align: right;\n",
       "    }\n",
       "</style>\n",
       "<table border=\"1\" class=\"dataframe\">\n",
       "  <thead>\n",
       "    <tr style=\"text-align: right;\">\n",
       "      <th></th>\n",
       "      <th>Gender</th>\n",
       "      <th>Married</th>\n",
       "      <th>Dependents</th>\n",
       "      <th>Education</th>\n",
       "      <th>Self_Employed</th>\n",
       "      <th>ApplicantIncome</th>\n",
       "      <th>CoapplicantIncome</th>\n",
       "      <th>LoanAmount</th>\n",
       "      <th>Loan_Amount_Term</th>\n",
       "      <th>Credit_History</th>\n",
       "      <th>Property_Area</th>\n",
       "      <th>Loan_Status</th>\n",
       "      <th>Total_Income</th>\n",
       "    </tr>\n",
       "  </thead>\n",
       "  <tbody>\n",
       "    <tr>\n",
       "      <th>1</th>\n",
       "      <td>Male</td>\n",
       "      <td>Yes</td>\n",
       "      <td>1.0</td>\n",
       "      <td>Graduate</td>\n",
       "      <td>No</td>\n",
       "      <td>4583.0</td>\n",
       "      <td>1508.0</td>\n",
       "      <td>128.0</td>\n",
       "      <td>360.0</td>\n",
       "      <td>1.0</td>\n",
       "      <td>Rural</td>\n",
       "      <td>No</td>\n",
       "      <td>6091.0</td>\n",
       "    </tr>\n",
       "    <tr>\n",
       "      <th>2</th>\n",
       "      <td>Male</td>\n",
       "      <td>Yes</td>\n",
       "      <td>0.0</td>\n",
       "      <td>Graduate</td>\n",
       "      <td>Yes</td>\n",
       "      <td>3000.0</td>\n",
       "      <td>0.0</td>\n",
       "      <td>66.0</td>\n",
       "      <td>360.0</td>\n",
       "      <td>1.0</td>\n",
       "      <td>Urban</td>\n",
       "      <td>Yes</td>\n",
       "      <td>3000.0</td>\n",
       "    </tr>\n",
       "    <tr>\n",
       "      <th>3</th>\n",
       "      <td>Male</td>\n",
       "      <td>Yes</td>\n",
       "      <td>0.0</td>\n",
       "      <td>Not Graduate</td>\n",
       "      <td>No</td>\n",
       "      <td>2583.0</td>\n",
       "      <td>2358.0</td>\n",
       "      <td>120.0</td>\n",
       "      <td>360.0</td>\n",
       "      <td>1.0</td>\n",
       "      <td>Urban</td>\n",
       "      <td>Yes</td>\n",
       "      <td>4941.0</td>\n",
       "    </tr>\n",
       "    <tr>\n",
       "      <th>4</th>\n",
       "      <td>Male</td>\n",
       "      <td>No</td>\n",
       "      <td>0.0</td>\n",
       "      <td>Graduate</td>\n",
       "      <td>No</td>\n",
       "      <td>6000.0</td>\n",
       "      <td>0.0</td>\n",
       "      <td>141.0</td>\n",
       "      <td>360.0</td>\n",
       "      <td>1.0</td>\n",
       "      <td>Urban</td>\n",
       "      <td>Yes</td>\n",
       "      <td>6000.0</td>\n",
       "    </tr>\n",
       "    <tr>\n",
       "      <th>5</th>\n",
       "      <td>Male</td>\n",
       "      <td>Yes</td>\n",
       "      <td>2.0</td>\n",
       "      <td>Graduate</td>\n",
       "      <td>Yes</td>\n",
       "      <td>5417.0</td>\n",
       "      <td>4196.0</td>\n",
       "      <td>267.0</td>\n",
       "      <td>360.0</td>\n",
       "      <td>1.0</td>\n",
       "      <td>Urban</td>\n",
       "      <td>Yes</td>\n",
       "      <td>9613.0</td>\n",
       "    </tr>\n",
       "  </tbody>\n",
       "</table>\n",
       "</div>"
      ],
      "text/plain": [
       "  Gender Married  Dependents     Education Self_Employed  ApplicantIncome  \\\n",
       "1   Male     Yes         1.0      Graduate            No           4583.0   \n",
       "2   Male     Yes         0.0      Graduate           Yes           3000.0   \n",
       "3   Male     Yes         0.0  Not Graduate            No           2583.0   \n",
       "4   Male      No         0.0      Graduate            No           6000.0   \n",
       "5   Male     Yes         2.0      Graduate           Yes           5417.0   \n",
       "\n",
       "   CoapplicantIncome  LoanAmount  Loan_Amount_Term  Credit_History  \\\n",
       "1             1508.0       128.0             360.0             1.0   \n",
       "2                0.0        66.0             360.0             1.0   \n",
       "3             2358.0       120.0             360.0             1.0   \n",
       "4                0.0       141.0             360.0             1.0   \n",
       "5             4196.0       267.0             360.0             1.0   \n",
       "\n",
       "  Property_Area Loan_Status  Total_Income  \n",
       "1         Rural          No        6091.0  \n",
       "2         Urban         Yes        3000.0  \n",
       "3         Urban         Yes        4941.0  \n",
       "4         Urban         Yes        6000.0  \n",
       "5         Urban         Yes        9613.0  "
      ]
     },
     "execution_count": 107,
     "metadata": {},
     "output_type": "execute_result"
    }
   ],
   "source": [
    "loan_df = loan_df_copy\n",
    "loan_df.head()"
   ]
  },
  {
   "cell_type": "markdown",
   "id": "db11cae6",
   "metadata": {},
   "source": [
    "# Câu hỏi : Những yếu tố nào ảnh hướng đến **Tổng thu nhập** của từng người?"
   ]
  },
  {
   "cell_type": "markdown",
   "id": "97e5aba2",
   "metadata": {},
   "source": [
    "Một câu hỏi cực kì thú vị mà nếu trả lời được thì trong một số trường hợp nếu ta cần đoán thu nhập của một người nào đó thì có thể dùng những dữ liệu dễ có hơn để từ đó suy ra người này có thu nhập cao hay thấp.  \n",
    "Một ví dụ thực tế : trong đời sống ta nếu ta biết một người có tốt nghiệp (trong trường hợp data này là cột `Education`) thì ta sẽ đoán rằng người này sẽ có thu nhập cao hơn những người không có bằng cấp. Từ đó, ta sẽ có những quyết định đúng đắn như làm quen, tạo mối quan hệ (thấy sang bắt quàng làm họ) chẳng hạn, hoặc gạ hỏi có muốn mua nhà mua đất không,...?  \n",
    "Tất nhiên là tri thức ở ví dụ trên chỉ là ví dụ ;-) . Chúng ta hãy cùng đi kiểm chứng để trả lời câu hỏi này nhé. "
   ]
  },
  {
   "cell_type": "markdown",
   "id": "1024cdd5",
   "metadata": {},
   "source": [
    "## Cột numeric"
   ]
  },
  {
   "cell_type": "markdown",
   "id": "1ed6a259",
   "metadata": {},
   "source": [
    "Ta nhận thấy sau khi loại bỏ outlier thì cột `Loan_Amount_Term` quá ít loại dữ liệu nên ta sẽ chuyển nó sang dạng categories"
   ]
  },
  {
   "cell_type": "code",
   "execution_count": 108,
   "id": "fab32d35",
   "metadata": {},
   "outputs": [
    {
     "data": {
      "text/html": [
       "<div>\n",
       "<style scoped>\n",
       "    .dataframe tbody tr th:only-of-type {\n",
       "        vertical-align: middle;\n",
       "    }\n",
       "\n",
       "    .dataframe tbody tr th {\n",
       "        vertical-align: top;\n",
       "    }\n",
       "\n",
       "    .dataframe thead th {\n",
       "        text-align: right;\n",
       "    }\n",
       "</style>\n",
       "<table border=\"1\" class=\"dataframe\">\n",
       "  <thead>\n",
       "    <tr style=\"text-align: right;\">\n",
       "      <th></th>\n",
       "      <th>Gender</th>\n",
       "      <th>Married</th>\n",
       "      <th>Dependents</th>\n",
       "      <th>Education</th>\n",
       "      <th>Self_Employed</th>\n",
       "      <th>Credit_History</th>\n",
       "      <th>Property_Area</th>\n",
       "      <th>Loan_Status</th>\n",
       "      <th>Loan_Amount_Term</th>\n",
       "    </tr>\n",
       "  </thead>\n",
       "  <tbody>\n",
       "    <tr>\n",
       "      <th>0</th>\n",
       "      <td>Male</td>\n",
       "      <td>No</td>\n",
       "      <td>0.0</td>\n",
       "      <td>Graduate</td>\n",
       "      <td>No</td>\n",
       "      <td>1.0</td>\n",
       "      <td>Urban</td>\n",
       "      <td>Yes</td>\n",
       "      <td>NaN</td>\n",
       "    </tr>\n",
       "    <tr>\n",
       "      <th>1</th>\n",
       "      <td>Male</td>\n",
       "      <td>Yes</td>\n",
       "      <td>1.0</td>\n",
       "      <td>Graduate</td>\n",
       "      <td>No</td>\n",
       "      <td>1.0</td>\n",
       "      <td>Rural</td>\n",
       "      <td>No</td>\n",
       "      <td>360.0</td>\n",
       "    </tr>\n",
       "    <tr>\n",
       "      <th>2</th>\n",
       "      <td>Male</td>\n",
       "      <td>Yes</td>\n",
       "      <td>0.0</td>\n",
       "      <td>Graduate</td>\n",
       "      <td>Yes</td>\n",
       "      <td>1.0</td>\n",
       "      <td>Urban</td>\n",
       "      <td>Yes</td>\n",
       "      <td>360.0</td>\n",
       "    </tr>\n",
       "    <tr>\n",
       "      <th>3</th>\n",
       "      <td>Male</td>\n",
       "      <td>Yes</td>\n",
       "      <td>0.0</td>\n",
       "      <td>Not Graduate</td>\n",
       "      <td>No</td>\n",
       "      <td>1.0</td>\n",
       "      <td>Urban</td>\n",
       "      <td>Yes</td>\n",
       "      <td>360.0</td>\n",
       "    </tr>\n",
       "    <tr>\n",
       "      <th>4</th>\n",
       "      <td>Male</td>\n",
       "      <td>No</td>\n",
       "      <td>0.0</td>\n",
       "      <td>Graduate</td>\n",
       "      <td>No</td>\n",
       "      <td>1.0</td>\n",
       "      <td>Urban</td>\n",
       "      <td>Yes</td>\n",
       "      <td>360.0</td>\n",
       "    </tr>\n",
       "  </tbody>\n",
       "</table>\n",
       "</div>"
      ],
      "text/plain": [
       "  Gender Married  Dependents     Education Self_Employed  Credit_History  \\\n",
       "0   Male      No         0.0      Graduate            No             1.0   \n",
       "1   Male     Yes         1.0      Graduate            No             1.0   \n",
       "2   Male     Yes         0.0      Graduate           Yes             1.0   \n",
       "3   Male     Yes         0.0  Not Graduate            No             1.0   \n",
       "4   Male      No         0.0      Graduate            No             1.0   \n",
       "\n",
       "  Property_Area Loan_Status  Loan_Amount_Term  \n",
       "0         Urban         Yes               NaN  \n",
       "1         Rural          No             360.0  \n",
       "2         Urban         Yes             360.0  \n",
       "3         Urban         Yes             360.0  \n",
       "4         Urban         Yes             360.0  "
      ]
     },
     "execution_count": 108,
     "metadata": {},
     "output_type": "execute_result"
    }
   ],
   "source": [
    "try:\n",
    "    nume_cols = nume_cols.drop(columns=\"Loan_Amount_Term\")\n",
    "except:\n",
    "    pass\n",
    "try:\n",
    "    cate_cols[\"Loan_Amount_Term\"] = loan_df[\"Loan_Amount_Term\"]\n",
    "except:\n",
    "    pass\n",
    "cate_cols.head()"
   ]
  },
  {
   "cell_type": "markdown",
   "id": "2c71a27b",
   "metadata": {},
   "source": [
    "Vì số lượng cột số khá ít nên bọn em sẽ trực quan hoá mối liên hệ giữa từng cột numeric với tổng thu nhập."
   ]
  },
  {
   "cell_type": "code",
   "execution_count": 109,
   "id": "fe0c104e",
   "metadata": {},
   "outputs": [
    {
     "data": {
      "image/png": "[encoded data removed]",
      "text/plain": [
       "<Figure size 360x360 with 1 Axes>"
      ]
     },
     "metadata": {
      "needs_background": "light"
     },
     "output_type": "display_data"
    },
    {
     "data": {
      "image/png": "[encoded data removed]",
      "text/plain": [
       "<Figure size 360x360 with 1 Axes>"
      ]
     },
     "metadata": {
      "needs_background": "light"
     },
     "output_type": "display_data"
    },
    {
     "data": {
      "image/png": "[encoded data removed]",
      "text/plain": [
       "<Figure size 360x360 with 1 Axes>"
      ]
     },
     "metadata": {
      "needs_background": "light"
     },
     "output_type": "display_data"
    }
   ],
   "source": [
    "for col in nume_cols:\n",
    "    if col == \"Total_Income\":\n",
    "        continue\n",
    "    sns.lmplot(x=col,y='Total_Income',data=loan_df[[col,\"Total_Income\"]],fit_reg=True)\n"
   ]
  },
  {
   "cell_type": "markdown",
   "id": "c80fd120",
   "metadata": {},
   "source": [
    "- Hai cột income cộng lại bằng cột income tổng (đã khám phá ra ở bước khám phá dữ liệu). Ta cũng có thể thấy sự tỉ lệ thuận của hai cột này với TotalIncome.\n",
    "- Cột LoanAmount có vẻ tỉ lệ thuận với TotalIncome.  \n",
    "==> Ta có kết luận khá thú vị : người càng có thu nhập thì vay tiền càng nhiều."
   ]
  },
  {
   "cell_type": "markdown",
   "id": "d22e3005",
   "metadata": {},
   "source": [
    "## Cột categories"
   ]
  },
  {
   "cell_type": "code",
   "execution_count": 110,
   "id": "5d44cec8",
   "metadata": {},
   "outputs": [
    {
     "data": {
      "image/png": "[encoded data removed]",
      "text/plain": [
       "<Figure size 432x288 with 1 Axes>"
      ]
     },
     "metadata": {
      "needs_background": "light"
     },
     "output_type": "display_data"
    },
    {
     "data": {
      "image/png": "[encoded data removed]",
      "text/plain": [
       "<Figure size 432x288 with 1 Axes>"
      ]
     },
     "metadata": {
      "needs_background": "light"
     },
     "output_type": "display_data"
    },
    {
     "data": {
      "image/png": "[encoded data removed]",
      "text/plain": [
       "<Figure size 432x288 with 1 Axes>"
      ]
     },
     "metadata": {
      "needs_background": "light"
     },
     "output_type": "display_data"
    },
    {
     "data": {
      "image/png": "[encoded data removed]",
      "text/plain": [
       "<Figure size 432x288 with 1 Axes>"
      ]
     },
     "metadata": {
      "needs_background": "light"
     },
     "output_type": "display_data"
    },
    {
     "data": {
      "image/png": "[encoded data removed]",
      "text/plain": [
       "<Figure size 432x288 with 1 Axes>"
      ]
     },
     "metadata": {
      "needs_background": "light"
     },
     "output_type": "display_data"
    },
    {
     "data": {
      "image/png": "[encoded data removed]",
      "text/plain": [
       "<Figure size 432x288 with 1 Axes>"
      ]
     },
     "metadata": {
      "needs_background": "light"
     },
     "output_type": "display_data"
    },
    {
     "data": {
      "image/png": "[encoded data removed]",
      "text/plain": [
       "<Figure size 432x288 with 1 Axes>"
      ]
     },
     "metadata": {
      "needs_background": "light"
     },
     "output_type": "display_data"
    },
    {
     "data": {
      "image/png": "[encoded data removed]",
      "text/plain": [
       "<Figure size 432x288 with 1 Axes>"
      ]
     },
     "metadata": {
      "needs_background": "light"
     },
     "output_type": "display_data"
    },
    {
     "data": {
      "image/png": "[encoded data removed]",
      "text/plain": [
       "<Figure size 432x288 with 1 Axes>"
      ]
     },
     "metadata": {
      "needs_background": "light"
     },
     "output_type": "display_data"
    }
   ],
   "source": [
    "_compare = []\n",
    "for col in cate_cols:\n",
    "    _compare.append(loan_df[[col,\"Total_Income\"]].groupby(col).mean())\n",
    "    _compare[-1].plot.bar()\n",
    "    plt.show()"
   ]
  },
  {
   "cell_type": "markdown",
   "id": "aadf59db",
   "metadata": {},
   "source": [
    "Như vậy là ta đã có được những yếu tố ảnh hưởng đến tổng thu nhập của một cá nhân như : giới tính, hôn nhân, self-employ,...  \n",
    "Tuy nhiên, bọn em khá tò mò về hai đặc trưng khá là liên quan nhau : giới tính và kết hôn. Liệu rằng Income của một giới sẽ thay đổi như nào trước khi kết hôn và sau khi kết hôn? Ví dụ như liệu rằng thu nhập của nữ có tăng lên (thu tiền lương của chồng) hay thu nhập của nam sẽ giảm xuống (điều ngược lại)."
   ]
  },
  {
   "cell_type": "markdown",
   "id": "97158503",
   "metadata": {},
   "source": [
    "Để trả lời, bọn em sẽ dùng kĩ thuật gom nhóm (hay còn gọi là groupby, một kỹ thuật rất hay bọn em **học được của thầy Kiên**) dựa vào giới tính vào tình trạng hôn nhân và tính trung bình thu nhập của từng nhóm."
   ]
  },
  {
   "cell_type": "code",
   "execution_count": 184,
   "id": "5c570040",
   "metadata": {},
   "outputs": [],
   "source": [
    "gender_married = loan_df.groupby([\"Gender\",\"Married\"]).mean()[\"Total_Income\"]"
   ]
  },
  {
   "cell_type": "code",
   "execution_count": 176,
   "id": "60721f1e",
   "metadata": {},
   "outputs": [
    {
     "data": {
      "text/plain": [
       "<AxesSubplot:xlabel='Gender,Married'>"
      ]
     },
     "execution_count": 176,
     "metadata": {},
     "output_type": "execute_result"
    },
    {
     "data": {
      "image/png": "[encoded data removed]",
      "text/plain": [
       "<Figure size 432x288 with 1 Axes>"
      ]
     },
     "metadata": {
      "needs_background": "light"
     },
     "output_type": "display_data"
    }
   ],
   "source": [
    "gender_married.plot.bar()"
   ]
  },
  {
   "cell_type": "markdown",
   "id": "502db197",
   "metadata": {},
   "source": [
    "Có vẻ nam và nữ đều tăng mức thu nhập bình quân nếu so với nhóm chưa kết hôn. \n",
    "Ta tiến hành so sánh sự chệnh lệnh trước và sau hôn nhân của nam và nữ (tăng lên bao nhiêu %).  \n",
    "Ở đây, bọn em sử dụng kỹ thuật thay đổi shape của dataframe (một kỹ thuật rất hay bọn em học được của thầy Kiên)."
   ]
  },
  {
   "cell_type": "code",
   "execution_count": 189,
   "id": "6db7c5ae",
   "metadata": {},
   "outputs": [
    {
     "data": {
      "text/plain": [
       "Gender\n",
       "Female    15.394208\n",
       "Male       4.485606\n",
       "dtype: float64"
      ]
     },
     "execution_count": 189,
     "metadata": {},
     "output_type": "execute_result"
    }
   ],
   "source": [
    "gender_married_diff = gender_married.unstack(1).T\n",
    "(gender_married_diff.loc['Yes'].subtract(gender_married_diff.loc['No'])).divide(gender_married_diff.loc['No'])*100"
   ]
  },
  {
   "cell_type": "markdown",
   "id": "3c670e41",
   "metadata": {},
   "source": [
    "Có vẻ như sau khi tiến đến hôn nhân, thu nhập của phái nữ tăng trưởng mạnh hơn so với nam (gấp 3 lần)"
   ]
  },
  {
   "cell_type": "markdown",
   "id": "aa2c013f",
   "metadata": {},
   "source": [
    "Như vậy, ta đã có câu trả lời cho câu hỏi đưa ra từ đầu : \n",
    "- Càng vay nhiều tiền thì thu nhập càng cao\n",
    "- Nam có thu nhập nhiều hơn nữ\n",
    "- Khi kết hôn, tăng trưởng thu nhập của nữ nhiều gấp 3 lần nam.\n",
    "- Càng gần trung tâm (tức mức độ đô thị hoá cao) thì càng có thu nhập cao.\n",
    "- Người có bằng cấp thì thu nhập cao hơn.\n",
    "- Người làm công (tức không phải self-employed) thì thu nhập thấp hơn.  \n",
    "\n",
    "Tuy nhiên, hai biến với nhau cũng không thể kết luận là có quan hệ nhân quả. Bọn em chỉ có thể đưa ra những ý tưởng, còn việc kiểm chứng thì phải cần nhiều nỗ lực lẫn dữ liệu hơn (điều mà không bao gồm trong khuôn khổ đồ án này)."
   ]
  }
 ],
 "metadata": {
  "kernelspec": {
   "display_name": "Python 3 (ipykernel)",
   "language": "python",
   "name": "python3"
  },
  "language_info": {
   "codemirror_mode": {
    "name": "ipython",
    "version": 3
   },
   "file_extension": ".py",
   "mimetype": "text/x-python",
   "name": "python",
   "nbconvert_exporter": "python",
   "pygments_lexer": "ipython3",
   "version": "3.10.0"
  },
  "toc": {
   "base_numbering": 1,
   "nav_menu": {},
   "number_sections": true,
   "sideBar": true,
   "skip_h1_title": false,
   "title_cell": "Table of Contents",
   "title_sidebar": "Contents",
   "toc_cell": false,
   "toc_position": {},
   "toc_section_display": true,
   "toc_window_display": false
  }
 },
 "nbformat": 4,
 "nbformat_minor": 5
}
