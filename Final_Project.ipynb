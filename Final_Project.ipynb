{
 "cells": [
  {
   "cell_type": "markdown",
   "id": "c624d1c9",
   "metadata": {},
   "source": [
    "# Tên thành viên: \n",
    "1. Vũ Công Duy - 19120212\n",
    "2. Tô Gia Thuận - 19120389"
   ]
  },
  {
   "cell_type": "markdown",
   "id": "0715c2c4",
   "metadata": {},
   "source": [
    "# Import thư viện"
   ]
  },
  {
   "cell_type": "code",
   "execution_count": 1,
   "id": "2661e9dc",
   "metadata": {},
   "outputs": [],
   "source": [
    "import numpy as np\n",
    "import pandas as pd\n",
    "import matplotlib.pyplot as plt\n",
    "import re\n",
    "import copy\n",
    "import seaborn as sns"
   ]
  },
  {
   "cell_type": "markdown",
   "id": "89b694ec",
   "metadata": {},
   "source": [
    "# Thu thập dữ liệu"
   ]
  },
  {
   "cell_type": "markdown",
   "id": "ea5f79c6",
   "metadata": {},
   "source": [
    "Dữ liệu được sử dụng trong đồ án này là tập dữ liệu được thu thập sẵn và được đăng tải trên Kaggle. Đây là tập dữ liệu thông tin về các khoản vay bao gồm thông tin cá nhân của người vay và khoản vay có được chấp nhận hay không.\n",
    "Dữ liệu bao gồm :  \n",
    "- File `df1_loan.csv` : tập dữ liệu \n",
    "\n",
    "Nguồn dữ liệu: [Loan Application Data](https://www.kaggle.com/vipin20/loan-application-data?fbclid=IwAR1fjcdLGjY-5E5rgJMjQwrH2PGrnum4G3dyXH2ZnEIE8rg1RXMu-7hA95Q)\n",
    "\n",
    "Thông tin mô tả dữ liệu được trích dẫn một phần từ nguồn trên:\n",
    ">About data set\n",
    "Among all industries, Banking domain has the largest use of analytics & data science methods. This data set would provide you enough taste of working on data sets from insurance companies and banks, what challenges are faced, what strategies are used, etc. This is a classification problem. The data has 615 rows and 14 features to predict weather loan approved or not approved.\n",
    "\n",
    ">Company wants to automate the loan eligibility process (real time) based on customer detail provided while filling online application form. These details are Gender, Marital Status, Education, Number of Dependents, Income, Loan Amount, Credit History and others. To automate this process, they have given a problem to identify the customers segments, those are eligible for loan amount so that they can specifically target these customers.\n",
    "\n"
   ]
  },
  {
   "cell_type": "markdown",
   "id": "3a778adb",
   "metadata": {},
   "source": [
    "# Khám phá dữ liệu (trong quá trình khám phá, có thể sẽ dừng lại để tiền xử lý)"
   ]
  },
  {
   "cell_type": "markdown",
   "id": "774754e4",
   "metadata": {},
   "source": [
    "## Đọc dữ liệu từ file vào dataframe"
   ]
  },
  {
   "cell_type": "code",
   "execution_count": 2,
   "id": "2724930b",
   "metadata": {
    "scrolled": true
   },
   "outputs": [
    {
     "data": {
      "text/html": [
       "<div>\n",
       "<style scoped>\n",
       "    .dataframe tbody tr th:only-of-type {\n",
       "        vertical-align: middle;\n",
       "    }\n",
       "\n",
       "    .dataframe tbody tr th {\n",
       "        vertical-align: top;\n",
       "    }\n",
       "\n",
       "    .dataframe thead th {\n",
       "        text-align: right;\n",
       "    }\n",
       "</style>\n",
       "<table border=\"1\" class=\"dataframe\">\n",
       "  <thead>\n",
       "    <tr style=\"text-align: right;\">\n",
       "      <th></th>\n",
       "      <th>Loan_ID</th>\n",
       "      <th>Gender</th>\n",
       "      <th>Married</th>\n",
       "      <th>Dependents</th>\n",
       "      <th>Education</th>\n",
       "      <th>Self_Employed</th>\n",
       "      <th>ApplicantIncome</th>\n",
       "      <th>CoapplicantIncome</th>\n",
       "      <th>LoanAmount</th>\n",
       "      <th>Loan_Amount_Term</th>\n",
       "      <th>Credit_History</th>\n",
       "      <th>Property_Area</th>\n",
       "      <th>Loan_Status</th>\n",
       "      <th>Total_Income</th>\n",
       "    </tr>\n",
       "  </thead>\n",
       "  <tbody>\n",
       "    <tr>\n",
       "      <th>0</th>\n",
       "      <td>LP001002</td>\n",
       "      <td>Male</td>\n",
       "      <td>No</td>\n",
       "      <td>0</td>\n",
       "      <td>Graduate</td>\n",
       "      <td>No</td>\n",
       "      <td>5849</td>\n",
       "      <td>0.0</td>\n",
       "      <td>NaN</td>\n",
       "      <td>360.0</td>\n",
       "      <td>1.0</td>\n",
       "      <td>Urban</td>\n",
       "      <td>Y</td>\n",
       "      <td>$5849.0</td>\n",
       "    </tr>\n",
       "    <tr>\n",
       "      <th>1</th>\n",
       "      <td>LP001003</td>\n",
       "      <td>Male</td>\n",
       "      <td>Yes</td>\n",
       "      <td>1</td>\n",
       "      <td>Graduate</td>\n",
       "      <td>No</td>\n",
       "      <td>4583</td>\n",
       "      <td>1508.0</td>\n",
       "      <td>128.0</td>\n",
       "      <td>360.0</td>\n",
       "      <td>1.0</td>\n",
       "      <td>Rural</td>\n",
       "      <td>N</td>\n",
       "      <td>$6091.0</td>\n",
       "    </tr>\n",
       "    <tr>\n",
       "      <th>2</th>\n",
       "      <td>LP001005</td>\n",
       "      <td>Male</td>\n",
       "      <td>Yes</td>\n",
       "      <td>0</td>\n",
       "      <td>Graduate</td>\n",
       "      <td>Yes</td>\n",
       "      <td>3000</td>\n",
       "      <td>0.0</td>\n",
       "      <td>66.0</td>\n",
       "      <td>360.0</td>\n",
       "      <td>1.0</td>\n",
       "      <td>Urban</td>\n",
       "      <td>Y</td>\n",
       "      <td>$3000.0</td>\n",
       "    </tr>\n",
       "    <tr>\n",
       "      <th>3</th>\n",
       "      <td>LP001006</td>\n",
       "      <td>Male</td>\n",
       "      <td>Yes</td>\n",
       "      <td>0</td>\n",
       "      <td>Not Graduate</td>\n",
       "      <td>No</td>\n",
       "      <td>2583</td>\n",
       "      <td>2358.0</td>\n",
       "      <td>120.0</td>\n",
       "      <td>360.0</td>\n",
       "      <td>1.0</td>\n",
       "      <td>Urban</td>\n",
       "      <td>Y</td>\n",
       "      <td>$4941.0</td>\n",
       "    </tr>\n",
       "    <tr>\n",
       "      <th>4</th>\n",
       "      <td>LP001008</td>\n",
       "      <td>Male</td>\n",
       "      <td>No</td>\n",
       "      <td>0</td>\n",
       "      <td>Graduate</td>\n",
       "      <td>No</td>\n",
       "      <td>6000</td>\n",
       "      <td>0.0</td>\n",
       "      <td>141.0</td>\n",
       "      <td>360.0</td>\n",
       "      <td>1.0</td>\n",
       "      <td>Urban</td>\n",
       "      <td>Y</td>\n",
       "      <td>$6000.0</td>\n",
       "    </tr>\n",
       "  </tbody>\n",
       "</table>\n",
       "</div>"
      ],
      "text/plain": [
       "    Loan_ID Gender Married Dependents     Education Self_Employed  \\\n",
       "0  LP001002   Male      No          0      Graduate            No   \n",
       "1  LP001003   Male     Yes          1      Graduate            No   \n",
       "2  LP001005   Male     Yes          0      Graduate           Yes   \n",
       "3  LP001006   Male     Yes          0  Not Graduate            No   \n",
       "4  LP001008   Male      No          0      Graduate            No   \n",
       "\n",
       "   ApplicantIncome  CoapplicantIncome  LoanAmount  Loan_Amount_Term  \\\n",
       "0             5849                0.0         NaN             360.0   \n",
       "1             4583             1508.0       128.0             360.0   \n",
       "2             3000                0.0        66.0             360.0   \n",
       "3             2583             2358.0       120.0             360.0   \n",
       "4             6000                0.0       141.0             360.0   \n",
       "\n",
       "   Credit_History Property_Area Loan_Status Total_Income  \n",
       "0             1.0         Urban           Y      $5849.0  \n",
       "1             1.0         Rural           N      $6091.0  \n",
       "2             1.0         Urban           Y      $3000.0  \n",
       "3             1.0         Urban           Y      $4941.0  \n",
       "4             1.0         Urban           Y      $6000.0  "
      ]
     },
     "execution_count": 2,
     "metadata": {},
     "output_type": "execute_result"
    }
   ],
   "source": [
    "loan_df = pd.read_csv('Data/df1_loan.csv', delimiter=',', index_col=0)\n",
    "loan_df.head()"
   ]
  },
  {
   "cell_type": "markdown",
   "id": "84ea1255",
   "metadata": {},
   "source": [
    "## Dữ liệu bao gồm bao nhiêu dòng và bao nhiêu cột?"
   ]
  },
  {
   "cell_type": "code",
   "execution_count": 3,
   "id": "01a10639",
   "metadata": {},
   "outputs": [
    {
     "data": {
      "text/plain": [
       "(500, 14)"
      ]
     },
     "execution_count": 3,
     "metadata": {},
     "output_type": "execute_result"
    }
   ],
   "source": [
    "loan_df.shape"
   ]
  },
  {
   "cell_type": "markdown",
   "id": "80981ddd",
   "metadata": {},
   "source": [
    "## Quan sát sơ lược về dữ liệu"
   ]
  },
  {
   "cell_type": "code",
   "execution_count": 4,
   "id": "fa09cbd2",
   "metadata": {},
   "outputs": [
    {
     "name": "stdout",
     "output_type": "stream",
     "text": [
      "<class 'pandas.core.frame.DataFrame'>\n",
      "Int64Index: 500 entries, 0 to 499\n",
      "Data columns (total 14 columns):\n",
      " #   Column             Non-Null Count  Dtype  \n",
      "---  ------             --------------  -----  \n",
      " 0   Loan_ID            500 non-null    object \n",
      " 1   Gender             491 non-null    object \n",
      " 2   Married            497 non-null    object \n",
      " 3   Dependents         488 non-null    object \n",
      " 4   Education          500 non-null    object \n",
      " 5   Self_Employed      473 non-null    object \n",
      " 6   ApplicantIncome    500 non-null    int64  \n",
      " 7   CoapplicantIncome  500 non-null    float64\n",
      " 8   LoanAmount         482 non-null    float64\n",
      " 9   Loan_Amount_Term   486 non-null    float64\n",
      " 10  Credit_History     459 non-null    float64\n",
      " 11  Property_Area      500 non-null    object \n",
      " 12  Loan_Status        500 non-null    object \n",
      " 13  Total_Income       500 non-null    object \n",
      "dtypes: float64(4), int64(1), object(9)\n",
      "memory usage: 58.6+ KB\n"
     ]
    }
   ],
   "source": [
    "loan_df.info()"
   ]
  },
  {
   "cell_type": "markdown",
   "id": "5024af9e",
   "metadata": {},
   "source": [
    "## Mỗi dòng có ý nghĩa gì?\n"
   ]
  },
  {
   "cell_type": "markdown",
   "id": "dacaf25e",
   "metadata": {},
   "source": [
    "Mỗi dòng là thông tin về một đơn đăng ký khoản vay của một người nào đó."
   ]
  },
  {
   "cell_type": "markdown",
   "id": "fc62b3a0",
   "metadata": {},
   "source": [
    "## Có dòng nào bị lặp không? Nếu có thì bao nhiêu dòng bị lặp?"
   ]
  },
  {
   "cell_type": "code",
   "execution_count": 5,
   "id": "3175881d",
   "metadata": {},
   "outputs": [
    {
     "name": "stdout",
     "output_type": "stream",
     "text": [
      "Không dòng nào bị lặp\n"
     ]
    }
   ],
   "source": [
    "re = loan_df.duplicated()\n",
    "if re.any():\n",
    "    print(f\"Số dòng bị lặp: {sum(re)}\")\n",
    "else:\n",
    "    print('Không dòng nào bị lặp')"
   ]
  },
  {
   "cell_type": "markdown",
   "id": "860b9b60",
   "metadata": {},
   "source": [
    "## Mỗi cột có ý nghĩa gì?"
   ]
  },
  {
   "cell_type": "code",
   "execution_count": 6,
   "id": "d9a86b4f",
   "metadata": {},
   "outputs": [
    {
     "name": "stdout",
     "output_type": "stream",
     "text": [
      "Loan_ID : Unique Loan application ID\n",
      "Gender : Gender of applicant male or female\n",
      "Married : Married Status! Yes or no\n",
      "Dependents:Dependents of applicant\n",
      "Education : Education, Graduate or Not Graduate\n",
      "Self_Employed : Self_Employed! Yes or No\n",
      "ApplicantIncome : Applicant total Income\n",
      "CoapplicantIncome : Coapplicant total Income\n",
      "LoanAmount : Loan Amount apply for loan\n",
      "Loan_Amount_Term : Loan Amount Term\n",
      "Credit_History : Credit History\n",
      "Property_Area : Property Area\n",
      "Loan_Status : Loan Status, approved or not\n",
      "Total_Income : Total Icome\n",
      "\n"
     ]
    }
   ],
   "source": [
    "with open('description.txt', 'r') as f:\n",
    "    print(f.read())"
   ]
  },
  {
   "cell_type": "markdown",
   "id": "8c4e8c9b",
   "metadata": {},
   "source": [
    "Từ thông tin trên, ta có thể hiểu ý nghĩa của các cột như sau:"
   ]
  },
  {
   "cell_type": "markdown",
   "id": "88cb1a49",
   "metadata": {},
   "source": [
    "|Tên cột|Ý nghĩa|\n",
    "|:---|:---|\n",
    "|**Loan_ID**|Mã định danh đăng ký vay tiền (mỗi Loan_ID là duy nhất)|\n",
    "|**Gender**|Giới tính của người đăng ký vay tiền|\n",
    "|**Married**|Tình trạng hôn nhân của người đăng ký vay tiền|\n",
    "|**Dependents**|Số người phụ thuộc vào người đăng ký vay tiền|\n",
    "|**Education**|Trình độ vấn của người đăng ký vay tiền|\n",
    "|**Self_Employed**|Người nộp đơn có đang làm việc tự do hay không|\n",
    "|**ApplicantIncome**|Thu nhập của người nộp đơn đăng ký vay tiền|\n",
    "|**CoapplicantIncome**|Thu nhập của người đồng đăng ký(người có cùng trách nhiệm với người ddăng ký)|\n",
    "|**LoanAmount**|Số tiền cho vay|\n",
    "|**Loan_Amount_Term**|Thời hạn cho vay tiền|\n",
    "|**Credit_History**|Lịch sử tín dụng|\n",
    "|**Property_Area**|Nhà ở nằm ở khu vực nào|\n",
    "|**Loan_Status**|Trạng thái khoản vay (có được duyệt hay không)|\n",
    "|**Total_Income**|Tổng thu nhập (bao gồm tổng thu nhập của người đăng ký và người cùng chịu trách nhiệm)|\n",
    "\n",
    "\n",
    "\n"
   ]
  },
  {
   "cell_type": "markdown",
   "id": "e6a1aec5",
   "metadata": {},
   "source": [
    "## Kiểu dữ liệu của mỗi cột là gì? Có cột nào có kiểu dữ liệu chưa phù hợp cần tiền xử lý không?"
   ]
  },
  {
   "cell_type": "code",
   "execution_count": 7,
   "id": "6e09951a",
   "metadata": {},
   "outputs": [
    {
     "data": {
      "text/plain": [
       "Loan_ID               object\n",
       "Gender                object\n",
       "Married               object\n",
       "Dependents            object\n",
       "Education             object\n",
       "Self_Employed         object\n",
       "ApplicantIncome        int64\n",
       "CoapplicantIncome    float64\n",
       "LoanAmount           float64\n",
       "Loan_Amount_Term     float64\n",
       "Credit_History       float64\n",
       "Property_Area         object\n",
       "Loan_Status           object\n",
       "Total_Income          object\n",
       "dtype: object"
      ]
     },
     "execution_count": 7,
     "metadata": {},
     "output_type": "execute_result"
    }
   ],
   "source": [
    "loan_df.dtypes"
   ]
  },
  {
   "cell_type": "markdown",
   "id": "7b2eaddf",
   "metadata": {},
   "source": [
    "**Nhận xét**: \n",
    "- Có tới 2 cột định danh là cột index và cột `Loan_ID`.  Ta sẽ lựa chọn 1 trong 2 cột làm định danh và loại bỏ cột còn lại.  Ở đây ta sẽ chọn chọn cột đầu (vì nó tốn ít bộ nhớ hơn so với cột `Loan_ID`)\n",
    "- Cột `ApplicantIncome` có kiểu dữ liệu là int64, trong khi các cột numerical khác lại có kiểu dữ liệu là float64. Vậy để dễ dàng tính toán, ta chuyển cột ApplicantIncome sáng kiểu float.\n",
    "\n",
    "- Cột `Dependents` : ta thấy ở phần head() chỉ có dữ liệu là số nhưng khi quan sát phương thức info() thì lại thấy cột này có dạng object. Ta sẽ khám phá cột này xem có vấn đề gì không.\n",
    "\n",
    "- Cột `Loan_status` có 2 giá Y và N, cần chuẩn hóa thành Yes và No giúp cho người đọc dễ hiểu và đồng bộ kiểu giá trị với cột Married (có cùng kiểu giá trị)."
   ]
  },
  {
   "cell_type": "markdown",
   "id": "bf1793cb",
   "metadata": {},
   "source": [
    "## Tiền xử lý"
   ]
  },
  {
   "cell_type": "markdown",
   "id": "4bc0ccde",
   "metadata": {},
   "source": [
    "**Lưu ý**: Trong phần phía dưới sẽ có một số chỗ sử dụng kỹ thuật **try** và **except**, bởi vì có một số thao tác loại bỏ cột hoặc thay đổi giá trị của dòng. Nếu đã thỏa rồi sẽ không phải thực hiện nữa, vì thực hiện lại sẽ bị lỗi."
   ]
  },
  {
   "cell_type": "markdown",
   "id": "f8565d1c",
   "metadata": {},
   "source": [
    "### Cột `Loan_ID`"
   ]
  },
  {
   "cell_type": "code",
   "execution_count": 8,
   "id": "338fa56d",
   "metadata": {},
   "outputs": [],
   "source": [
    "try:\n",
    "    loan_df = loan_df.drop(columns=['Loan_ID'])\n",
    "except:\n",
    "    pass"
   ]
  },
  {
   "cell_type": "markdown",
   "id": "ef46da1c",
   "metadata": {},
   "source": [
    "### Cột `ApplicantIncome`"
   ]
  },
  {
   "cell_type": "code",
   "execution_count": 9,
   "id": "e66a4b27",
   "metadata": {},
   "outputs": [],
   "source": [
    "try:\n",
    "    loan_df['ApplicantIncome'] = loan_df['ApplicantIncome'].astype('float')\n",
    "except:\n",
    "    pass"
   ]
  },
  {
   "cell_type": "markdown",
   "id": "e3db622b",
   "metadata": {},
   "source": [
    "### Cột `Dependents`"
   ]
  },
  {
   "cell_type": "markdown",
   "id": "d21a8ad9",
   "metadata": {},
   "source": [
    "Ta sẽ tiến hành khám phá các giá trị có trong cột `Dependents`"
   ]
  },
  {
   "cell_type": "code",
   "execution_count": 10,
   "id": "bd7a6641",
   "metadata": {},
   "outputs": [
    {
     "data": {
      "text/plain": [
       "array(['0', '1', '2', '3+', nan], dtype=object)"
      ]
     },
     "execution_count": 10,
     "metadata": {},
     "output_type": "execute_result"
    }
   ],
   "source": [
    "loan_df['Dependents'].unique()"
   ]
  },
  {
   "cell_type": "markdown",
   "id": "d4040c68",
   "metadata": {},
   "source": [
    "Ta phát hiện ra có giá trị `3+`, đây là lý do khiến cho cột này có dạng `object`. Ta sẽ quy ước đổi `3+` thành `3` để đồng bộ."
   ]
  },
  {
   "cell_type": "code",
   "execution_count": 11,
   "id": "2170a719",
   "metadata": {},
   "outputs": [],
   "source": [
    "try:\n",
    "    loan_df.Dependents = loan_df.Dependents.str.replace(\"+\",\"\",regex=False).apply(pd.to_numeric)\n",
    "except:\n",
    "    pass"
   ]
  },
  {
   "cell_type": "markdown",
   "id": "cead4273",
   "metadata": {},
   "source": [
    "### Cột `Loan_Status`"
   ]
  },
  {
   "cell_type": "code",
   "execution_count": 12,
   "id": "3703b488",
   "metadata": {},
   "outputs": [],
   "source": [
    "pattern_convert = {'Y':'Yes',\n",
    "                  'N': 'No'}\n",
    "try:\n",
    "    loan_df['Loan_Status'] = loan_df['Loan_Status'].apply(lambda x: pattern_convert[x])\n",
    "except:\n",
    "    pass"
   ]
  },
  {
   "cell_type": "markdown",
   "id": "07908645",
   "metadata": {},
   "source": [
    "### Kiểm tra lại"
   ]
  },
  {
   "cell_type": "code",
   "execution_count": 13,
   "id": "ca458e65",
   "metadata": {
    "scrolled": false
   },
   "outputs": [
    {
     "data": {
      "text/plain": [
       "Gender                object\n",
       "Married               object\n",
       "Dependents           float64\n",
       "Education             object\n",
       "Self_Employed         object\n",
       "ApplicantIncome      float64\n",
       "CoapplicantIncome    float64\n",
       "LoanAmount           float64\n",
       "Loan_Amount_Term     float64\n",
       "Credit_History       float64\n",
       "Property_Area         object\n",
       "Loan_Status           object\n",
       "Total_Income          object\n",
       "dtype: object"
      ]
     },
     "execution_count": 13,
     "metadata": {},
     "output_type": "execute_result"
    }
   ],
   "source": [
    "loan_df.dtypes"
   ]
  },
  {
   "cell_type": "markdown",
   "id": "a9e0dfbc",
   "metadata": {},
   "source": [
    "Khá ổn rồi...."
   ]
  },
  {
   "cell_type": "markdown",
   "id": "39c1f891",
   "metadata": {},
   "source": [
    "### Chuyển dtype của cột Toltal_income sang dạng số"
   ]
  },
  {
   "cell_type": "markdown",
   "id": "9079d7c5",
   "metadata": {},
   "source": [
    "Có thể thấy cột `Total_income` thực chât là biểu diễn số liệu nhưng lại được biểu diễn dưới dạng object do có kí tự \"\\$\" đứng trước.  \n",
    "Ta sẽ tiến hành loại bỏ kí tự \"\\$\" đứng đầu và chuyển về dạng số.  "
   ]
  },
  {
   "cell_type": "code",
   "execution_count": 14,
   "id": "698985ca",
   "metadata": {},
   "outputs": [],
   "source": [
    "try:\n",
    "    loan_df.Total_Income = loan_df.Total_Income.str[1:].astype(np.float64)\n",
    "except:\n",
    "    pass"
   ]
  },
  {
   "cell_type": "markdown",
   "id": "276ac0f6",
   "metadata": {},
   "source": [
    "## Khám phá mới ! `Total_income = ApplicantIncome + CoapplicantIncome`"
   ]
  },
  {
   "cell_type": "markdown",
   "id": "a58f2e4c",
   "metadata": {},
   "source": [
    "Theo quan sát, ta thấy được `Total_income = ApplicantIncome + CoapplicantIncome`.  \n",
    "Kiểm chứng bằng code :"
   ]
  },
  {
   "cell_type": "code",
   "execution_count": 15,
   "id": "4fee28ff",
   "metadata": {},
   "outputs": [
    {
     "data": {
      "text/plain": [
       "True"
      ]
     },
     "execution_count": 15,
     "metadata": {},
     "output_type": "execute_result"
    }
   ],
   "source": [
    "np.all(loan_df.ApplicantIncome + loan_df.CoapplicantIncome == loan_df.Total_Income)"
   ]
  },
  {
   "cell_type": "markdown",
   "id": "47b5e73d",
   "metadata": {},
   "source": [
    "Đúng như dự đoán, `Total_income = ApplicantIncome + CoapplicantIncome` :)\n",
    "\n",
    "Tuy nhiên, em quyết định không loại bỏ cột nào cả vì có thể sau này cần dùng đến."
   ]
  },
  {
   "cell_type": "markdown",
   "id": "e24a5ce6",
   "metadata": {},
   "source": [
    "## Với mỗi cột dữ liệu dạng categorical, các giá trị được phân bố như thế nào?"
   ]
  },
  {
   "cell_type": "markdown",
   "id": "5af1448b",
   "metadata": {},
   "source": [
    "Ta tính cần tính\n",
    "- missing_ratio: tỉ lệ phần trăm các giá trị thiếu.\n",
    "- nums_diff_values: số lượng giá trị khác nhau (không xét giá trị thiếu).\n",
    "- diff_vals_ratio: tỉ lệ phần trăm của mỗi giá trị khác nhau ứng với mỗi cột (không xét giá trị thiếu), lưu dạng dictionary với key là tên giá trị và value là tỉ lệ phần trăm của giá trị đó."
   ]
  },
  {
   "cell_type": "code",
   "execution_count": 16,
   "id": "f8e094c6",
   "metadata": {
    "scrolled": false
   },
   "outputs": [
    {
     "data": {
      "text/html": [
       "<div>\n",
       "<style scoped>\n",
       "    .dataframe tbody tr th:only-of-type {\n",
       "        vertical-align: middle;\n",
       "    }\n",
       "\n",
       "    .dataframe tbody tr th {\n",
       "        vertical-align: top;\n",
       "    }\n",
       "\n",
       "    .dataframe thead th {\n",
       "        text-align: right;\n",
       "    }\n",
       "</style>\n",
       "<table border=\"1\" class=\"dataframe\">\n",
       "  <thead>\n",
       "    <tr style=\"text-align: right;\">\n",
       "      <th></th>\n",
       "      <th>Gender</th>\n",
       "      <th>Married</th>\n",
       "      <th>Dependents</th>\n",
       "      <th>Education</th>\n",
       "      <th>Self_Employed</th>\n",
       "      <th>Credit_History</th>\n",
       "      <th>Property_Area</th>\n",
       "      <th>Loan_Status</th>\n",
       "    </tr>\n",
       "  </thead>\n",
       "  <tbody>\n",
       "    <tr>\n",
       "      <th>missing_ratio</th>\n",
       "      <td>1.8</td>\n",
       "      <td>0.6</td>\n",
       "      <td>2.4</td>\n",
       "      <td>0.0</td>\n",
       "      <td>5.4</td>\n",
       "      <td>8.2</td>\n",
       "      <td>0.0</td>\n",
       "      <td>0.0</td>\n",
       "    </tr>\n",
       "    <tr>\n",
       "      <th>nums_diff_values</th>\n",
       "      <td>2</td>\n",
       "      <td>2</td>\n",
       "      <td>4</td>\n",
       "      <td>2</td>\n",
       "      <td>2</td>\n",
       "      <td>2</td>\n",
       "      <td>3</td>\n",
       "      <td>2</td>\n",
       "    </tr>\n",
       "    <tr>\n",
       "      <th>diff_vals_ratio</th>\n",
       "      <td>{'Male': 81.4663951120163, 'Female': 18.533604...</td>\n",
       "      <td>{'Yes': 64.7887323943662, 'No': 35.2112676056338}</td>\n",
       "      <td>{0.0: 59.01639344262295, 1.0: 16.5983606557377...</td>\n",
       "      <td>{'Graduate': 78.60000000000001, 'Not Graduate'...</td>\n",
       "      <td>{'No': 86.04651162790698, 'Yes': 13.9534883720...</td>\n",
       "      <td>{1.0: 84.31372549019608, 0.0: 15.686274509803921}</td>\n",
       "      <td>{'Semiurban': 37.6, 'Urban': 34.2, 'Rural': 28...</td>\n",
       "      <td>{'Yes': 69.0, 'No': 31.0}</td>\n",
       "    </tr>\n",
       "  </tbody>\n",
       "</table>\n",
       "</div>"
      ],
      "text/plain": [
       "                                                             Gender  \\\n",
       "missing_ratio                                                   1.8   \n",
       "nums_diff_values                                                  2   \n",
       "diff_vals_ratio   {'Male': 81.4663951120163, 'Female': 18.533604...   \n",
       "\n",
       "                                                            Married  \\\n",
       "missing_ratio                                                   0.6   \n",
       "nums_diff_values                                                  2   \n",
       "diff_vals_ratio   {'Yes': 64.7887323943662, 'No': 35.2112676056338}   \n",
       "\n",
       "                                                         Dependents  \\\n",
       "missing_ratio                                                   2.4   \n",
       "nums_diff_values                                                  4   \n",
       "diff_vals_ratio   {0.0: 59.01639344262295, 1.0: 16.5983606557377...   \n",
       "\n",
       "                                                          Education  \\\n",
       "missing_ratio                                                   0.0   \n",
       "nums_diff_values                                                  2   \n",
       "diff_vals_ratio   {'Graduate': 78.60000000000001, 'Not Graduate'...   \n",
       "\n",
       "                                                      Self_Employed  \\\n",
       "missing_ratio                                                   5.4   \n",
       "nums_diff_values                                                  2   \n",
       "diff_vals_ratio   {'No': 86.04651162790698, 'Yes': 13.9534883720...   \n",
       "\n",
       "                                                     Credit_History  \\\n",
       "missing_ratio                                                   8.2   \n",
       "nums_diff_values                                                  2   \n",
       "diff_vals_ratio   {1.0: 84.31372549019608, 0.0: 15.686274509803921}   \n",
       "\n",
       "                                                      Property_Area  \\\n",
       "missing_ratio                                                   0.0   \n",
       "nums_diff_values                                                  3   \n",
       "diff_vals_ratio   {'Semiurban': 37.6, 'Urban': 34.2, 'Rural': 28...   \n",
       "\n",
       "                                Loan_Status  \n",
       "missing_ratio                           0.0  \n",
       "nums_diff_values                          2  \n",
       "diff_vals_ratio   {'Yes': 69.0, 'No': 31.0}  "
      ]
     },
     "execution_count": 16,
     "metadata": {},
     "output_type": "execute_result"
    }
   ],
   "source": [
    "def missing_ratio(s):\n",
    "    return s.isna().mean()*100\n",
    "def nums_diff_values(s):\n",
    "    return s.dropna().nunique()\n",
    "def diff_vals_ratio(s):\n",
    "    s = s.dropna()\n",
    "    return (s.value_counts()/len(s)*100).to_dict()\n",
    "\n",
    "#cate_cols = loan_df.select_dtypes(exclude=['float32','float64','int32','int64'])\n",
    "cate_cols = loan_df.columns[loan_df.nunique() <= 9]\n",
    "cate_cols = loan_df[cate_cols]\n",
    "cate_cols_info = cate_cols.agg([missing_ratio, nums_diff_values, diff_vals_ratio])\n",
    "cate_cols_info"
   ]
  },
  {
   "cell_type": "markdown",
   "id": "3415b65c",
   "metadata": {},
   "source": [
    "Ta tiến hành trực quan hoá để có cái nhìn tổng quát hơn về dữ liệu categories"
   ]
  },
  {
   "cell_type": "code",
   "execution_count": 17,
   "id": "939d6107",
   "metadata": {},
   "outputs": [
    {
     "data": {
      "image/png": "[encoded data removed]",
      "text/plain": [
       "<Figure size 432x288 with 1 Axes>"
      ]
     },
     "metadata": {
      "needs_background": "light"
     },
     "output_type": "display_data"
    },
    {
     "data": {
      "image/png": "[encoded data removed]",
      "text/plain": [
       "<Figure size 432x288 with 1 Axes>"
      ]
     },
     "metadata": {
      "needs_background": "light"
     },
     "output_type": "display_data"
    },
    {
     "data": {
      "image/png": "[encoded data removed]",
      "text/plain": [
       "<Figure size 432x288 with 1 Axes>"
      ]
     },
     "metadata": {
      "needs_background": "light"
     },
     "output_type": "display_data"
    },
    {
     "data": {
      "image/png": "[encoded data removed]",
      "text/plain": [
       "<Figure size 432x288 with 1 Axes>"
      ]
     },
     "metadata": {
      "needs_background": "light"
     },
     "output_type": "display_data"
    },
    {
     "data": {
      "image/png": "[encoded data removed]",
      "text/plain": [
       "<Figure size 432x288 with 1 Axes>"
      ]
     },
     "metadata": {
      "needs_background": "light"
     },
     "output_type": "display_data"
    },
    {
     "data": {
      "image/png": "[encoded data removed]",
      "text/plain": [
       "<Figure size 432x288 with 1 Axes>"
      ]
     },
     "metadata": {
      "needs_background": "light"
     },
     "output_type": "display_data"
    },
    {
     "data": {
      "image/png": "[encoded data removed]",
      "text/plain": [
       "<Figure size 432x288 with 1 Axes>"
      ]
     },
     "metadata": {
      "needs_background": "light"
     },
     "output_type": "display_data"
    },
    {
     "data": {
      "image/png": "[encoded data removed]",
      "text/plain": [
       "<Figure size 432x288 with 1 Axes>"
      ]
     },
     "metadata": {
      "needs_background": "light"
     },
     "output_type": "display_data"
    }
   ],
   "source": [
    "for col in cate_cols:\n",
    "    loan_df[col].value_counts().plot.bar()\n",
    "    plt.xlabel(col)\n",
    "    plt.show()"
   ]
  },
  {
   "cell_type": "markdown",
   "id": "de3ed39f",
   "metadata": {},
   "source": [
    "Ta thấy các dữ liệu dạng categorical khá ổn và giống với mô tả về tập dữ liệu."
   ]
  },
  {
   "cell_type": "markdown",
   "id": "0add4656",
   "metadata": {},
   "source": [
    "## Với mỗi cột dữ liệu dạng numerical, các giá trị được phân bố như thế nào?"
   ]
  },
  {
   "cell_type": "markdown",
   "id": "0018d919",
   "metadata": {},
   "source": [
    "Ta tiến hành tính các thông số missing_ratio (tỉ lệ phần trăm các giá trị thiếu), mean, min, median, max.\n",
    "\n",
    "- Các cột `Dependents`, `Loan_Amount_Term` và `Credit_History` chỉ gồm một số giá trị cố định (quá trình thống kê sẽ không khả quan), nên ta sẽ không xét các cột đó trong quá trình thống kê. Ta tiến hành lấy các cột có nhiều hơn 10 giá trị khác nhau để xem phân bố giá trị của các cột đó."
   ]
  },
  {
   "cell_type": "code",
   "execution_count": 18,
   "id": "986d3657",
   "metadata": {
    "scrolled": false
   },
   "outputs": [
    {
     "data": {
      "text/html": [
       "<div>\n",
       "<style scoped>\n",
       "    .dataframe tbody tr th:only-of-type {\n",
       "        vertical-align: middle;\n",
       "    }\n",
       "\n",
       "    .dataframe tbody tr th {\n",
       "        vertical-align: top;\n",
       "    }\n",
       "\n",
       "    .dataframe thead th {\n",
       "        text-align: right;\n",
       "    }\n",
       "</style>\n",
       "<table border=\"1\" class=\"dataframe\">\n",
       "  <thead>\n",
       "    <tr style=\"text-align: right;\">\n",
       "      <th></th>\n",
       "      <th>ApplicantIncome</th>\n",
       "      <th>CoapplicantIncome</th>\n",
       "      <th>LoanAmount</th>\n",
       "      <th>Loan_Amount_Term</th>\n",
       "      <th>Total_Income</th>\n",
       "    </tr>\n",
       "  </thead>\n",
       "  <tbody>\n",
       "    <tr>\n",
       "      <th>missing_ratio</th>\n",
       "      <td>0.000000</td>\n",
       "      <td>0.000000</td>\n",
       "      <td>3.600000</td>\n",
       "      <td>2.800000</td>\n",
       "      <td>0.000000</td>\n",
       "    </tr>\n",
       "    <tr>\n",
       "      <th>mean</th>\n",
       "      <td>5493.644000</td>\n",
       "      <td>1506.307840</td>\n",
       "      <td>144.020747</td>\n",
       "      <td>342.543210</td>\n",
       "      <td>6999.951840</td>\n",
       "    </tr>\n",
       "    <tr>\n",
       "      <th>std</th>\n",
       "      <td>6515.668972</td>\n",
       "      <td>2134.432188</td>\n",
       "      <td>82.344919</td>\n",
       "      <td>63.834977</td>\n",
       "      <td>6605.759256</td>\n",
       "    </tr>\n",
       "    <tr>\n",
       "      <th>min</th>\n",
       "      <td>150.000000</td>\n",
       "      <td>0.000000</td>\n",
       "      <td>17.000000</td>\n",
       "      <td>12.000000</td>\n",
       "      <td>1442.000000</td>\n",
       "    </tr>\n",
       "    <tr>\n",
       "      <th>median</th>\n",
       "      <td>3854.000000</td>\n",
       "      <td>1125.500000</td>\n",
       "      <td>126.500000</td>\n",
       "      <td>360.000000</td>\n",
       "      <td>5332.500000</td>\n",
       "    </tr>\n",
       "    <tr>\n",
       "      <th>max</th>\n",
       "      <td>81000.000000</td>\n",
       "      <td>20000.000000</td>\n",
       "      <td>700.000000</td>\n",
       "      <td>480.000000</td>\n",
       "      <td>81000.000000</td>\n",
       "    </tr>\n",
       "  </tbody>\n",
       "</table>\n",
       "</div>"
      ],
      "text/plain": [
       "               ApplicantIncome  CoapplicantIncome  LoanAmount  \\\n",
       "missing_ratio         0.000000           0.000000    3.600000   \n",
       "mean               5493.644000        1506.307840  144.020747   \n",
       "std                6515.668972        2134.432188   82.344919   \n",
       "min                 150.000000           0.000000   17.000000   \n",
       "median             3854.000000        1125.500000  126.500000   \n",
       "max               81000.000000       20000.000000  700.000000   \n",
       "\n",
       "               Loan_Amount_Term  Total_Income  \n",
       "missing_ratio          2.800000      0.000000  \n",
       "mean                 342.543210   6999.951840  \n",
       "std                   63.834977   6605.759256  \n",
       "min                   12.000000   1442.000000  \n",
       "median               360.000000   5332.500000  \n",
       "max                  480.000000  81000.000000  "
      ]
     },
     "execution_count": 18,
     "metadata": {},
     "output_type": "execute_result"
    }
   ],
   "source": [
    "\n",
    "nume_cols = loan_df.columns[loan_df.nunique() > 9]\n",
    "nume_cols = loan_df[nume_cols]\n",
    "nume_cols_info = nume_cols.agg([missing_ratio,'mean', 'std', 'min','median','max'])\n",
    "nume_cols_info"
   ]
  },
  {
   "cell_type": "markdown",
   "id": "70065b2d",
   "metadata": {},
   "source": [
    "Ta sẽ tiến hành trực quan hoá dữ liệu dạng numeric xem có gì bất thường không."
   ]
  },
  {
   "cell_type": "code",
   "execution_count": 19,
   "id": "c35d7bee",
   "metadata": {},
   "outputs": [
    {
     "data": {
      "image/png": "[encoded data removed]",
      "text/plain": [
       "<Figure size 432x288 with 1 Axes>"
      ]
     },
     "metadata": {
      "needs_background": "light"
     },
     "output_type": "display_data"
    },
    {
     "data": {
      "image/png": "[encoded data removed]",
      "text/plain": [
       "<Figure size 432x288 with 1 Axes>"
      ]
     },
     "metadata": {
      "needs_background": "light"
     },
     "output_type": "display_data"
    },
    {
     "data": {
      "image/png": "[encoded data removed]",
      "text/plain": [
       "<Figure size 432x288 with 1 Axes>"
      ]
     },
     "metadata": {
      "needs_background": "light"
     },
     "output_type": "display_data"
    },
    {
     "data": {
      "image/png": "[encoded data removed]",
      "text/plain": [
       "<Figure size 432x288 with 1 Axes>"
      ]
     },
     "metadata": {
      "needs_background": "light"
     },
     "output_type": "display_data"
    },
    {
     "data": {
      "image/png": "[encoded data removed]",
      "text/plain": [
       "<Figure size 432x288 with 1 Axes>"
      ]
     },
     "metadata": {
      "needs_background": "light"
     },
     "output_type": "display_data"
    }
   ],
   "source": [
    "for col in nume_cols:\n",
    "    loan_df[col].plot.hist(bins=50)\n",
    "    plt.xlabel(col)\n",
    "    plt.show()"
   ]
  },
  {
   "cell_type": "markdown",
   "id": "774bb5f1",
   "metadata": {},
   "source": [
    "Ta nhận thấy outlier của các **cột dữ liệu numerical** khá là kinh dị và sẽ rất tệ nếu ta không xử lý chúng."
   ]
  },
  {
   "cell_type": "markdown",
   "id": "4b0869b3",
   "metadata": {},
   "source": [
    "## Tiếp tục tiền xử lý cho các cột numerical"
   ]
  },
  {
   "cell_type": "markdown",
   "id": "bc84680b",
   "metadata": {},
   "source": [
    "### Xóa outlier như thế nào?"
   ]
  },
  {
   "cell_type": "markdown",
   "id": "f1002eee",
   "metadata": {},
   "source": [
    "- Quan sát biểu đồ được trực quan hóa, ta có thể thấy giá trị của cột cột có dạng phân phối chuẩn (theo kinh nghiệm nhìn biểu đồ nhiều).\n",
    "- Theo định luật Empirical : https://www.investopedia.com/terms/e/empirical-rule.asp\n",
    "- 99.7% dữ liệu nằm trong khoảng [mean - 3*std , mean + 3 *std], những phần còn lại nằm ngoài khoảng này đều là linh tinh hết (outlier)."
   ]
  },
  {
   "cell_type": "code",
   "execution_count": 20,
   "id": "eabc526f",
   "metadata": {},
   "outputs": [],
   "source": [
    "def notOutlierRange(s):\n",
    "    _mean = s.mean()\n",
    "    _std = s.std()\n",
    "    return (_mean - 3 * _std , _mean + 3* _std)"
   ]
  },
  {
   "cell_type": "markdown",
   "id": "c0b88b52",
   "metadata": {},
   "source": [
    "Test hàm"
   ]
  },
  {
   "cell_type": "code",
   "execution_count": 21,
   "id": "6280d7b0",
   "metadata": {
    "scrolled": true
   },
   "outputs": [
    {
     "data": {
      "text/plain": [
       "(151.03827826480864, 534.0481414882777)"
      ]
     },
     "execution_count": 21,
     "metadata": {},
     "output_type": "execute_result"
    }
   ],
   "source": [
    "notOutlierRange(loan_df.Loan_Amount_Term)"
   ]
  },
  {
   "cell_type": "markdown",
   "id": "8dd6f4e9",
   "metadata": {},
   "source": [
    "### Đợi đã, việc xóa này có ảnh hưởng đến tính trực quan của dữ liệu không?"
   ]
  },
  {
   "cell_type": "markdown",
   "id": "9737adf8",
   "metadata": {},
   "source": [
    "Đầu tiên, ta sẽ xem số outlier bị loại bỏ có nhiều không bằng cách tính tỉ lệ outlier có trong từng cột"
   ]
  },
  {
   "cell_type": "code",
   "execution_count": 22,
   "id": "e954fc66",
   "metadata": {},
   "outputs": [
    {
     "name": "stdout",
     "output_type": "stream",
     "text": [
      "ApplicantIncome\n",
      "1.4198782961460445%\n",
      "CoapplicantIncome\n",
      "1.4198782961460445%\n",
      "LoanAmount\n",
      "5.932203389830509%\n",
      "Loan_Amount_Term\n",
      "4.821802935010482%\n",
      "Total_Income\n",
      "1.4198782961460445%\n"
     ]
    }
   ],
   "source": [
    "for col in nume_cols:\n",
    "    front,rear = notOutlierRange(loan_df[col])\n",
    "    s = loan_df[col]\n",
    "    before = len(s)\n",
    "    #print(\n",
    "    after = len(s.loc[(s > front) & (s < rear)])\n",
    "    print(col)\n",
    "    print(\"{}%\".format(((before-after)/after)*100))"
   ]
  },
  {
   "cell_type": "markdown",
   "id": "b5eb3da6",
   "metadata": {},
   "source": [
    "Các cột trên hầu chỉ chỉ có 1.4 %, không đáng quan ngại. Nhưng cột `LoanAmount` lên tới ~6% !  \n",
    "Hãy cùng xem tìm chuyện gì sẽ xảy ra nếu ta loại bỏ outlier. \n",
    "\n",
    "Ta tiến hành tạo bản copy của `loan_df` để xem tình hình ra sao."
   ]
  },
  {
   "cell_type": "code",
   "execution_count": 23,
   "id": "1ac68443",
   "metadata": {
    "scrolled": true
   },
   "outputs": [
    {
     "data": {
      "text/plain": [
       "15.200000000000003"
      ]
     },
     "execution_count": 23,
     "metadata": {},
     "output_type": "execute_result"
    }
   ],
   "source": [
    "loan_df_copy = copy.deepcopy(loan_df)\n",
    "for col in nume_cols:\n",
    "    front,rear = notOutlierRange(loan_df_copy[col])\n",
    "    loan_df_copy = loan_df_copy.drop(loan_df_copy[~((loan_df_copy[col] > front) & (loan_df_copy[col] < rear))].index)\n",
    "(1 - (loan_df_copy.shape[0]/loan_df.shape[0]))*100"
   ]
  },
  {
   "cell_type": "markdown",
   "id": "0994b902",
   "metadata": {},
   "source": [
    "Có vẻ khả quan, ta tiến hành bỏ outliers trên `loan_df`"
   ]
  },
  {
   "cell_type": "code",
   "execution_count": 24,
   "id": "5eac1780",
   "metadata": {},
   "outputs": [
    {
     "data": {
      "image/png": "[encoded data removed]",
      "text/plain": [
       "<Figure size 432x288 with 1 Axes>"
      ]
     },
     "metadata": {
      "needs_background": "light"
     },
     "output_type": "display_data"
    },
    {
     "data": {
      "image/png": "[encoded data removed]",
      "text/plain": [
       "<Figure size 432x288 with 1 Axes>"
      ]
     },
     "metadata": {
      "needs_background": "light"
     },
     "output_type": "display_data"
    },
    {
     "data": {
      "image/png": "[encoded data removed]",
      "text/plain": [
       "<Figure size 432x288 with 1 Axes>"
      ]
     },
     "metadata": {
      "needs_background": "light"
     },
     "output_type": "display_data"
    },
    {
     "data": {
      "image/png": "[encoded data removed]",
      "text/plain": [
       "<Figure size 432x288 with 1 Axes>"
      ]
     },
     "metadata": {
      "needs_background": "light"
     },
     "output_type": "display_data"
    },
    {
     "data": {
      "image/png": "[encoded data removed]",
      "text/plain": [
       "<Figure size 432x288 with 1 Axes>"
      ]
     },
     "metadata": {
      "needs_background": "light"
     },
     "output_type": "display_data"
    }
   ],
   "source": [
    "for col in nume_cols:\n",
    "    loan_df_copy[col].plot.hist(bins=50)\n",
    "    plt.xlabel(col)\n",
    "    plt.show()"
   ]
  },
  {
   "cell_type": "markdown",
   "id": "a4c4abc5",
   "metadata": {},
   "source": [
    "Theo nhận xét của nhóm khác thì outlier vẫn có khả năng rút ra những insight khá thú vị nên bọn em quyết định sẽ phân tích song song cả hai tập có outlier và không có outlier."
   ]
  },
  {
   "cell_type": "code",
   "execution_count": 25,
   "id": "fdaf2fde",
   "metadata": {},
   "outputs": [],
   "source": [
    "loan_df_with_outlier = loan_df # backup lại dataframe trươc khi xu ly outlier\n",
    "loan_df = loan_df_copy"
   ]
  },
  {
   "cell_type": "markdown",
   "id": "960722af",
   "metadata": {},
   "source": [
    "Cập nhật lại index sau khi đã loại các dòng NaN"
   ]
  },
  {
   "cell_type": "code",
   "execution_count": 26,
   "id": "76fbba20",
   "metadata": {},
   "outputs": [
    {
     "data": {
      "text/html": [
       "<div>\n",
       "<style scoped>\n",
       "    .dataframe tbody tr th:only-of-type {\n",
       "        vertical-align: middle;\n",
       "    }\n",
       "\n",
       "    .dataframe tbody tr th {\n",
       "        vertical-align: top;\n",
       "    }\n",
       "\n",
       "    .dataframe thead th {\n",
       "        text-align: right;\n",
       "    }\n",
       "</style>\n",
       "<table border=\"1\" class=\"dataframe\">\n",
       "  <thead>\n",
       "    <tr style=\"text-align: right;\">\n",
       "      <th></th>\n",
       "      <th>Gender</th>\n",
       "      <th>Married</th>\n",
       "      <th>Dependents</th>\n",
       "      <th>Education</th>\n",
       "      <th>Self_Employed</th>\n",
       "      <th>ApplicantIncome</th>\n",
       "      <th>CoapplicantIncome</th>\n",
       "      <th>LoanAmount</th>\n",
       "      <th>Loan_Amount_Term</th>\n",
       "      <th>Credit_History</th>\n",
       "      <th>Property_Area</th>\n",
       "      <th>Loan_Status</th>\n",
       "      <th>Total_Income</th>\n",
       "    </tr>\n",
       "  </thead>\n",
       "  <tbody>\n",
       "    <tr>\n",
       "      <th>0</th>\n",
       "      <td>Male</td>\n",
       "      <td>Yes</td>\n",
       "      <td>1.0</td>\n",
       "      <td>Graduate</td>\n",
       "      <td>No</td>\n",
       "      <td>4583.0</td>\n",
       "      <td>1508.0</td>\n",
       "      <td>128.0</td>\n",
       "      <td>360.0</td>\n",
       "      <td>1.0</td>\n",
       "      <td>Rural</td>\n",
       "      <td>No</td>\n",
       "      <td>6091.0</td>\n",
       "    </tr>\n",
       "    <tr>\n",
       "      <th>1</th>\n",
       "      <td>Male</td>\n",
       "      <td>Yes</td>\n",
       "      <td>0.0</td>\n",
       "      <td>Graduate</td>\n",
       "      <td>Yes</td>\n",
       "      <td>3000.0</td>\n",
       "      <td>0.0</td>\n",
       "      <td>66.0</td>\n",
       "      <td>360.0</td>\n",
       "      <td>1.0</td>\n",
       "      <td>Urban</td>\n",
       "      <td>Yes</td>\n",
       "      <td>3000.0</td>\n",
       "    </tr>\n",
       "    <tr>\n",
       "      <th>2</th>\n",
       "      <td>Male</td>\n",
       "      <td>Yes</td>\n",
       "      <td>0.0</td>\n",
       "      <td>Not Graduate</td>\n",
       "      <td>No</td>\n",
       "      <td>2583.0</td>\n",
       "      <td>2358.0</td>\n",
       "      <td>120.0</td>\n",
       "      <td>360.0</td>\n",
       "      <td>1.0</td>\n",
       "      <td>Urban</td>\n",
       "      <td>Yes</td>\n",
       "      <td>4941.0</td>\n",
       "    </tr>\n",
       "    <tr>\n",
       "      <th>3</th>\n",
       "      <td>Male</td>\n",
       "      <td>No</td>\n",
       "      <td>0.0</td>\n",
       "      <td>Graduate</td>\n",
       "      <td>No</td>\n",
       "      <td>6000.0</td>\n",
       "      <td>0.0</td>\n",
       "      <td>141.0</td>\n",
       "      <td>360.0</td>\n",
       "      <td>1.0</td>\n",
       "      <td>Urban</td>\n",
       "      <td>Yes</td>\n",
       "      <td>6000.0</td>\n",
       "    </tr>\n",
       "    <tr>\n",
       "      <th>4</th>\n",
       "      <td>Male</td>\n",
       "      <td>Yes</td>\n",
       "      <td>2.0</td>\n",
       "      <td>Graduate</td>\n",
       "      <td>Yes</td>\n",
       "      <td>5417.0</td>\n",
       "      <td>4196.0</td>\n",
       "      <td>267.0</td>\n",
       "      <td>360.0</td>\n",
       "      <td>1.0</td>\n",
       "      <td>Urban</td>\n",
       "      <td>Yes</td>\n",
       "      <td>9613.0</td>\n",
       "    </tr>\n",
       "  </tbody>\n",
       "</table>\n",
       "</div>"
      ],
      "text/plain": [
       "  Gender Married  Dependents     Education Self_Employed  ApplicantIncome  \\\n",
       "0   Male     Yes         1.0      Graduate            No           4583.0   \n",
       "1   Male     Yes         0.0      Graduate           Yes           3000.0   \n",
       "2   Male     Yes         0.0  Not Graduate            No           2583.0   \n",
       "3   Male      No         0.0      Graduate            No           6000.0   \n",
       "4   Male     Yes         2.0      Graduate           Yes           5417.0   \n",
       "\n",
       "   CoapplicantIncome  LoanAmount  Loan_Amount_Term  Credit_History  \\\n",
       "0             1508.0       128.0             360.0             1.0   \n",
       "1                0.0        66.0             360.0             1.0   \n",
       "2             2358.0       120.0             360.0             1.0   \n",
       "3                0.0       141.0             360.0             1.0   \n",
       "4             4196.0       267.0             360.0             1.0   \n",
       "\n",
       "  Property_Area Loan_Status  Total_Income  \n",
       "0         Rural          No        6091.0  \n",
       "1         Urban         Yes        3000.0  \n",
       "2         Urban         Yes        4941.0  \n",
       "3         Urban         Yes        6000.0  \n",
       "4         Urban         Yes        9613.0  "
      ]
     },
     "execution_count": 26,
     "metadata": {},
     "output_type": "execute_result"
    }
   ],
   "source": [
    "loan_df.head()\n",
    "loan_df = loan_df.reset_index(drop=True)\n",
    "loan_df.head()"
   ]
  },
  {
   "cell_type": "markdown",
   "id": "db11cae6",
   "metadata": {},
   "source": [
    "# Câu hỏi 1 : Những yếu tố nào ảnh hướng đến **Tổng thu nhập** của từng người?"
   ]
  },
  {
   "cell_type": "markdown",
   "id": "97e5aba2",
   "metadata": {},
   "source": [
    "Một câu hỏi cực kì thú vị mà nếu trả lời được thì trong một số trường hợp nếu ta cần đoán thu nhập của một người nào đó thì có thể dùng những dữ liệu dễ có hơn để từ đó suy ra người này có thu nhập cao hay thấp.  \n",
    "Một ví dụ thực tế : trong đời sống ta nếu ta biết một người có tốt nghiệp (trong trường hợp data này là cột `Education`) thì ta sẽ đoán rằng người này sẽ có thu nhập cao hơn những người không có bằng cấp. Từ đó, ta sẽ có những quyết định đúng đắn như làm quen, tạo mối quan hệ (thấy sang bắt quàng làm họ) chẳng hạn, hoặc gạ hỏi có muốn mua nhà mua đất không,...?  \n",
    "Tất nhiên là tri thức ở ví dụ trên chỉ là ví dụ ;-) . Chúng ta hãy cùng đi kiểm chứng để trả lời câu hỏi này nhé. "
   ]
  },
  {
   "cell_type": "markdown",
   "id": "5e0c926a",
   "metadata": {},
   "source": [
    "## Tiền xử lý cho câu hỏi"
   ]
  },
  {
   "cell_type": "markdown",
   "id": "eada9f8c",
   "metadata": {},
   "source": [
    "### Có dòng nào thu nhập là null không?"
   ]
  },
  {
   "cell_type": "markdown",
   "id": "6b2b7409",
   "metadata": {},
   "source": [
    "Vì trung tâm của câu hỏi là Cột `ApplicantIncome`,tức thu nhập cá nhân nên những dòng nào thiếu dữ liệu thu nhập cá nhân sẽ bị loại bỏ. Ta tiến hành kiểm tra xem có dòng nào bị thiếu như vậy không."
   ]
  },
  {
   "cell_type": "code",
   "execution_count": 27,
   "id": "3c8ab584",
   "metadata": {},
   "outputs": [
    {
     "data": {
      "text/plain": [
       "False"
      ]
     },
     "execution_count": 27,
     "metadata": {},
     "output_type": "execute_result"
    }
   ],
   "source": [
    "loan_df['ApplicantIncome'].isnull().any()"
   ]
  },
  {
   "cell_type": "markdown",
   "id": "99c9f7ec",
   "metadata": {},
   "source": [
    "Hên quá không có dòng nào thiếu hết :-)"
   ]
  },
  {
   "cell_type": "markdown",
   "id": "6125cf1f",
   "metadata": {},
   "source": [
    "### Chuyển cột `Loan_Amount_Term`"
   ]
  },
  {
   "cell_type": "markdown",
   "id": "1ed6a259",
   "metadata": {},
   "source": [
    "Ta nhận thấy sau khi loại bỏ outlier thì cột `Loan_Amount_Term` quá ít loại dữ liệu nên ta sẽ chuyển nó sang dạng categories."
   ]
  },
  {
   "cell_type": "code",
   "execution_count": 28,
   "id": "fab32d35",
   "metadata": {},
   "outputs": [
    {
     "name": "stderr",
     "output_type": "stream",
     "text": [
      "/tmp/ipykernel_14222/409016188.py:6: SettingWithCopyWarning: \n",
      "A value is trying to be set on a copy of a slice from a DataFrame.\n",
      "Try using .loc[row_indexer,col_indexer] = value instead\n",
      "\n",
      "See the caveats in the documentation: https://pandas.pydata.org/pandas-docs/stable/user_guide/indexing.html#returning-a-view-versus-a-copy\n",
      "  cate_cols[\"Loan_Amount_Term\"] = loan_df[\"Loan_Amount_Term\"]\n"
     ]
    },
    {
     "data": {
      "text/html": [
       "<div>\n",
       "<style scoped>\n",
       "    .dataframe tbody tr th:only-of-type {\n",
       "        vertical-align: middle;\n",
       "    }\n",
       "\n",
       "    .dataframe tbody tr th {\n",
       "        vertical-align: top;\n",
       "    }\n",
       "\n",
       "    .dataframe thead th {\n",
       "        text-align: right;\n",
       "    }\n",
       "</style>\n",
       "<table border=\"1\" class=\"dataframe\">\n",
       "  <thead>\n",
       "    <tr style=\"text-align: right;\">\n",
       "      <th></th>\n",
       "      <th>Gender</th>\n",
       "      <th>Married</th>\n",
       "      <th>Dependents</th>\n",
       "      <th>Education</th>\n",
       "      <th>Self_Employed</th>\n",
       "      <th>Credit_History</th>\n",
       "      <th>Property_Area</th>\n",
       "      <th>Loan_Status</th>\n",
       "      <th>Loan_Amount_Term</th>\n",
       "    </tr>\n",
       "  </thead>\n",
       "  <tbody>\n",
       "    <tr>\n",
       "      <th>0</th>\n",
       "      <td>Male</td>\n",
       "      <td>No</td>\n",
       "      <td>0.0</td>\n",
       "      <td>Graduate</td>\n",
       "      <td>No</td>\n",
       "      <td>1.0</td>\n",
       "      <td>Urban</td>\n",
       "      <td>Yes</td>\n",
       "      <td>360.0</td>\n",
       "    </tr>\n",
       "    <tr>\n",
       "      <th>1</th>\n",
       "      <td>Male</td>\n",
       "      <td>Yes</td>\n",
       "      <td>1.0</td>\n",
       "      <td>Graduate</td>\n",
       "      <td>No</td>\n",
       "      <td>1.0</td>\n",
       "      <td>Rural</td>\n",
       "      <td>No</td>\n",
       "      <td>360.0</td>\n",
       "    </tr>\n",
       "    <tr>\n",
       "      <th>2</th>\n",
       "      <td>Male</td>\n",
       "      <td>Yes</td>\n",
       "      <td>0.0</td>\n",
       "      <td>Graduate</td>\n",
       "      <td>Yes</td>\n",
       "      <td>1.0</td>\n",
       "      <td>Urban</td>\n",
       "      <td>Yes</td>\n",
       "      <td>360.0</td>\n",
       "    </tr>\n",
       "    <tr>\n",
       "      <th>3</th>\n",
       "      <td>Male</td>\n",
       "      <td>Yes</td>\n",
       "      <td>0.0</td>\n",
       "      <td>Not Graduate</td>\n",
       "      <td>No</td>\n",
       "      <td>1.0</td>\n",
       "      <td>Urban</td>\n",
       "      <td>Yes</td>\n",
       "      <td>360.0</td>\n",
       "    </tr>\n",
       "    <tr>\n",
       "      <th>4</th>\n",
       "      <td>Male</td>\n",
       "      <td>No</td>\n",
       "      <td>0.0</td>\n",
       "      <td>Graduate</td>\n",
       "      <td>No</td>\n",
       "      <td>1.0</td>\n",
       "      <td>Urban</td>\n",
       "      <td>Yes</td>\n",
       "      <td>360.0</td>\n",
       "    </tr>\n",
       "  </tbody>\n",
       "</table>\n",
       "</div>"
      ],
      "text/plain": [
       "  Gender Married  Dependents     Education Self_Employed  Credit_History  \\\n",
       "0   Male      No         0.0      Graduate            No             1.0   \n",
       "1   Male     Yes         1.0      Graduate            No             1.0   \n",
       "2   Male     Yes         0.0      Graduate           Yes             1.0   \n",
       "3   Male     Yes         0.0  Not Graduate            No             1.0   \n",
       "4   Male      No         0.0      Graduate            No             1.0   \n",
       "\n",
       "  Property_Area Loan_Status  Loan_Amount_Term  \n",
       "0         Urban         Yes             360.0  \n",
       "1         Rural          No             360.0  \n",
       "2         Urban         Yes             360.0  \n",
       "3         Urban         Yes             360.0  \n",
       "4         Urban         Yes             360.0  "
      ]
     },
     "execution_count": 28,
     "metadata": {},
     "output_type": "execute_result"
    }
   ],
   "source": [
    "try:\n",
    "    nume_cols = nume_cols.drop(columns=\"Loan_Amount_Term\")\n",
    "except:\n",
    "    pass\n",
    "try:\n",
    "    cate_cols[\"Loan_Amount_Term\"] = loan_df[\"Loan_Amount_Term\"]\n",
    "except:\n",
    "    pass\n",
    "cate_cols.head()"
   ]
  },
  {
   "cell_type": "markdown",
   "id": "1024cdd5",
   "metadata": {},
   "source": [
    "## Cột numeric"
   ]
  },
  {
   "cell_type": "markdown",
   "id": "2c71a27b",
   "metadata": {},
   "source": [
    "Vì số lượng cột số khá ít nên bọn em sẽ trực quan hoá mối liên hệ giữa từng cột numeric với tổng thu nhập."
   ]
  },
  {
   "cell_type": "code",
   "execution_count": 29,
   "id": "fe0c104e",
   "metadata": {},
   "outputs": [
    {
     "data": {
      "image/png": "[encoded data removed]",
      "text/plain": [
       "<Figure size 360x360 with 1 Axes>"
      ]
     },
     "metadata": {
      "needs_background": "light"
     },
     "output_type": "display_data"
    },
    {
     "data": {
      "image/png": "[encoded data removed]",
      "text/plain": [
       "<Figure size 360x360 with 1 Axes>"
      ]
     },
     "metadata": {
      "needs_background": "light"
     },
     "output_type": "display_data"
    },
    {
     "data": {
      "image/png": "[encoded data removed]",
      "text/plain": [
       "<Figure size 360x360 with 1 Axes>"
      ]
     },
     "metadata": {
      "needs_background": "light"
     },
     "output_type": "display_data"
    }
   ],
   "source": [
    "for col in nume_cols:\n",
    "    if col == \"ApplicantIncome\":\n",
    "        continue\n",
    "    sns.lmplot(x=col,y='ApplicantIncome',data=loan_df[[col,\"ApplicantIncome\"]],fit_reg=True)\n"
   ]
  },
  {
   "cell_type": "markdown",
   "id": "c80fd120",
   "metadata": {},
   "source": [
    "- Hai cột income cộng lại bằng cột income tổng (đã khám phá ra ở bước khám phá dữ liệu). Ta cũng có thể thấy sự tỉ lệ thuận của hai cột này với TotalIncome.\n",
    "- Cột LoanAmount có vẻ tỉ lệ thuận với thu nhập cá nhân.  \n",
    "==> Ta có kết luận khá thú vị : người càng có thu nhập thì vay tiền càng nhiều.\n",
    "- Với cột CoapplicantIncome, ta nhận thấy có rất nhiều người đi vay mà không có đối tác, vì vậy nên biểu đồ nhìn không được trực quan cho lắm...  \n"
   ]
  },
  {
   "cell_type": "markdown",
   "id": "9eaba5dd",
   "metadata": {},
   "source": [
    "### Trực quan riêng cột CopplicantIncome"
   ]
  },
  {
   "cell_type": "markdown",
   "id": "34000eb2",
   "metadata": {},
   "source": [
    "Thật ra bọn em tính để phần xử lý này lên khúc tiền xử lý phía trên. Tuy nhiên, làm như vậy thì không thể hiện rõ được cái flow làm việc của bọn em một cách chân thật nhất :tiền xử lý -> đặt vấn đề -> giải quyết -> tạo vấn đề mới -> giải quyết -> ..."
   ]
  },
  {
   "cell_type": "markdown",
   "id": "71beebeb",
   "metadata": {},
   "source": [
    "Trước khi tiến hành, bọn em sẽ loại bỏ những dòng có CoaplicantIncome bằng 0, tức những người không có đối tác trong hợp đồng vay.  \n",
    "Lý do bọn em làm như vậy vì : mục đích của việc so sánh 2 cột này là thấy được giữa thu nhập của cá nhân của 1 người so với thu nhập của đối tác người đó, nếu người đó không có đối tác thì lấy gì mà so sánh?"
   ]
  },
  {
   "cell_type": "code",
   "execution_count": 30,
   "id": "6bb4d58d",
   "metadata": {},
   "outputs": [
    {
     "data": {
      "text/plain": [
       "<seaborn.axisgrid.FacetGrid at 0x7f100583bc70>"
      ]
     },
     "execution_count": 30,
     "metadata": {},
     "output_type": "execute_result"
    },
    {
     "data": {
      "image/png": "[encoded data removed]",
      "text/plain": [
       "<Figure size 360x360 with 1 Axes>"
      ]
     },
     "metadata": {
      "needs_background": "light"
     },
     "output_type": "display_data"
    }
   ],
   "source": [
    "have_coapplicant_df = loan_df[loan_df['CoapplicantIncome'] != 0]\n",
    "have_coapplicant_df\n",
    "col = 'CoapplicantIncome'\n",
    "sns.lmplot(x=col,y='ApplicantIncome',data = have_coapplicant_df[[col,'ApplicantIncome']],fit_reg=True)"
   ]
  },
  {
   "cell_type": "markdown",
   "id": "81f3d472",
   "metadata": {},
   "source": [
    "Thật đáng buồn là không có thông tin gì được rút trích từ biểu đồ này cả :'("
   ]
  },
  {
   "cell_type": "markdown",
   "id": "d22e3005",
   "metadata": {},
   "source": [
    "## Cột categories"
   ]
  },
  {
   "cell_type": "code",
   "execution_count": 31,
   "id": "5d44cec8",
   "metadata": {},
   "outputs": [
    {
     "data": {
      "image/png": "[encoded data removed]",
      "text/plain": [
       "<Figure size 432x288 with 1 Axes>"
      ]
     },
     "metadata": {
      "needs_background": "light"
     },
     "output_type": "display_data"
    },
    {
     "data": {
      "image/png": "[encoded data removed]",
      "text/plain": [
       "<Figure size 432x288 with 1 Axes>"
      ]
     },
     "metadata": {
      "needs_background": "light"
     },
     "output_type": "display_data"
    },
    {
     "data": {
      "image/png": "[encoded data removed]",
      "text/plain": [
       "<Figure size 432x288 with 1 Axes>"
      ]
     },
     "metadata": {
      "needs_background": "light"
     },
     "output_type": "display_data"
    },
    {
     "data": {
      "image/png": "[encoded data removed]",
      "text/plain": [
       "<Figure size 432x288 with 1 Axes>"
      ]
     },
     "metadata": {
      "needs_background": "light"
     },
     "output_type": "display_data"
    },
    {
     "data": {
      "image/png": "[encoded data removed]",
      "text/plain": [
       "<Figure size 432x288 with 1 Axes>"
      ]
     },
     "metadata": {
      "needs_background": "light"
     },
     "output_type": "display_data"
    },
    {
     "data": {
      "image/png": "[encoded data removed]",
      "text/plain": [
       "<Figure size 432x288 with 1 Axes>"
      ]
     },
     "metadata": {
      "needs_background": "light"
     },
     "output_type": "display_data"
    },
    {
     "data": {
      "image/png": "[encoded data removed]",
      "text/plain": [
       "<Figure size 432x288 with 1 Axes>"
      ]
     },
     "metadata": {
      "needs_background": "light"
     },
     "output_type": "display_data"
    },
    {
     "data": {
      "image/png": "[encoded data removed]",
      "text/plain": [
       "<Figure size 432x288 with 1 Axes>"
      ]
     },
     "metadata": {
      "needs_background": "light"
     },
     "output_type": "display_data"
    },
    {
     "data": {
      "image/png": "[encoded data removed]",
      "text/plain": [
       "<Figure size 432x288 with 1 Axes>"
      ]
     },
     "metadata": {
      "needs_background": "light"
     },
     "output_type": "display_data"
    }
   ],
   "source": [
    "_compare = []\n",
    "for col in cate_cols:\n",
    "    _compare.append(loan_df[[col,\"ApplicantIncome\"]].groupby(col).mean())\n",
    "    _compare[-1].plot.barh()\n",
    "    plt.show()"
   ]
  },
  {
   "cell_type": "markdown",
   "id": "aadf59db",
   "metadata": {},
   "source": [
    "Như vậy là ta đã có được những yếu tố ảnh hưởng đến tổng thu nhập của một cá nhân như : giới tính, hôn nhân, self-employ,...  \n",
    "- Nam có thu nhập nhiều hơn nữ  \n",
    "- Sau khi kết hôn, thu nhập giảm nhẹ.\n",
    "- Người ở trung tâm thành phố và người ở quê thì giàu hơn so với các vùng ven, độ thị vệ tinh. Có thể lý do là vì các khu đô thị vệ tinh tập trung nhiều công nhân, thu nhập không cao bằng. \n",
    "- Người có bằng cấp thì thu nhập cao hơn.  \n",
    "- Người làm công (tức không phải self-employed) thì thu nhập thấp hơn.  \n",
    "- Người có thu nhập cao thường vay ngắn hạn (18 tháng).  \n",
    "\n",
    "Tuy nhiên, bọn em khá tò mò về hai đặc trưng khá là liên quan nhau : giới tính và kết hôn. Liệu rằng Income của một giới sẽ thay đổi như nào trước khi kết hôn và sau khi kết hôn? Ví dụ như liệu rằng thu nhập của nữ có tăng lên (thu tiền lương của chồng) hay thu nhập của nam sẽ giảm xuống (điều ngược lại)."
   ]
  },
  {
   "cell_type": "markdown",
   "id": "97158503",
   "metadata": {},
   "source": [
    "Để trả lời, bọn em sẽ dùng kĩ thuật gom nhóm (hay còn gọi là groupby, một kỹ thuật rất hay bọn em **học được của thầy Kiên**) dựa vào giới tính vào tình trạng hôn nhân và tính trung bình thu nhập của từng nhóm."
   ]
  },
  {
   "cell_type": "code",
   "execution_count": 32,
   "id": "5c570040",
   "metadata": {},
   "outputs": [
    {
     "data": {
      "text/plain": [
       "Gender  Married\n",
       "Female  No         4207.280702\n",
       "        Yes        3774.590909\n",
       "Male    No         4565.150538\n",
       "        Yes        4337.270492\n",
       "Name: ApplicantIncome, dtype: float64"
      ]
     },
     "execution_count": 32,
     "metadata": {},
     "output_type": "execute_result"
    }
   ],
   "source": [
    "gender_married = loan_df.groupby([\"Gender\",\"Married\"]).mean()[\"ApplicantIncome\"]\n",
    "gender_married"
   ]
  },
  {
   "cell_type": "code",
   "execution_count": 33,
   "id": "60721f1e",
   "metadata": {
    "scrolled": true
   },
   "outputs": [
    {
     "data": {
      "text/plain": [
       "<AxesSubplot:xlabel='Gender,Married'>"
      ]
     },
     "execution_count": 33,
     "metadata": {},
     "output_type": "execute_result"
    },
    {
     "data": {
      "image/png": "[encoded data removed]",
      "text/plain": [
       "<Figure size 432x288 with 1 Axes>"
      ]
     },
     "metadata": {
      "needs_background": "light"
     },
     "output_type": "display_data"
    }
   ],
   "source": [
    "gender_married.plot.bar()"
   ]
  },
  {
   "cell_type": "markdown",
   "id": "502db197",
   "metadata": {},
   "source": [
    "Có vẻ nam và nữ đều giảm mức thu nhập bình quân nếu so với nhóm chưa kết hôn. \n",
    "Ta tiến hành so sánh sự chệnh lệnh trước và sau hôn nhân của nam và nữ (tăng lên bao nhiêu %).  \n",
    "Ở đây, bọn em sử dụng kỹ thuật thay đổi shape của dataframe (một kỹ thuật rất hay bọn em học được của thầy Kiên)."
   ]
  },
  {
   "cell_type": "code",
   "execution_count": 34,
   "id": "6db7c5ae",
   "metadata": {},
   "outputs": [
    {
     "data": {
      "text/plain": [
       "Gender\n",
       "Female   -10.284310\n",
       "Male      -4.991731\n",
       "dtype: float64"
      ]
     },
     "execution_count": 34,
     "metadata": {},
     "output_type": "execute_result"
    }
   ],
   "source": [
    "gender_married_diff = gender_married.unstack(1).T\n",
    "(gender_married_diff.loc['Yes'].subtract(gender_married_diff.loc['No'])).divide(gender_married_diff.loc['No'])*100"
   ]
  },
  {
   "cell_type": "markdown",
   "id": "3c670e41",
   "metadata": {},
   "source": [
    "Có vẻ như sau khi tiến đến hôn nhân, thu nhập của phái nữ giảm mạnh hơn so với nam (gấp 2 lần)  \n",
    "Lý do là gì nhỉ? Có thể do phái nữ sau khi kết hôn thì đi làm ít hơn nên lương ít hơn chăng?  \n",
    "Còn đàn ông tại sao lại giảm thu nhập?\n",
    "Có quá ít dữ liệu để có thể phân tích cho những câu hỏi này nên em quyết định dừng tại đây."
   ]
  },
  {
   "cell_type": "markdown",
   "id": "aa2c013f",
   "metadata": {},
   "source": [
    "## Trả lời cho câu hỏi ban đầu\n",
    "Như vậy, ta đã có câu trả lời cho câu hỏi đưa ra từ đầu : \n",
    "- Càng vay nhiều tiền thì thu nhập càng cao\n",
    "- Nam có thu nhập nhiều hơn nữ\n",
    "- Khi kết hôn, thu nhập giảm\n",
    "- Sau khi kết hôn, thu nhập phụ nữ giảm mạnh hơn đàn ông (gấp 2 lần). Chưa kết luận được lý do, nhưng có thể do phụ nữ làm ít đi để lo việc nhà cửa. \n",
    "- Càng gần trung tâm (tức mức độ đô thị hoá cao) thì càng có thu nhập cao.\n",
    "- Người có bằng cấp thì thu nhập cao hơn.\n",
    "- Người làm công (tức không phải self-employed) thì thu nhập thấp hơn.  \n",
    "\n",
    "Tuy nhiên, hai biến với nhau cũng không thể kết luận là có quan hệ nhân quả. Bọn em chỉ có thể đưa ra những ý tưởng, còn việc kiểm chứng thì phải cần nhiều nỗ lực lẫn dữ liệu hơn (điều mà không bao gồm trong khuôn khổ đồ án này)."
   ]
  },
  {
   "cell_type": "markdown",
   "id": "a30e319c",
   "metadata": {},
   "source": [
    "# Câu hỏi 2: Các yếu nào ảnh hưởng đến sự quyết định phê duyệt khoản vay từ ngân hàng ?"
   ]
  },
  {
   "cell_type": "markdown",
   "id": "9ed53acd",
   "metadata": {},
   "source": [
    " **Trả lời được câu hỏi này** ta sẽ phần nào biết được những yếu tố tác động đến sự phê duyệt khoản từ ngân hàng. Chính vì lợi ích trên, câu hỏi sẽ giúp cho những người cần vay tiền biết được những điều kiện cần và đủ để ngân hàng phê duyệt khoản vay của họ và không phải rơi vào tình huống đăng ký vay tiền nhưng lại bị từ chối gây lãng phí thời gian và sức lực.\n",
    " Hoặc ngân hàng cũng có thể sử dụng câu trả lời này để lọc ra những khách hàng tiềm năng có thể cho vay.\n",
    "\n",
    "**Để trả lời được câu hỏi này** ta cần chọn những cột có ảnh hưởng đến quyết định phê duyệt cho vay để phân tích.\n",
    "- `Loan_Status`\n",
    "- `Gender`, `Married`, `Dependents`, `Education`, `Self_Employed`, `ApplicantIncome`, `CoapplicantIncome`, `LoanAmount`, `Loan_Amount_Term`, `Credit_History`, `Property_Area`, `Total_Income`"
   ]
  },
  {
   "cell_type": "markdown",
   "id": "9619d674",
   "metadata": {},
   "source": [
    "## Tiền xử lý để chuẩn bị dữ liệu cho bước phân tích trả lời câu hỏi"
   ]
  },
  {
   "cell_type": "markdown",
   "id": "c98af2c1",
   "metadata": {},
   "source": [
    "**Lưu ý**: Vì nhóm em sẽ phân tích cả 2 dataframe (có outlier và đã loại bỏ outlier) nên sẽ thực hiện các thao tác tiền xử lý đối với cả 2 dataframe này.\n",
    "\n",
    "Đối với câu hỏi này, cột `Loan_Status` sẽ là cột trung tâm, ta sẽ phân tích các mối tương quan giữa các cột khác với cột `Loan_Status`. Do đó, cần kiểm tra lại xem cột `Loan_Status` còn tồn tại các giá trụ NaN hay không (dù ở phần trên đã có xử lý, nhưng ta xem xét lại cho chắc ăn)."
   ]
  },
  {
   "cell_type": "code",
   "execution_count": 35,
   "id": "8c3a2667",
   "metadata": {},
   "outputs": [
    {
     "data": {
      "text/html": [
       "<div>\n",
       "<style scoped>\n",
       "    .dataframe tbody tr th:only-of-type {\n",
       "        vertical-align: middle;\n",
       "    }\n",
       "\n",
       "    .dataframe tbody tr th {\n",
       "        vertical-align: top;\n",
       "    }\n",
       "\n",
       "    .dataframe thead th {\n",
       "        text-align: right;\n",
       "    }\n",
       "</style>\n",
       "<table border=\"1\" class=\"dataframe\">\n",
       "  <thead>\n",
       "    <tr style=\"text-align: right;\">\n",
       "      <th></th>\n",
       "      <th>Gender</th>\n",
       "      <th>Married</th>\n",
       "      <th>Dependents</th>\n",
       "      <th>Education</th>\n",
       "      <th>Self_Employed</th>\n",
       "      <th>ApplicantIncome</th>\n",
       "      <th>CoapplicantIncome</th>\n",
       "      <th>LoanAmount</th>\n",
       "      <th>Loan_Amount_Term</th>\n",
       "      <th>Credit_History</th>\n",
       "      <th>Property_Area</th>\n",
       "      <th>Loan_Status</th>\n",
       "      <th>Total_Income</th>\n",
       "    </tr>\n",
       "  </thead>\n",
       "  <tbody>\n",
       "    <tr>\n",
       "      <th>0</th>\n",
       "      <td>Male</td>\n",
       "      <td>Yes</td>\n",
       "      <td>1.0</td>\n",
       "      <td>Graduate</td>\n",
       "      <td>No</td>\n",
       "      <td>4583.0</td>\n",
       "      <td>1508.0</td>\n",
       "      <td>128.0</td>\n",
       "      <td>360.0</td>\n",
       "      <td>1.0</td>\n",
       "      <td>Rural</td>\n",
       "      <td>No</td>\n",
       "      <td>6091.0</td>\n",
       "    </tr>\n",
       "    <tr>\n",
       "      <th>1</th>\n",
       "      <td>Male</td>\n",
       "      <td>Yes</td>\n",
       "      <td>0.0</td>\n",
       "      <td>Graduate</td>\n",
       "      <td>Yes</td>\n",
       "      <td>3000.0</td>\n",
       "      <td>0.0</td>\n",
       "      <td>66.0</td>\n",
       "      <td>360.0</td>\n",
       "      <td>1.0</td>\n",
       "      <td>Urban</td>\n",
       "      <td>Yes</td>\n",
       "      <td>3000.0</td>\n",
       "    </tr>\n",
       "    <tr>\n",
       "      <th>2</th>\n",
       "      <td>Male</td>\n",
       "      <td>Yes</td>\n",
       "      <td>0.0</td>\n",
       "      <td>Not Graduate</td>\n",
       "      <td>No</td>\n",
       "      <td>2583.0</td>\n",
       "      <td>2358.0</td>\n",
       "      <td>120.0</td>\n",
       "      <td>360.0</td>\n",
       "      <td>1.0</td>\n",
       "      <td>Urban</td>\n",
       "      <td>Yes</td>\n",
       "      <td>4941.0</td>\n",
       "    </tr>\n",
       "    <tr>\n",
       "      <th>3</th>\n",
       "      <td>Male</td>\n",
       "      <td>No</td>\n",
       "      <td>0.0</td>\n",
       "      <td>Graduate</td>\n",
       "      <td>No</td>\n",
       "      <td>6000.0</td>\n",
       "      <td>0.0</td>\n",
       "      <td>141.0</td>\n",
       "      <td>360.0</td>\n",
       "      <td>1.0</td>\n",
       "      <td>Urban</td>\n",
       "      <td>Yes</td>\n",
       "      <td>6000.0</td>\n",
       "    </tr>\n",
       "    <tr>\n",
       "      <th>4</th>\n",
       "      <td>Male</td>\n",
       "      <td>Yes</td>\n",
       "      <td>2.0</td>\n",
       "      <td>Graduate</td>\n",
       "      <td>Yes</td>\n",
       "      <td>5417.0</td>\n",
       "      <td>4196.0</td>\n",
       "      <td>267.0</td>\n",
       "      <td>360.0</td>\n",
       "      <td>1.0</td>\n",
       "      <td>Urban</td>\n",
       "      <td>Yes</td>\n",
       "      <td>9613.0</td>\n",
       "    </tr>\n",
       "  </tbody>\n",
       "</table>\n",
       "</div>"
      ],
      "text/plain": [
       "  Gender Married  Dependents     Education Self_Employed  ApplicantIncome  \\\n",
       "0   Male     Yes         1.0      Graduate            No           4583.0   \n",
       "1   Male     Yes         0.0      Graduate           Yes           3000.0   \n",
       "2   Male     Yes         0.0  Not Graduate            No           2583.0   \n",
       "3   Male      No         0.0      Graduate            No           6000.0   \n",
       "4   Male     Yes         2.0      Graduate           Yes           5417.0   \n",
       "\n",
       "   CoapplicantIncome  LoanAmount  Loan_Amount_Term  Credit_History  \\\n",
       "0             1508.0       128.0             360.0             1.0   \n",
       "1                0.0        66.0             360.0             1.0   \n",
       "2             2358.0       120.0             360.0             1.0   \n",
       "3                0.0       141.0             360.0             1.0   \n",
       "4             4196.0       267.0             360.0             1.0   \n",
       "\n",
       "  Property_Area Loan_Status  Total_Income  \n",
       "0         Rural          No        6091.0  \n",
       "1         Urban         Yes        3000.0  \n",
       "2         Urban         Yes        4941.0  \n",
       "3         Urban         Yes        6000.0  \n",
       "4         Urban         Yes        9613.0  "
      ]
     },
     "execution_count": 35,
     "metadata": {},
     "output_type": "execute_result"
    }
   ],
   "source": [
    "loan_df.head()"
   ]
  },
  {
   "cell_type": "code",
   "execution_count": 36,
   "id": "d9c77d54",
   "metadata": {
    "scrolled": false
   },
   "outputs": [
    {
     "data": {
      "text/plain": [
       "False"
      ]
     },
     "execution_count": 36,
     "metadata": {},
     "output_type": "execute_result"
    }
   ],
   "source": [
    "loan_df['Loan_Status'].isnull().any()"
   ]
  },
  {
   "cell_type": "code",
   "execution_count": 37,
   "id": "d2b06164",
   "metadata": {},
   "outputs": [
    {
     "data": {
      "text/plain": [
       "False"
      ]
     },
     "execution_count": 37,
     "metadata": {},
     "output_type": "execute_result"
    }
   ],
   "source": [
    "loan_df_with_outlier['Loan_Status'].isnull().any()"
   ]
  },
  {
   "cell_type": "markdown",
   "id": "7c6f9d15",
   "metadata": {},
   "source": [
    "Không còn giá trị thiếu, ta tiến hành chuẩn bị dữ liệu để phân tích: gom các cột thành 2 nhóm numerical và categorical. Các cột `Dependents` và `Credit_History`, `Loan_Amount_Term` tuy có kiểu dữ liệu là dạng số nhưng chúng giống như các giá trị categorical hơn (vì chỉ có 2,3 giá trị phân biệt nhau) nên ta xếp chúng vào nhóm categorical."
   ]
  },
  {
   "cell_type": "code",
   "execution_count": 38,
   "id": "f054e8d7",
   "metadata": {
    "scrolled": false
   },
   "outputs": [],
   "source": [
    "cate_cols_by_status = ['Gender', 'Married', 'Dependents', 'Education', 'Self_Employed', \n",
    "                       'Loan_Amount_Term','Credit_History','Property_Area','Loan_Status']\n",
    "nume_cols_by_status = ['ApplicantIncome','CoapplicantIncome','LoanAmount','Total_Income']\n",
    "\n",
    "data_df = copy.deepcopy(loan_df)\n",
    "nume_cols_df = data_df[nume_cols_by_status]\n",
    "data_df['Loan_Amount_Term'] = data_df['Loan_Amount_Term'].astype('str')\n",
    "\n",
    "data_df_with_outlier = copy.deepcopy(loan_df_with_outlier)\n",
    "nume_cols_df_with_outlier = data_df_with_outlier[nume_cols_by_status]\n",
    "data_df_with_outlier['Loan_Amount_Term'] = data_df_with_outlier['Loan_Amount_Term'].astype('str')"
   ]
  },
  {
   "cell_type": "markdown",
   "id": "00f9026e",
   "metadata": {},
   "source": [
    "Xem xét các giá trị categorical của 2 dataframe"
   ]
  },
  {
   "cell_type": "code",
   "execution_count": 39,
   "id": "fcd59b44",
   "metadata": {
    "scrolled": false
   },
   "outputs": [
    {
     "name": "stdout",
     "output_type": "stream",
     "text": [
      "['Male' 'Female' nan]\n",
      "['Yes' 'No' nan]\n",
      "[ 1.  0.  2.  3. nan]\n",
      "['Graduate' 'Not Graduate']\n",
      "['No' 'Yes' nan]\n",
      "['360.0' '240.0' '180.0' '300.0' '480.0']\n",
      "[ 1.  0. nan]\n",
      "['Rural' 'Urban' 'Semiurban']\n",
      "['No' 'Yes']\n"
     ]
    }
   ],
   "source": [
    "for col in cate_cols_by_status:\n",
    "    print(data_df[col].unique())"
   ]
  },
  {
   "cell_type": "code",
   "execution_count": 40,
   "id": "781f0519",
   "metadata": {},
   "outputs": [
    {
     "name": "stdout",
     "output_type": "stream",
     "text": [
      "['Male' 'Female' nan]\n",
      "['No' 'Yes' nan]\n",
      "[ 0.  1.  2.  3. nan]\n",
      "['Graduate' 'Not Graduate']\n",
      "['No' 'Yes' nan]\n",
      "['360.0' '120.0' '240.0' 'nan' '180.0' '60.0' '300.0' '480.0' '36.0'\n",
      " '84.0' '12.0']\n",
      "[ 1.  0. nan]\n",
      "['Urban' 'Rural' 'Semiurban']\n",
      "['Yes' 'No']\n"
     ]
    }
   ],
   "source": [
    "for col in cate_cols_by_status:\n",
    "    print(data_df_with_outlier[col].unique())"
   ]
  },
  {
   "cell_type": "markdown",
   "id": "abdc8c08",
   "metadata": {},
   "source": [
    "Đối với dữ liệu categorical vẫn có giá trị NaN, ta tiến hành thay các giá trị của các cột này thành `unknown`"
   ]
  },
  {
   "cell_type": "code",
   "execution_count": 41,
   "id": "a9929f80",
   "metadata": {},
   "outputs": [],
   "source": [
    "data_df = data_df.fillna('unknown')\n",
    "data_df_with_outlier = data_df_with_outlier.fillna('unknown')\n",
    "data_df_with_outlier['Loan_Amount_Term'] = data_df_with_outlier.Loan_Amount_Term.str.replace('nan','unkown',regex=False)"
   ]
  },
  {
   "cell_type": "markdown",
   "id": "e4a14117",
   "metadata": {},
   "source": [
    "Nối thêm cột `Loan_Status` vào `nume_cols_df_with_outlier` để tiến hành phân tích"
   ]
  },
  {
   "cell_type": "code",
   "execution_count": 42,
   "id": "1eae8efb",
   "metadata": {},
   "outputs": [],
   "source": [
    "nume_cols_df_with_outlier = pd.concat([nume_cols_df_with_outlier,data_df_with_outlier['Loan_Status']],axis=1)"
   ]
  },
  {
   "cell_type": "markdown",
   "id": "5a6a44a2",
   "metadata": {},
   "source": [
    "## Phân tích dữ liệu để trả lời câu hỏi"
   ]
  },
  {
   "cell_type": "markdown",
   "id": "e3a8bdd1",
   "metadata": {},
   "source": [
    "### Sự tương quan giữa các cột giá trị numerical"
   ]
  },
  {
   "cell_type": "markdown",
   "id": "a4415858",
   "metadata": {},
   "source": [
    "**Xét với dataframe có outlier**"
   ]
  },
  {
   "cell_type": "code",
   "execution_count": 43,
   "id": "e32ed2fd",
   "metadata": {
    "scrolled": false
   },
   "outputs": [
    {
     "data": {
      "image/png": "[encoded data removed]",
      "text/plain": [
       "<Figure size 432x288 with 2 Axes>"
      ]
     },
     "metadata": {
      "needs_background": "light"
     },
     "output_type": "display_data"
    }
   ],
   "source": [
    "nume_df = nume_cols_df_with_outlier\n",
    "corelation = nume_df.corr()\n",
    "sns.heatmap(corelation, xticklabels=corelation.columns, yticklabels=corelation.columns, annot=True);"
   ]
  },
  {
   "cell_type": "markdown",
   "id": "30492edf",
   "metadata": {},
   "source": [
    "**Xét với dataframe đã loại bỏ outlier**"
   ]
  },
  {
   "cell_type": "code",
   "execution_count": 44,
   "id": "27f9f16f",
   "metadata": {
    "scrolled": true
   },
   "outputs": [
    {
     "data": {
      "image/png": "[encoded data removed]",
      "text/plain": [
       "<Figure size 432x288 with 2 Axes>"
      ]
     },
     "metadata": {
      "needs_background": "light"
     },
     "output_type": "display_data"
    }
   ],
   "source": [
    "nume_df = nume_cols_df\n",
    "corelation = nume_df.corr()\n",
    "sns.heatmap(corelation, xticklabels=corelation.columns, yticklabels=corelation.columns, annot=True);"
   ]
  },
  {
   "cell_type": "markdown",
   "id": "95fe09c8",
   "metadata": {},
   "source": [
    "Ta thấy 2 cột `ApplicationIncome` và `Total_Income` khá tương quan nhau (đặc biệt đối với dataframe có outlier), và đồng thời cột `Total_Income` cũng là tổng của 2 cột thành phần `ApplicationIncome` và `CoapplicationIncome`, nên ta sẽ loại bỏ cột `Total_Income`"
   ]
  },
  {
   "cell_type": "code",
   "execution_count": 45,
   "id": "ceced966",
   "metadata": {},
   "outputs": [],
   "source": [
    "try:\n",
    "    data_df = data_df.drop(columns=['Total_Income'])\n",
    "    data_df_with_outlier = data_df_with_outlier.drop(columns=['Total_Income'])\n",
    "except:\n",
    "    pass"
   ]
  },
  {
   "cell_type": "markdown",
   "id": "35636324",
   "metadata": {},
   "source": [
    "### Thu nhập người đăng ký vay và quyết định phê duyệt cho vay của ngân hàng"
   ]
  },
  {
   "cell_type": "markdown",
   "id": "cf5ae955",
   "metadata": {},
   "source": [
    "**Xét với dataframe có outlier**"
   ]
  },
  {
   "cell_type": "code",
   "execution_count": 46,
   "id": "a36e44ac",
   "metadata": {
    "scrolled": true
   },
   "outputs": [
    {
     "data": {
      "text/plain": [
       "Loan_Status\n",
       "No     5773.8\n",
       "Yes    5367.8\n",
       "Name: ApplicantIncome, dtype: float64"
      ]
     },
     "execution_count": 46,
     "metadata": {},
     "output_type": "execute_result"
    },
    {
     "data": {
      "image/png": "[encoded data removed]",
      "text/plain": [
       "<Figure size 432x288 with 1 Axes>"
      ]
     },
     "metadata": {
      "needs_background": "light"
     },
     "output_type": "display_data"
    }
   ],
   "source": [
    "applicationIncome_status = nume_cols_df_with_outlier.groupby('Loan_Status')['ApplicantIncome'].mean().round(1)\n",
    "plt.barh(applicationIncome_status.index, applicationIncome_status.values)\n",
    "plt.xlabel('Thu nhập của người đăng ký vay tiền');\n",
    "applicationIncome_status"
   ]
  },
  {
   "cell_type": "markdown",
   "id": "8feb0d1d",
   "metadata": {},
   "source": [
    "**Xét với dataframe đã loại bỏ outlier**"
   ]
  },
  {
   "cell_type": "code",
   "execution_count": 47,
   "id": "7a9ca9cc",
   "metadata": {
    "scrolled": true
   },
   "outputs": [
    {
     "data": {
      "text/plain": [
       "Loan_Status\n",
       "No     4408.2\n",
       "Yes    4295.4\n",
       "Name: ApplicantIncome, dtype: float64"
      ]
     },
     "execution_count": 47,
     "metadata": {},
     "output_type": "execute_result"
    },
    {
     "data": {
      "image/png": "[encoded data removed]",
      "text/plain": [
       "<Figure size 432x288 with 1 Axes>"
      ]
     },
     "metadata": {
      "needs_background": "light"
     },
     "output_type": "display_data"
    }
   ],
   "source": [
    "applicationIncome_status = data_df.groupby('Loan_Status')['ApplicantIncome'].mean().round(1)\n",
    "plt.barh(applicationIncome_status.index, applicationIncome_status.values)\n",
    "plt.xlabel('Thu nhập của người đăng ký vay tiền');\n",
    "applicationIncome_status"
   ]
  },
  {
   "cell_type": "markdown",
   "id": "5fdee860",
   "metadata": {},
   "source": [
    "- Đối với dataframe chưa loại bỏ outlier, ta thấy có sự chênh lệch giữa quyết định phê duyệt và không phê duyện khoản vay của ngân hàng dựa trên thu nhập người đăng ký. Đặc biệt, mức thu nhập trung bình cao hơn lại bị từ chối.\n",
    "\n",
    "\n",
    "- Đối với dataframe đã loại bỏ outlier, ta thấy quyết định phê duyệt và không phê duyện khoản vay của ngân hàng dựa trên thu nhập người đăng ký khá tương đồng nhau (sự chênh lệch ít hơn dataframe có outlier). Mức lương trung bình của những người bị từ chối cho vay nhỉnh hơn mức lương trung bình của những người được ngân hàng chấp nhận cho vay, có thể do các yếu tố khác quyết định thêm. "
   ]
  },
  {
   "cell_type": "markdown",
   "id": "60c9fd84",
   "metadata": {},
   "source": [
    "### Thu nhập người đồng đăng ký vay tiền và quyết định phê duyệt cho vay của ngân hàng"
   ]
  },
  {
   "cell_type": "markdown",
   "id": "355f7c8c",
   "metadata": {},
   "source": [
    "**Xét với dataframe có outlier**"
   ]
  },
  {
   "cell_type": "code",
   "execution_count": 48,
   "id": "56a17696",
   "metadata": {
    "scrolled": true
   },
   "outputs": [
    {
     "data": {
      "text/plain": [
       "Loan_Status\n",
       "No     1520.1\n",
       "Yes    1500.1\n",
       "Name: CoapplicantIncome, dtype: float64"
      ]
     },
     "execution_count": 48,
     "metadata": {},
     "output_type": "execute_result"
    },
    {
     "data": {
      "image/png": "[encoded data removed]",
      "text/plain": [
       "<Figure size 432x288 with 1 Axes>"
      ]
     },
     "metadata": {
      "needs_background": "light"
     },
     "output_type": "display_data"
    }
   ],
   "source": [
    "coapplicantIncome_status = nume_cols_df_with_outlier.groupby('Loan_Status')['CoapplicantIncome'].mean().round(1)\n",
    "plt.barh(coapplicantIncome_status.index, coapplicantIncome_status.values)\n",
    "plt.xlabel('Thu nhập của người đồng đăng ký vay tiền')\n",
    "coapplicantIncome_status"
   ]
  },
  {
   "cell_type": "markdown",
   "id": "ee2f915e",
   "metadata": {},
   "source": [
    "**Xét với dataframe đã loại bỏ outlier**"
   ]
  },
  {
   "cell_type": "code",
   "execution_count": 49,
   "id": "c1500fcd",
   "metadata": {
    "scrolled": false
   },
   "outputs": [
    {
     "data": {
      "text/plain": [
       "Loan_Status\n",
       "No     1308.2\n",
       "Yes    1409.2\n",
       "Name: CoapplicantIncome, dtype: float64"
      ]
     },
     "execution_count": 49,
     "metadata": {},
     "output_type": "execute_result"
    },
    {
     "data": {
      "image/png": "[encoded data removed]",
      "text/plain": [
       "<Figure size 432x288 with 1 Axes>"
      ]
     },
     "metadata": {
      "needs_background": "light"
     },
     "output_type": "display_data"
    }
   ],
   "source": [
    "coapplicantIncome_status = data_df.groupby('Loan_Status')['CoapplicantIncome'].mean().round(1)\n",
    "plt.barh(coapplicantIncome_status.index, coapplicantIncome_status.values)\n",
    "plt.xlabel('Thu nhập của người đồng đăng ký vay tiền')\n",
    "coapplicantIncome_status"
   ]
  },
  {
   "cell_type": "markdown",
   "id": "b76ac7c4",
   "metadata": {},
   "source": [
    "- Đối với dataframe có outlier, không có sự chênh lệch nhiều.\n",
    "\n",
    "\n",
    "- Đối với dataframe đã loại bỏ outlier, ta thấy ngân hàng chấp nhận cho vay với những người đồng đăng ký có mức lương trung bình khoảng 1400 và không chấp nhận cho vay với những người đồng đăng ký có mức lương trung bình khoảng 1300. Tuy nhiên sự chênh lệch này không quá lớn để xem xét kĩ nhưng cũng không quá nhỏ để bỏ qua.  "
   ]
  },
  {
   "cell_type": "markdown",
   "id": "f832e487",
   "metadata": {},
   "source": [
    "### Số tiền vay và quyết định phê duyệt cho vay của ngân hàng"
   ]
  },
  {
   "cell_type": "markdown",
   "id": "09b39e79",
   "metadata": {},
   "source": [
    "**Xét với dataframe có outlier**"
   ]
  },
  {
   "cell_type": "code",
   "execution_count": 50,
   "id": "d74629da",
   "metadata": {},
   "outputs": [
    {
     "data": {
      "text/plain": [
       "Loan_Status\n",
       "No     153.9\n",
       "Yes    139.7\n",
       "Name: LoanAmount, dtype: float64"
      ]
     },
     "execution_count": 50,
     "metadata": {},
     "output_type": "execute_result"
    },
    {
     "data": {
      "image/png": "[encoded data removed]",
      "text/plain": [
       "<Figure size 432x288 with 1 Axes>"
      ]
     },
     "metadata": {
      "needs_background": "light"
     },
     "output_type": "display_data"
    }
   ],
   "source": [
    "amountLoan_status = nume_cols_df_with_outlier.groupby('Loan_Status')['LoanAmount'].mean().round(1)\n",
    "plt.barh(amountLoan_status.index, amountLoan_status.values)\n",
    "plt.xlabel('Số tiền đăng ký vay')\n",
    "amountLoan_status"
   ]
  },
  {
   "cell_type": "markdown",
   "id": "8620df9a",
   "metadata": {},
   "source": [
    "**Xét với dataframe đã loại bỏ outlier**"
   ]
  },
  {
   "cell_type": "code",
   "execution_count": 51,
   "id": "f74b838b",
   "metadata": {
    "scrolled": false
   },
   "outputs": [
    {
     "data": {
      "text/plain": [
       "Loan_Status\n",
       "No     134.7\n",
       "Yes    131.7\n",
       "Name: LoanAmount, dtype: float64"
      ]
     },
     "execution_count": 51,
     "metadata": {},
     "output_type": "execute_result"
    },
    {
     "data": {
      "image/png": "[encoded data removed]",
      "text/plain": [
       "<Figure size 432x288 with 1 Axes>"
      ]
     },
     "metadata": {
      "needs_background": "light"
     },
     "output_type": "display_data"
    }
   ],
   "source": [
    "amountLoan_status = data_df.groupby('Loan_Status')['LoanAmount'].mean().round(1)\n",
    "plt.barh(amountLoan_status.index, amountLoan_status.values)\n",
    "plt.xlabel('Số tiền đăng ký vay')\n",
    "amountLoan_status"
   ]
  },
  {
   "cell_type": "markdown",
   "id": "bf47f894",
   "metadata": {},
   "source": [
    "- Đối với dataframe có outlier, có một sự chênh lệch giữa số tiền vay trung bình và quyết định cho vay hay không của ngân hàng. Người vay số tiền lớn hơn có thể dễ bị từ chối hơn.\n",
    "- Đối với dataframe đã loại bỏ outlier, có một sự chênh lệch nhẹ giữa số tiền vay trung bình và quyết định cho vay hay không của ngân hàng."
   ]
  },
  {
   "cell_type": "markdown",
   "id": "2e8f0455",
   "metadata": {},
   "source": [
    "**Nhận xét sơ lược**: Sự khác biệt giữa hai dataframe (có outlier và loại bỏ outlier) đối với dữ liệu dạng số là không lớn. Không rút ra được nhiều insight có ích từ dataframe có outlier, không những thế trong 1 vài trường hợp phân tích dataframe có outlier lại ra kết quả khá vô lý."
   ]
  },
  {
   "cell_type": "markdown",
   "id": "45ba2733",
   "metadata": {},
   "source": [
    "### Giới tính và quyết định phê duyệt cho vay của ngân hàng"
   ]
  },
  {
   "cell_type": "code",
   "execution_count": 52,
   "id": "9ea62398",
   "metadata": {
    "scrolled": true
   },
   "outputs": [
    {
     "data": {
      "image/png": "[encoded data removed]",
      "text/plain": [
       "<Figure size 432x288 with 1 Axes>"
      ]
     },
     "metadata": {
      "needs_background": "light"
     },
     "output_type": "display_data"
    }
   ],
   "source": [
    "gender_status = data_df.groupby(['Loan_Status','Gender'])['Gender'].count()\n",
    "gender_status_df = gender_status.unstack(0).T\n",
    "gender_status_ratio = (gender_status_df[:] / gender_status_df[:].sum() * 100).T\n",
    "gender_status_ratio.plot.line(marker='o')\n",
    "plt.xlabel('Giới tính')\n",
    "plt.ylabel('Tỉ lệ phần trăm người đăng ký vay (%)');"
   ]
  },
  {
   "cell_type": "markdown",
   "id": "0f21538e",
   "metadata": {},
   "source": [
    "Ta thấy, tỉ lệ đồng ý khoản vay và từ chối khoản vay khá tương đồng nhau đối với `unkown`. Tỉ lệ được phê duyệt cho vay của `Male` nhiều hơn `Female` và ngược lại, tỉ lệ từ chối của `Male` thấp hơn `Female`."
   ]
  },
  {
   "cell_type": "markdown",
   "id": "8f4baf8f",
   "metadata": {},
   "source": [
    "### TÌnh trạng hôn nhân và quyết định phê duyệt cho vay của ngân hàng"
   ]
  },
  {
   "cell_type": "code",
   "execution_count": 53,
   "id": "db1eeb34",
   "metadata": {
    "scrolled": false
   },
   "outputs": [
    {
     "data": {
      "image/png": "[encoded data removed]",
      "text/plain": [
       "<Figure size 432x288 with 1 Axes>"
      ]
     },
     "metadata": {
      "needs_background": "light"
     },
     "output_type": "display_data"
    }
   ],
   "source": [
    "married_status = data_df.groupby(['Loan_Status','Married'])['Married'].count()\n",
    "married_status_df = married_status.unstack(0).T\n",
    "married_status_ratio = (married_status_df[:] / married_status_df[:].sum()*100).T\n",
    "married_status_ratio.plot.line(marker='o')\n",
    "plt.xlabel('Đã kết hôn hay chưa')\n",
    "plt.ylabel('Tỉ lệ phần trăm người đăng ký vay (%)');"
   ]
  },
  {
   "cell_type": "markdown",
   "id": "59102138",
   "metadata": {},
   "source": [
    "Ta có thể thấy, tỉ lệ người đăng ký đã kết hôn được duyệt khoản vay cao hơn so với người chưa kết hôn và ngược lại.\n",
    "\n",
    "Hmm... phải chăng những người đã kết hôn sẽ dễ được duyệt hơn :)))"
   ]
  },
  {
   "cell_type": "markdown",
   "id": "0f97650d",
   "metadata": {},
   "source": [
    "### Số lượng người phụ thuộc và quyết định phê duyệt cho vay của ngân hàng"
   ]
  },
  {
   "cell_type": "code",
   "execution_count": 54,
   "id": "c2efe85f",
   "metadata": {
    "scrolled": false
   },
   "outputs": [
    {
     "data": {
      "image/png": "[encoded data removed]",
      "text/plain": [
       "<Figure size 432x288 with 1 Axes>"
      ]
     },
     "metadata": {
      "needs_background": "light"
     },
     "output_type": "display_data"
    }
   ],
   "source": [
    "dependents_status = data_df.groupby(['Loan_Status','Dependents'])['Dependents'].count()\n",
    "dependents_status_df = dependents_status.unstack(0).T\n",
    "dependents_status_ratio = (dependents_status_df[:] / dependents_status_df[:].sum()*100).T\n",
    "dependents_status_ratio.plot.line(marker='o')\n",
    "plt.xlabel('Số lượng người phụ thuộc')\n",
    "plt.ylabel('Tỉ lệ phần trăm người đăng ký vay (%)');"
   ]
  },
  {
   "cell_type": "markdown",
   "id": "e5126b11",
   "metadata": {},
   "source": [
    "Ta thấy hai đường biểu diễn có hình dạng đối xứng nhau. Tỉ lệ người đăng ký vay có 2 người phụ thuộc được chấp nhận cho vay là cao nhất. Tiếp đến là tỉ lệ người đăng ký không có người phụ thuộc, rồi đến người đăng ký có 3 người phụ thuộc. Thấp nhất là người đăng ký có duy nhất 1 người phụ thuộc.\n"
   ]
  },
  {
   "cell_type": "markdown",
   "id": "cf034fd7",
   "metadata": {},
   "source": [
    "### Học thức và quyết định phê duyệt cho vay của ngân hàng"
   ]
  },
  {
   "cell_type": "code",
   "execution_count": 55,
   "id": "55d9b6e4",
   "metadata": {},
   "outputs": [
    {
     "data": {
      "image/png": "[encoded data removed]",
      "text/plain": [
       "<Figure size 432x288 with 1 Axes>"
      ]
     },
     "metadata": {
      "needs_background": "light"
     },
     "output_type": "display_data"
    }
   ],
   "source": [
    "education_status = data_df.groupby(['Loan_Status','Education'])['Education'].count()\n",
    "education_status_df = education_status.unstack(0).T\n",
    "education_status_ratio = (education_status_df[:]/education_status_df[:].sum()*100).T\n",
    "education_status_ratio.plot.line(marker='o')\n",
    "plt.xlabel('Học thức')\n",
    "plt.ylabel('Tỉ lệ phần trăm người đăng ký vay (%)');"
   ]
  },
  {
   "cell_type": "markdown",
   "id": "c0f52d07",
   "metadata": {},
   "source": [
    "Ta thấy tỉ lệ những người đã tốt nghiệp thường sẽ được chấp thụân cho vay nhiều hơn những người chưa tốt nghiệp và ngược lại.\n",
    "\n",
    "Hmmm.. có thể là những người đã tốt nghiệp sẽ dễ có công việc ổn định để trả nợ hơn những người chưa tốt nghiệp, nhưng đây chỉ là dự đoán."
   ]
  },
  {
   "cell_type": "markdown",
   "id": "5aa041b8",
   "metadata": {},
   "source": [
    "### Làm việc tự do và quyết định phê duyệt cho vay của ngân hàng"
   ]
  },
  {
   "cell_type": "code",
   "execution_count": 56,
   "id": "e1af1c09",
   "metadata": {},
   "outputs": [
    {
     "data": {
      "image/png": "[encoded data removed]",
      "text/plain": [
       "<Figure size 432x288 with 1 Axes>"
      ]
     },
     "metadata": {
      "needs_background": "light"
     },
     "output_type": "display_data"
    }
   ],
   "source": [
    "sellfEmployed_status = data_df.groupby(['Loan_Status','Self_Employed'])['Self_Employed'].count()\n",
    "sellfEmployed_status_df = sellfEmployed_status.unstack(0).T\n",
    "sellfEmployed_status_ratio = (sellfEmployed_status_df[:]/sellfEmployed_status_df[:].sum()*100).T\n",
    "sellfEmployed_status_ratio.plot.line(marker='o')\n",
    "plt.xlabel('Làm việc tự do')\n",
    "plt.ylabel('Tỉ lệ phần trăm người đăng ký vay (%)');"
   ]
  },
  {
   "cell_type": "markdown",
   "id": "72f7681a",
   "metadata": {},
   "source": [
    "Tỉ lệ người không làm việc tự do (nghĩa là họ làm công/thuê cho công ty hoặc một người khác) sẽ được chấp thuận cho vay nhiều hơn những người đang làm việc tự do và ngược lại."
   ]
  },
  {
   "cell_type": "markdown",
   "id": "297c9416",
   "metadata": {},
   "source": [
    "### Thời hạn cho vay tiền và quyết định phê duyệt cho vay của ngân hàng"
   ]
  },
  {
   "cell_type": "code",
   "execution_count": 57,
   "id": "ced32963",
   "metadata": {
    "scrolled": true
   },
   "outputs": [
    {
     "data": {
      "image/png": "[encoded data removed]",
      "text/plain": [
       "<Figure size 432x288 with 1 Axes>"
      ]
     },
     "metadata": {
      "needs_background": "light"
     },
     "output_type": "display_data"
    }
   ],
   "source": [
    "term_status = data_df.groupby(['Loan_Status','Loan_Amount_Term'])['Loan_Amount_Term'].count()\n",
    "term_status_df = term_status.unstack(0).T\n",
    "term_status_ratio = (term_status_df[:]/term_status_df[:].sum()*100).T\n",
    "term_status_ratio.plot.line(marker='o')\n",
    "plt.xlabel('Thời hạn cho vay')\n",
    "plt.ylabel('Tỉ lệ phần trăm người đăng ký vay (%)');"
   ]
  },
  {
   "cell_type": "markdown",
   "id": "5347cb24",
   "metadata": {},
   "source": [
    "Ta thấy thời hạn cho vay được chấp nhận nhiều nhất là 240 ngày."
   ]
  },
  {
   "cell_type": "markdown",
   "id": "e1cde3c4",
   "metadata": {},
   "source": [
    "### Lịch sử tín dụng và quyết định phê duyệt cho vay của ngân hàng"
   ]
  },
  {
   "cell_type": "code",
   "execution_count": 58,
   "id": "39398c8b",
   "metadata": {},
   "outputs": [
    {
     "data": {
      "image/png": "[encoded data removed]",
      "text/plain": [
       "<Figure size 432x288 with 1 Axes>"
      ]
     },
     "metadata": {
      "needs_background": "light"
     },
     "output_type": "display_data"
    }
   ],
   "source": [
    "credit_status = data_df.groupby(['Loan_Status','Credit_History'])['Credit_History'].count()\n",
    "credit_status_df = credit_status.unstack(0).T\n",
    "credit_status_ratio = (credit_status_df[:]/credit_status_df[:].sum()*100).T\n",
    "credit_status_ratio.plot.line(marker='o')\n",
    "plt.xlabel('Lịch sử tín dụng')\n",
    "plt.ylabel('Tỉ lệ phần trăm người đăng ký vay (%)');"
   ]
  },
  {
   "cell_type": "markdown",
   "id": "72509d30",
   "metadata": {},
   "source": [
    "Ta thấy tỉ lệ người có lịch sử tín dụng sẽ được chấp nhận cho vay nhiều hơn. Đặc biệt, những người không có lịch sử tín dụng sẽ không được chấp nhận cho vay. \n",
    "\n",
    "Điều này khá hợp lý vì khi có được lịch sử tín dụng của người vay thì ngân hàng sẽ biết được uy tín, trách nhiệm và khả năng trả nợ của người đăng ký vay. Từ đó họ sẽ quyết định xem có chấp nhận cho người đó vay hay không. \n",
    "\n",
    "Đây là một yếu tố then chốt để ngân hàng quyết định chấp nhận hoặc từ chối khoản vay. "
   ]
  },
  {
   "cell_type": "markdown",
   "id": "345476cf",
   "metadata": {},
   "source": [
    "### Nơi sống và quyết định phê duyệt cho vay của ngân hàng"
   ]
  },
  {
   "cell_type": "code",
   "execution_count": 59,
   "id": "39b87c75",
   "metadata": {
    "scrolled": false
   },
   "outputs": [
    {
     "data": {
      "image/png": "[encoded data removed]",
      "text/plain": [
       "<Figure size 432x288 with 1 Axes>"
      ]
     },
     "metadata": {
      "needs_background": "light"
     },
     "output_type": "display_data"
    }
   ],
   "source": [
    "area_status = data_df.groupby(['Loan_Status','Property_Area'])['Property_Area'].count()\n",
    "area_status_df = area_status.unstack(0).T\n",
    "area_status_ratio = (area_status_df[:]/area_status_df[:].sum()*100).T\n",
    "area_status_ratio.plot.line(marker='o')\n",
    "plt.xlabel('Nơi sinh sống')\n",
    "plt.ylabel('Tỉ lệ phần trăm người đăng ký vay (%)');"
   ]
  },
  {
   "cell_type": "markdown",
   "id": "6ff52122",
   "metadata": {},
   "source": [
    "Ta thấy tỉ lệ những người đăng ký sống ở đô thị vệ tinh được chấp nhận cho vay rất lớn và tỉ lệ người sinh sống ở đó bị từ chối khá thấp. Còn ở đô thị và nông thôn, tỉ lệ người bị từ chối khá cao.\n",
    "\n",
    "Hmm... phải chăng ngân hàng ưu tiên cho những người ở vùng đô thị vệ tinh vay tiền hơn.. :))"
   ]
  },
  {
   "cell_type": "markdown",
   "id": "7353b29e",
   "metadata": {},
   "source": [
    "## Kết luận"
   ]
  },
  {
   "cell_type": "markdown",
   "id": "cf0db3d4",
   "metadata": {},
   "source": [
    "Sau khi phân tích dữ liệu, ta có thể rút ra kết luận như sau:\n",
    "- Tỉ lệ người được chấp nhận cho vay cao hơn người bị từ chối.\n",
    "- Tình trạng hôn nhân cũng có ảnh hưởng khá nhiều đến quyết định cho vay của ngân hàng. Người đã kết hôn có tỉ lệ được chấp nhận khoản vay cao hơn người chưa kết hôn.\n",
    "- Người đã tốt nghiệp và không làm việc tự do sẽ có tỉ lệ được chấp thuận cho vay cao. \n",
    "- Lịch sử tín dụng có ảnh hưởng khá lớn đến việc được chấp nhận cho vay.\n",
    "- Người sống ở vùng đô thị vệ tinh (lân cận vùng đô thị) sẽ có tỉ lệ được chấp thuận cao hơn.\n",
    "- Tỉ lệ Nam được chấp nhận cho vay nhiều hơn Nữ (tuy nhiên đây có lẽ chỉ là yếu tố ảnh hưởng khách quan)."
   ]
  },
  {
   "cell_type": "markdown",
   "id": "5d8c9546",
   "metadata": {},
   "source": [
    "# Câu hỏi bonus : Mô hình các yếu tố ảnh hưởng đến sự quyết định phê duyệt?"
   ]
  },
  {
   "cell_type": "markdown",
   "id": "d7a48f82",
   "metadata": {},
   "source": [
    "Câu hỏi 2 đã trả lời các yếu tố ảnh hưởng đến sự phê duyệt, tuy nhiên lại đặt các yếu tố ấy rời rạc nhau, tức chỉ xét 1 yếu tố mà không xét trường hợp nhiều yếu tố kết hợp. Ví dụ như kết hợp giới tính và kết hôn như câu 1.  "
   ]
  },
  {
   "cell_type": "markdown",
   "id": "95a4d470",
   "metadata": {},
   "source": [
    "Là một nhà khoa học dữ liệu, chúng ta không thể đơn thuần chọn theo cảm tính như câu 1 được mà phải có một mô hình kết hợp nhiều feature để suy luận.  \n",
    "Một mô hình bọn em đã code (bằng những kỹ thuật numpy của thầy Kiên dạy) chính là Học cây quyết định ID3.  "
   ]
  },
  {
   "cell_type": "markdown",
   "id": "02a73c90",
   "metadata": {},
   "source": [
    "## Class cây quyết định"
   ]
  },
  {
   "cell_type": "markdown",
   "id": "c869810f",
   "metadata": {},
   "source": [
    "Đầu tiên ta sẽ định nghĩa một hàm trả về Entropy (chỉ số hỗn loạn của thông tin).  \n",
    "Chỉ số hỗn loạn của thông tin cho biết độ tinh khiết của tập dữ liệu có được. Tập dữ liệu càng thống nhất thì chỉ số hỗn loạn càng ít, tức nhìn vào tập dữ liệu đó càng dễ đoán được tập dữ liệu thuộc lớp nào. Nói lý thuyết hơi khó hiểu, hãy đọc ví dụ bên dưới rồi nghiệm lại lý thuyết xem nào.  \n",
    "Lấy ví dụ : trong chuyện cổ tích Tấm Cám, khi dì ghẻ trộn đậu xanh đậu đỏ lại với nhau trong 1 cái rổ, khi đó ta nói cái rổ có độ hỗn loạn cao vì nếu bốc đại một hạt ngẫu nhiên thì rất khó biết đó sẽ là đậu xanh hay đậu đỏ. Còn khi bụt đã cho chim sẻ phân lớp cái rổ đó ra thành hai rổ đậu xanh và đậu đỏ thì hai cái rổ đó có độ hỗn loạn thấp (độ tinh khiết cao) vì mỗi rỗ chỉ chứa 1 loại đậu, khi bốc đại 1 hạt ở giỏ thì khả năng cao sẽ biết được đó là hạt đậu xanh hay đậu đỏ.  \n",
    "Công thức của hàm entropy là : sum (p_i * log(p_i)) với i là class trong tập dữ liệu."
   ]
  },
  {
   "cell_type": "code",
   "execution_count": 60,
   "id": "4aa9fbab",
   "metadata": {},
   "outputs": [],
   "source": [
    "def get_entropy(y,returnMaxCount = False):\n",
    "    unique,count = np.unique(y,return_counts=True)\n",
    "    p = count/len(y)\n",
    "    if returnMaxCount == False:\n",
    "        return -np.sum(p*np.log(p))\n",
    "    else:\n",
    "        return -np.sum(p*np.log(p)),unique[count==np.max(count)][0],np.max(count)"
   ]
  },
  {
   "cell_type": "markdown",
   "id": "a22b19d8",
   "metadata": {},
   "source": [
    "Ta tiến hành tính entropy cho từng cột. Tập dữ liệu sẽ phân ra nhiều tập con dựa theo một feature được định sẵn. Sau đó, ta sẽ tính tổng chỉ số entropy của các tập con đó.  "
   ]
  },
  {
   "cell_type": "code",
   "execution_count": 61,
   "id": "e3d8cec5",
   "metadata": {},
   "outputs": [],
   "source": [
    "def get_entropy_col(X,y,col_index):\n",
    "    X_col = X[:,col_index]\n",
    "    res = 0\n",
    "    N = len(y)\n",
    "    unique,counts = np.unique(X_col,return_counts=True)\n",
    "    for value,count in zip(unique,counts):\n",
    "        #print(value,count,get_entropy(y[X_col==value]))\n",
    "        res += (count/N)* get_entropy(y[X_col==value])\n",
    "    return res"
   ]
  },
  {
   "cell_type": "markdown",
   "id": "9cc976a4",
   "metadata": {},
   "source": [
    "Dựa vào hàm trên, ta xem feature nào cho ra tổng entropy thấp nhất.  "
   ]
  },
  {
   "cell_type": "code",
   "execution_count": 62,
   "id": "a5b50ce9",
   "metadata": {},
   "outputs": [],
   "source": [
    "def find_best_col(X,y):\n",
    "    min_entropy = float('inf')\n",
    "    best_col = -1\n",
    "    for col in range(X.shape[1]):\n",
    "        entropy = get_entropy_col(X,y,col)\n",
    "        if min_entropy > entropy:\n",
    "            min_entropy = entropy\n",
    "            best_col = col\n",
    "    return best_col,min_entropy"
   ]
  },
  {
   "cell_type": "markdown",
   "id": "09fbced1",
   "metadata": {},
   "source": [
    "Sơ qua về mô hình tạo cây phân lớp : mỗi tập dữ liệu sẽ là một node. Nếu tập dữ liệu đó có độ hỗn loạn ở mức chấp nhận được thì dừng. Nếu không thì chia nhỏ ra thành các node con bằng cách tìm ra cột để phân chia tốt nhất bằng hàm ở trên.  "
   ]
  },
  {
   "cell_type": "code",
   "execution_count": 63,
   "id": "711bf88e",
   "metadata": {},
   "outputs": [],
   "source": [
    "from sklearn.metrics import accuracy_score\n",
    "from sklearn.model_selection import train_test_split\n",
    "from anytree.importer import DictImporter\n",
    "from anytree import RenderTree\n",
    "class DecisionTree:\n",
    "    def __init__(self,threshold=1.0):\n",
    "        self.root = {}\n",
    "        self.threshold=threshold\n",
    "        #node is a dictionary :\n",
    "# ╔═══════════════════════╦════════════════════════════════════════════════╗\n",
    "# ║ key                   ║ ý nghĩa                                        ║\n",
    "# ╠═══════════════════════╬════════════════════════════════════════════════╣\n",
    "# ║ children              ║ list chứa các node con                         ║\n",
    "# ╠═══════════════════════╬════════════════════════════════════════════════╣\n",
    "# ║ col_index             ║ chứa chỉ số cột dùng để phân chia              ║\n",
    "# ╠═══════════════════════╬════════════════════════════════════════════════╣\n",
    "# ║ col_val               ║ gíá trị nhận được của cột được chọn ở node cha ║\n",
    "# ╠═══════════════════════╬════════════════════════════════════════════════╣\n",
    "# ║ result(leafnode only) ║ kết quả phân lớp cuối cùng                     ║\n",
    "# ╚═══════════════════════╩════════════════════════════════════════════════╝\n",
    "    def fit(self, X_train, y_train):\n",
    "        self.root = {}\n",
    "        self.fit_recur(X_train,y_train,self.root)\n",
    "    def fit_recur(self, X_train, y_train,node={}):\n",
    "        if(np.all(y_train==y_train[0])):\n",
    "            node ['result']=y_train[0][0]\n",
    "            return\n",
    "        y_entropy,popular_value,maxcount = get_entropy(y_train,returnMaxCount=True)\n",
    "        #print(maxcount/len(y_train))\n",
    "        if maxcount/len(y_train)>self.threshold:\n",
    "            node['result'] = popular_value\n",
    "            return\n",
    "        node['col_index'],entropy=find_best_col(X_train,y_train)\n",
    "        #print(y_entropy,entropy)\n",
    "        if(y_entropy - entropy<0.01):\n",
    "            node['result'] = popular_value\n",
    "            return\n",
    "        node['children']=[]\n",
    "        for val in set(X_train[:,node['col_index']]):\n",
    "            child_node = {}\n",
    "            child_node['col_val'] = val\n",
    "            row_to_train = X_train[:,node['col_index']]==val\n",
    "            self.fit_recur(X_train[row_to_train],y_train[row_to_train],child_node)\n",
    "            node['children'].append(child_node)\n",
    "    def predict(self, X_test):\n",
    "        y = []\n",
    "        for i,x in enumerate(X_test):\n",
    "            y.append(self._predict(x))\n",
    "        return np.array(y)\n",
    "    def _predict(self,X):\n",
    "        node = self.root\n",
    "        unk = 0\n",
    "        while('children' in node): #còn có node con\n",
    "            unk = 1\n",
    "            for child in node['children']:\n",
    "                if(X[node['col_index']]==child['col_val']):\n",
    "                    node = child\n",
    "                    unk = 0\n",
    "                    break\n",
    "                \n",
    "            if unk:\n",
    "                return 'unknown'\n",
    "        return node['result']\n",
    "    def visualize(self):\n",
    "        importer = DictImporter()\n",
    "        root = importer.import_(self.root)\n",
    "        print(RenderTree(root))"
   ]
  },
  {
   "cell_type": "markdown",
   "id": "2524d4ee",
   "metadata": {},
   "source": [
    "## Tiền xử lý cho mô hình"
   ]
  },
  {
   "cell_type": "markdown",
   "id": "e3bce310",
   "metadata": {},
   "source": [
    "Lấy những cột feature trong dataframe. Tuy nhiên, do thời gian có hạn nên bọn em chưa kịp code xử lý những cột dạng numeric (dù có ý tưởng, nhóm sẽ trình bày bên dưới).  \n",
    "Nên bọn em sẽ chỉ lấy những cột có dạng categories (là những cột có só giá trị phân biệt bé hơn 9). \n",
    "Đồng thời, giá trị NaN sẽ được coi là một giá trị, nhóm sẽ đổi những giá trị NaN thành `unknown`.  \n",
    "Những giá trị Nan trong những cột định dạng số (nhưng bản chất là categories, cụ thể là `Dependents` và `Credit_History`) sẽ được gán cho giá trị `-1`.\n",
    "\n",
    "Tất cả sẽ được biểu diễn dưới dạng numpy array.  \n",
    "Lý do bọn em chọn numpy array thay cho dataframe vì nó có tốc độ gần ngang với array thuần C (hình như thấy Kiên có nói :D)."
   ]
  },
  {
   "cell_type": "code",
   "execution_count": 64,
   "id": "a558f0d5",
   "metadata": {},
   "outputs": [],
   "source": [
    "cate_cols = loan_df.columns[loan_df.nunique() <= 9]\n",
    "cate_cols = loan_df[cate_cols]\n",
    "X = cate_cols.fillna('unknown')\n",
    "X['Dependents'] = X['Dependents'].replace({'unknown':-1})\n",
    "X['Credit_History'] = X['Credit_History'].replace({'unknown':-1})\n",
    "X = np.array(X)\n",
    "X = X[:,:-1]"
   ]
  },
  {
   "cell_type": "markdown",
   "id": "9f5ce28b",
   "metadata": {},
   "source": [
    "Lấy cột label từ loan_df đã qua xử lý rồi chuyển nó về numpy array.  "
   ]
  },
  {
   "cell_type": "code",
   "execution_count": 65,
   "id": "2430c958",
   "metadata": {},
   "outputs": [],
   "source": [
    "y = loan_df['Loan_Status'].reset_index().drop(columns=['index'])\n",
    "y = np.array(y)"
   ]
  },
  {
   "cell_type": "markdown",
   "id": "7062fe31",
   "metadata": {},
   "source": [
    "Phân chia tập train và test. Đây là bước quan trọng trong học máy. Bạn đọc chỉ cần hiểu là mô hình sẽ huấn luyện và thử nghiệm trên mô hình khác nhau để khách quan việc huấn luyện.  "
   ]
  },
  {
   "cell_type": "code",
   "execution_count": 66,
   "id": "cff24358",
   "metadata": {},
   "outputs": [],
   "source": [
    "X_train,X_val,y_train,y_val = train_test_split(X,y,test_size=3/10,random_state=156+212)"
   ]
  },
  {
   "cell_type": "markdown",
   "id": "04724776",
   "metadata": {},
   "source": [
    "## Huấn luyện mô hình"
   ]
  },
  {
   "cell_type": "markdown",
   "id": "92502758",
   "metadata": {},
   "source": [
    "### Chạy thử nghiệm mô hình"
   ]
  },
  {
   "cell_type": "markdown",
   "id": "8e75c407",
   "metadata": {},
   "source": [
    "Ta sẽ cho mô hình chạy khởi động với threshold thấp (tức điều kiện dừng thấp). Mô hình sẽ cho ra rất đơn giản và nhanh nhưng không thể chi tiết bằng mô hình khi chạy hết sức.  "
   ]
  },
  {
   "cell_type": "code",
   "execution_count": 67,
   "id": "e5c30a7d",
   "metadata": {},
   "outputs": [
    {
     "name": "stdout",
     "output_type": "stream",
     "text": [
      "Index(['Gender', 'Married', 'Dependents', 'Education', 'Self_Employed',\n",
      "       'Loan_Amount_Term', 'Credit_History', 'Property_Area', 'Loan_Status'],\n",
      "      dtype='object')\n",
      "AnyNode(col_index=6)\n",
      "├── AnyNode(col_val=0.0, result='No')\n",
      "├── AnyNode(col_val=1.0, result='Yes')\n",
      "└── AnyNode(col_val=-1.0, result='Yes')\n"
     ]
    }
   ],
   "source": [
    "tree = DecisionTree(threshold=0.79)\n",
    "tree.fit(X_train,y_train)\n",
    "print(cate_cols.columns)\n",
    "tree.visualize()"
   ]
  },
  {
   "cell_type": "markdown",
   "id": "5505ca23",
   "metadata": {},
   "source": [
    "Ta thấy cột quan trọng nhất khi xét đến việc có cho vay hay không là cột `'Credit_History'` đúng như phân tích ở trên.  "
   ]
  },
  {
   "cell_type": "markdown",
   "id": "34a0a65d",
   "metadata": {},
   "source": [
    "### Chạy thật (chạy hết sức)"
   ]
  },
  {
   "cell_type": "markdown",
   "id": "a581a06f",
   "metadata": {},
   "source": [
    "Huấn luyện mô hình rồi coi mô hình tính dựa vào cái gì để biết một người có được vay hay không.  "
   ]
  },
  {
   "cell_type": "code",
   "execution_count": 68,
   "id": "d058f9ac",
   "metadata": {},
   "outputs": [
    {
     "name": "stdout",
     "output_type": "stream",
     "text": [
      "Index(['Gender', 'Married', 'Dependents', 'Education', 'Self_Employed',\n",
      "       'Loan_Amount_Term', 'Credit_History', 'Property_Area', 'Loan_Status'],\n",
      "      dtype='object')\n",
      "AnyNode(col_index=6)\n",
      "├── AnyNode(col_index=3, col_val=0.0)\n",
      "│   ├── AnyNode(col_val='Not Graduate', result='No')\n",
      "│   └── AnyNode(col_index=5, col_val='Graduate')\n",
      "│       ├── AnyNode(col_index=0, col_val=360.0)\n",
      "│       │   ├── AnyNode(col_val='unknown', result='No')\n",
      "│       │   ├── AnyNode(col_val='Female', result='No')\n",
      "│       │   └── AnyNode(col_index=1, col_val='Male')\n",
      "│       │       ├── AnyNode(col_index=2, col_val='No')\n",
      "│       │       │   ├── AnyNode(col_index=7, col_val=0.0)\n",
      "│       │       │   │   ├── AnyNode(col_val='Semiurban', result='No')\n",
      "│       │       │   │   └── AnyNode(col_index=0, col_val='Rural', result='No')\n",
      "│       │       │   └── AnyNode(col_val=2.0, result='Yes')\n",
      "│       │       └── AnyNode(col_index=2, col_val='Yes')\n",
      "│       │           ├── AnyNode(col_val=0.0, result='No')\n",
      "│       │           ├── AnyNode(col_val=1.0, result='No')\n",
      "│       │           ├── AnyNode(col_val=2.0, result='No')\n",
      "│       │           └── AnyNode(col_index=7, col_val=3.0)\n",
      "│       │               ├── AnyNode(col_val='Semiurban', result='No')\n",
      "│       │               └── AnyNode(col_val='Urban', result='Yes')\n",
      "│       ├── AnyNode(col_val=480.0, result='No')\n",
      "│       ├── AnyNode(col_val=180.0, result='Yes')\n",
      "│       └── AnyNode(col_val=300.0, result='No')\n",
      "├── AnyNode(col_index=7, col_val=1.0)\n",
      "│   ├── AnyNode(col_index=1, col_val='Semiurban')\n",
      "│   │   ├── AnyNode(col_index=5, col_val='No')\n",
      "│   │   │   ├── AnyNode(col_index=3, col_val=360.0)\n",
      "│   │   │   │   ├── AnyNode(col_val='Not Graduate', result='Yes')\n",
      "│   │   │   │   └── AnyNode(col_index=4, col_val='Graduate')\n",
      "│   │   │   │       ├── AnyNode(col_val='Yes', result='Yes')\n",
      "│   │   │   │       ├── AnyNode(col_val='unknown', result='Yes')\n",
      "│   │   │   │       └── AnyNode(col_index=0, col_val='No', result='Yes')\n",
      "│   │   │   ├── AnyNode(col_val=480.0, result='No')\n",
      "│   │   │   └── AnyNode(col_val=300.0, result='No')\n",
      "│   │   ├── AnyNode(col_val='unknown', result='Yes')\n",
      "│   │   └── AnyNode(col_index=2, col_val='Yes')\n",
      "│   │       ├── AnyNode(col_index=0, col_val=0.0, result='Yes')\n",
      "│   │       ├── AnyNode(col_index=3, col_val=1.0)\n",
      "│   │       │   ├── AnyNode(col_val='Not Graduate', result='Yes')\n",
      "│   │       │   └── AnyNode(col_index=4, col_val='Graduate')\n",
      "│   │       │       ├── AnyNode(col_val='Yes', result='Yes')\n",
      "│   │       │       └── AnyNode(col_index=5, col_val='No')\n",
      "│   │       │           ├── AnyNode(col_index=0, col_val=360.0, result='Yes')\n",
      "│   │       │           └── AnyNode(col_val=480.0, result='Yes')\n",
      "│   │       ├── AnyNode(col_val=2.0, result='Yes')\n",
      "│   │       └── AnyNode(col_val=3.0, result='Yes')\n",
      "│   ├── AnyNode(col_index=2, col_val='Urban')\n",
      "│   │   ├── AnyNode(col_index=4, col_val=0.0)\n",
      "│   │   │   ├── AnyNode(col_index=5, col_val='Yes')\n",
      "│   │   │   │   ├── AnyNode(col_index=0, col_val=360.0, result='No')\n",
      "│   │   │   │   └── AnyNode(col_val=180.0, result='No')\n",
      "│   │   │   ├── AnyNode(col_val='unknown', result='Yes')\n",
      "│   │   │   └── AnyNode(col_index=5, col_val='No')\n",
      "│   │   │       ├── AnyNode(col_index=0, col_val=360.0)\n",
      "│   │   │       │   ├── AnyNode(col_index=1, col_val='Female')\n",
      "│   │   │       │   │   ├── AnyNode(col_val='Yes', result='No')\n",
      "│   │   │       │   │   └── AnyNode(col_val='No', result='Yes')\n",
      "│   │   │       │   └── AnyNode(col_index=1, col_val='Male')\n",
      "│   │   │       │       ├── AnyNode(col_index=3, col_val='No')\n",
      "│   │   │       │       │   ├── AnyNode(col_val='Not Graduate', result='No')\n",
      "│   │   │       │       │   └── AnyNode(col_index=0, col_val='Graduate', result='Yes')\n",
      "│   │   │       │       └── AnyNode(col_index=0, col_val='Yes', result='Yes')\n",
      "│   │   │       ├── AnyNode(col_val=480.0, result='No')\n",
      "│   │   │       └── AnyNode(col_val=180.0, result='Yes')\n",
      "│   │   ├── AnyNode(col_index=0, col_val=1.0)\n",
      "│   │   │   ├── AnyNode(col_val='unknown', result='Yes')\n",
      "│   │   │   ├── AnyNode(col_index=1, col_val='Female')\n",
      "│   │   │   │   ├── AnyNode(col_val='No', result='No')\n",
      "│   │   │   │   └── AnyNode(col_val='Yes', result='Yes')\n",
      "│   │   │   └── AnyNode(col_val='Male', result='Yes')\n",
      "│   │   ├── AnyNode(col_index=0, col_val=2.0)\n",
      "│   │   │   ├── AnyNode(col_val='Female', result='No')\n",
      "│   │   │   └── AnyNode(col_index=3, col_val='Male')\n",
      "│   │   │       ├── AnyNode(col_val='Not Graduate', result='Yes')\n",
      "│   │   │       └── AnyNode(col_index=4, col_val='Graduate')\n",
      "│   │   │           ├── AnyNode(col_index=5, col_val='No')\n",
      "│   │   │           │   ├── AnyNode(col_index=0, col_val=360.0, result='Yes')\n",
      "│   │   │           │   └── AnyNode(col_val=180.0, result='Yes')\n",
      "│   │   │           ├── AnyNode(col_val='unknown', result='Yes')\n",
      "│   │   │           └── AnyNode(col_val='Yes', result='Yes')\n",
      "│   │   ├── AnyNode(col_val=3.0, result='Yes')\n",
      "│   │   └── AnyNode(col_val=-1.0, result='Yes')\n",
      "│   └── AnyNode(col_index=5, col_val='Rural')\n",
      "│       ├── AnyNode(col_index=2, col_val=360.0)\n",
      "│       │   ├── AnyNode(col_index=0, col_val=0.0)\n",
      "│       │   │   ├── AnyNode(col_index=4, col_val='unknown')\n",
      "│       │   │   │   ├── AnyNode(col_val='Yes', result='Yes')\n",
      "│       │   │   │   └── AnyNode(col_val='No', result='No')\n",
      "│       │   │   ├── AnyNode(col_index=4, col_val='Female')\n",
      "│       │   │   │   ├── AnyNode(col_val='Yes', result='No')\n",
      "│       │   │   │   ├── AnyNode(col_val='unknown', result='No')\n",
      "│       │   │   │   └── AnyNode(col_index=1, col_val='No')\n",
      "│       │   │   │       ├── AnyNode(col_val='Yes', result='No')\n",
      "│       │   │   │       └── AnyNode(col_index=0, col_val='No', result='Yes')\n",
      "│       │   │   └── AnyNode(col_index=4, col_val='Male')\n",
      "│       │   │       ├── AnyNode(col_val='Yes', result='Yes')\n",
      "│       │   │       ├── AnyNode(col_index=1, col_val='unknown')\n",
      "│       │   │       │   ├── AnyNode(col_val='No', result='No')\n",
      "│       │   │       │   └── AnyNode(col_index=3, col_val='Yes')\n",
      "│       │   │       │       ├── AnyNode(col_val='Not Graduate', result='Yes')\n",
      "│       │   │       │       └── AnyNode(col_val='Graduate', result='No')\n",
      "│       │   │       └── AnyNode(col_index=1, col_val='No')\n",
      "│       │   │           ├── AnyNode(col_index=3, col_val='No')\n",
      "│       │   │           │   ├── AnyNode(col_index=0, col_val='Not Graduate', result='Yes')\n",
      "│       │   │           │   └── AnyNode(col_val='Graduate', result='Yes')\n",
      "│       │   │           └── AnyNode(col_index=3, col_val='Yes')\n",
      "│       │   │               ├── AnyNode(col_index=0, col_val='Not Graduate', result='No')\n",
      "│       │   │               └── AnyNode(col_index=0, col_val='Graduate', result='Yes')\n",
      "│       │   ├── AnyNode(col_index=3, col_val=1.0)\n",
      "│       │   │   ├── AnyNode(col_val='Not Graduate', result='No')\n",
      "│       │   │   └── AnyNode(col_index=0, col_val='Graduate')\n",
      "│       │   │       ├── AnyNode(col_val='Female', result='Yes')\n",
      "│       │   │       └── AnyNode(col_index=1, col_val='Male')\n",
      "│       │   │           ├── AnyNode(col_val='No', result='No')\n",
      "│       │   │           └── AnyNode(col_index=0, col_val='Yes', result='No')\n",
      "│       │   ├── AnyNode(col_index=3, col_val=2.0)\n",
      "│       │   │   ├── AnyNode(col_val='Not Graduate', result='No')\n",
      "│       │   │   └── AnyNode(col_index=4, col_val='Graduate')\n",
      "│       │   │       ├── AnyNode(col_val='Yes', result='Yes')\n",
      "│       │   │       ├── AnyNode(col_val='unknown', result='Yes')\n",
      "│       │   │       └── AnyNode(col_index=1, col_val='No')\n",
      "│       │   │           ├── AnyNode(col_val='No', result='Yes')\n",
      "│       │   │           └── AnyNode(col_index=0, col_val='Yes', result='Yes')\n",
      "│       │   ├── AnyNode(col_index=3, col_val=3.0)\n",
      "│       │   │   ├── AnyNode(col_index=4, col_val='Not Graduate')\n",
      "│       │   │   │   ├── AnyNode(col_index=0, col_val='No', result='No')\n",
      "│       │   │   │   └── AnyNode(col_val='Yes', result='Yes')\n",
      "│       │   │   └── AnyNode(col_val='Graduate', result='Yes')\n",
      "│       │   └── AnyNode(col_val=-1.0, result='Yes')\n",
      "│       ├── AnyNode(col_val=480.0, result='No')\n",
      "│       ├── AnyNode(col_index=2, col_val=180.0)\n",
      "│       │   ├── AnyNode(col_val=1.0, result='Yes')\n",
      "│       │   └── AnyNode(col_val=3.0, result='No')\n",
      "│       └── AnyNode(col_val=300.0, result='No')\n",
      "└── AnyNode(col_index=0, col_val=-1.0)\n",
      "    ├── AnyNode(col_val='unknown', result='Yes')\n",
      "    ├── AnyNode(col_val='Female', result='Yes')\n",
      "    └── AnyNode(col_index=2, col_val='Male')\n",
      "        ├── AnyNode(col_index=7, col_val=0.0)\n",
      "        │   ├── AnyNode(col_index=1, col_val='Semiurban')\n",
      "        │   │   ├── AnyNode(col_val='No', result='Yes')\n",
      "        │   │   └── AnyNode(col_val='Yes', result='No')\n",
      "        │   ├── AnyNode(col_index=4, col_val='Urban')\n",
      "        │   │   ├── AnyNode(col_index=0, col_val='unknown', result='No')\n",
      "        │   │   └── AnyNode(col_val='No', result='Yes')\n",
      "        │   └── AnyNode(col_val='Rural', result='No')\n",
      "        ├── AnyNode(col_index=4, col_val=1.0)\n",
      "        │   ├── AnyNode(col_val='Yes', result='No')\n",
      "        │   ├── AnyNode(col_val='unknown', result='No')\n",
      "        │   └── AnyNode(col_val='No', result='Yes')\n",
      "        ├── AnyNode(col_val=2.0, result='Yes')\n",
      "        └── AnyNode(col_val=3.0, result='Yes')\n"
     ]
    }
   ],
   "source": [
    "tree = DecisionTree()\n",
    "tree.fit(X_train,y_train)\n",
    "print(cate_cols.columns)\n",
    "tree.visualize()"
   ]
  },
  {
   "cell_type": "markdown",
   "id": "5829d5b2",
   "metadata": {},
   "source": [
    "Ồ, có vẻ khá là phức tạp, nhìn sơ qua thì cột `Credit_History`, tức cột số 6 sẽ được đem ra để xem xét trước, ta có thể tạm kết luận đây là đặc trưng quan trọng nhất, ảnh hưởng nhiều nhất đến việc xét coi người này có được vay hay không.  \n",
    "\n",
    "Quan sát kĩ hơn một chút (nhưng vẫn chỉ ở mức độ sơ sơ), ta thấy nếu một người có lịch sử tín dụng, thì ngân hàng sẽ xét đến coi người này ở đâu : thành thị, nông thôn hay thị xã? Còn nếu chưa có lịch sử tín dụng thì sẽ đến trình độ học vấn. Còn nếu thông tin chưa có thì chuyển sang giới tính (???).  \n",
    "\n"
   ]
  },
  {
   "cell_type": "markdown",
   "id": "c4cd8973",
   "metadata": {},
   "source": [
    "Trong trường hợp cây phân lớp không thể đưa ra dự đoán (đến node lá nhưng không có nhánh thuộc giá trị của feature của vector X đang xét) thì sẽ cho ra kết quả unknown.  \n",
    "Do ý đồ ban đầu của nhóm nên nếu không dự đoán được thì bỏ qua, không tính vào lỗi sai của mô hình.  \n",
    "Vì vậy, khi đánh giá, nhóm sẽ loại bỏ những kết quả `unknown` (bằng những kỹ thuật numpy rất hay của thầy Kiên)"
   ]
  },
  {
   "cell_type": "markdown",
   "id": "47f1ec2c",
   "metadata": {},
   "source": [
    "## Đánh giá mô hình"
   ]
  },
  {
   "cell_type": "code",
   "execution_count": 69,
   "id": "bb4c74fd",
   "metadata": {},
   "outputs": [
    {
     "name": "stdout",
     "output_type": "stream",
     "text": [
      "0.7317073170731707\n"
     ]
    }
   ],
   "source": [
    "y_pred = tree.predict(X_val)\n",
    "unknown_col = (y_pred == 'unknown')\n",
    "print(accuracy_score(y_val[~unknown_col],y_pred[~unknown_col]))"
   ]
  },
  {
   "cell_type": "markdown",
   "id": "c12dc238",
   "metadata": {},
   "source": [
    "Độ chính xác 73% chưa thể nói là chấp nhận được nhưng vẫn còn những cải tiến trước mắt.  "
   ]
  },
  {
   "cell_type": "markdown",
   "id": "7ff8f035",
   "metadata": {},
   "source": [
    "Một vài cột sample"
   ]
  },
  {
   "cell_type": "code",
   "execution_count": 70,
   "id": "f939a0d2",
   "metadata": {},
   "outputs": [
    {
     "data": {
      "text/html": [
       "<div>\n",
       "<style scoped>\n",
       "    .dataframe tbody tr th:only-of-type {\n",
       "        vertical-align: middle;\n",
       "    }\n",
       "\n",
       "    .dataframe tbody tr th {\n",
       "        vertical-align: top;\n",
       "    }\n",
       "\n",
       "    .dataframe thead th {\n",
       "        text-align: right;\n",
       "    }\n",
       "</style>\n",
       "<table border=\"1\" class=\"dataframe\">\n",
       "  <thead>\n",
       "    <tr style=\"text-align: right;\">\n",
       "      <th></th>\n",
       "      <th>0</th>\n",
       "    </tr>\n",
       "  </thead>\n",
       "  <tbody>\n",
       "    <tr>\n",
       "      <th>Yes</th>\n",
       "      <td>Yes</td>\n",
       "    </tr>\n",
       "    <tr>\n",
       "      <th>Yes</th>\n",
       "      <td>Yes</td>\n",
       "    </tr>\n",
       "    <tr>\n",
       "      <th>Yes</th>\n",
       "      <td>No</td>\n",
       "    </tr>\n",
       "    <tr>\n",
       "      <th>Yes</th>\n",
       "      <td>Yes</td>\n",
       "    </tr>\n",
       "    <tr>\n",
       "      <th>No</th>\n",
       "      <td>No</td>\n",
       "    </tr>\n",
       "    <tr>\n",
       "      <th>Yes</th>\n",
       "      <td>Yes</td>\n",
       "    </tr>\n",
       "    <tr>\n",
       "      <th>No</th>\n",
       "      <td>Yes</td>\n",
       "    </tr>\n",
       "    <tr>\n",
       "      <th>No</th>\n",
       "      <td>No</td>\n",
       "    </tr>\n",
       "    <tr>\n",
       "      <th>Yes</th>\n",
       "      <td>Yes</td>\n",
       "    </tr>\n",
       "    <tr>\n",
       "      <th>Yes</th>\n",
       "      <td>Yes</td>\n",
       "    </tr>\n",
       "  </tbody>\n",
       "</table>\n",
       "</div>"
      ],
      "text/plain": [
       "       0\n",
       "Yes  Yes\n",
       "Yes  Yes\n",
       "Yes   No\n",
       "Yes  Yes\n",
       "No    No\n",
       "Yes  Yes\n",
       "No   Yes\n",
       "No    No\n",
       "Yes  Yes\n",
       "Yes  Yes"
      ]
     },
     "execution_count": 70,
     "metadata": {},
     "output_type": "execute_result"
    }
   ],
   "source": [
    "pd.DataFrame(y_val[~unknown_col],y_pred[~unknown_col]).sample(10)"
   ]
  },
  {
   "cell_type": "markdown",
   "id": "f7d0caf6",
   "metadata": {},
   "source": [
    "## Cải tiến"
   ]
  },
  {
   "cell_type": "markdown",
   "id": "8bcf3d56",
   "metadata": {},
   "source": [
    "Với một cột numeric, ta sẽ phân ra làm 2 tập con, một tập có giá trị cột đang xét bé hơn k, tập còn lại lớn hơn k với k là số tối ưu sao cho tổng entropy của hai tập trên là tối đa. Để tìm được k, ta sẽ gán k là các giá trị có trong tập lớn đang xét.  \n",
    "Như vậy với cải tiến trên, ta sẽ đưa thêm các cột numeric vào mô hình, mô hình sẽ chính xác hơn."
   ]
  },
  {
   "cell_type": "markdown",
   "id": "9e811531",
   "metadata": {},
   "source": [
    "# Nhìn lại quá trình thực hiện đồ án"
   ]
  },
  {
   "cell_type": "markdown",
   "id": "e903c21d",
   "metadata": {},
   "source": [
    "## Đã gặp những khó khăn gì?"
   ]
  },
  {
   "cell_type": "markdown",
   "id": "2050eb01",
   "metadata": {},
   "source": [
    "### Công Duy"
   ]
  },
  {
   "cell_type": "markdown",
   "id": "681919d3",
   "metadata": {},
   "source": [
    "- Nhóm em đã mất nhiều thời gian để thống nhất chủ đề dataset muốn thực hiện và tìm kiếm dataset. Bọn em thống nhất chủ đề về tài chính và quyết định dùng bộ dataset trên kaggle được đánh giá 8.5/10 sao (có bộ dataset khác nhưng có 5 sao thôi nên bọn em không sử dụng).  \n",
    "- Link repo github là do em tạo nhưng do kinh nghiệm quản lý branch online trên web chưa có nên còn nhiều sai sót, có trường hợp em merge và xử lý conflict lung tung khiến code của bạn bị mất và bạn phải code lại :((. \n",
    "- Em khá bí câu hỏi và câu trả lời em đưa ra cũng khá đơn điệu. May thay là em đã nghĩ cách bổ trợ câu hỏi của bạn Thuận để không cảm thấy áy náy vì làm hơi ít.   "
   ]
  },
  {
   "cell_type": "markdown",
   "id": "d83166e9",
   "metadata": {},
   "source": [
    "### Gia Thuận"
   ]
  },
  {
   "cell_type": "markdown",
   "id": "0994357b",
   "metadata": {},
   "source": [
    "- Trong lúc thực hiện đồ án, em đã mất nhiều ngày để nghĩ ra một câu hỏi mà có ý nghĩa và bao hàm hầu hết bộ dữ liệu.\n",
    "- Đôi lúc em có những suy nghĩ lệch với lối suy nghĩ đúng, nhưng rất may mắn đồng đội em đã phát hiện ra và tranh luận với em cách suy nghĩ đúng để em có thể khắc phục được vấn đề của mình."
   ]
  },
  {
   "cell_type": "markdown",
   "id": "aa4a735e",
   "metadata": {},
   "source": [
    "## Học được những gì hữu ích?"
   ]
  },
  {
   "cell_type": "markdown",
   "id": "7a5d3652",
   "metadata": {},
   "source": [
    "### Công Duy"
   ]
  },
  {
   "cell_type": "markdown",
   "id": "6a01a83d",
   "metadata": {},
   "source": [
    "- Kỷ luật là sức mạnh.\n",
    "- Phải cai nghiện sự thoải mái của bản thân.\n",
    "- Phải biết dùng github."
   ]
  },
  {
   "cell_type": "markdown",
   "id": "714d3c72",
   "metadata": {},
   "source": [
    "### Gia Thuận"
   ]
  },
  {
   "cell_type": "markdown",
   "id": "37e49b97",
   "metadata": {},
   "source": [
    "- Em thấy bản thân mình làm việc có kỉ luật hơn, phải làm theo đúng kế hoạch đã vạch ra của cả đội. Vì nếu em không hoàn thành đúng tiến độ của mình thì đồng đội em có thể sẽ bị trễ kế hoạch theo.\n",
    "- Em học được lối suy nghĩ đúng và bao hàm hơn từ đồng đội của mình."
   ]
  },
  {
   "cell_type": "markdown",
   "id": "682b4dae",
   "metadata": {},
   "source": [
    "## Nếu có thêm thời gian sẽ làm gì?"
   ]
  },
  {
   "cell_type": "markdown",
   "id": "37eeb1ee",
   "metadata": {},
   "source": [
    "Em sẽ cải tiến mô hình đã đề cập ở trên.  "
   ]
  },
  {
   "cell_type": "markdown",
   "id": "c2769871",
   "metadata": {},
   "source": [
    "# Tham khảo"
   ]
  },
  {
   "cell_type": "markdown",
   "id": "e4198c07",
   "metadata": {},
   "source": [
    "Nguồn dataset :  \n",
    "https://www.kaggle.com/vipin20/loan-application-data  \n",
    "Tham khảo trong quá trình code :  \n",
    "https://www.kaggle.com/vipin20/loan-prediction-problem"
   ]
  }
 ],
 "metadata": {
  "kernelspec": {
   "display_name": "Python 3 (ipykernel)",
   "language": "python",
   "name": "python3"
  },
  "language_info": {
   "codemirror_mode": {
    "name": "ipython",
    "version": 3
   },
   "file_extension": ".py",
   "mimetype": "text/x-python",
   "name": "python",
   "nbconvert_exporter": "python",
   "pygments_lexer": "ipython3",
   "version": "3.8.8"
  },
  "toc": {
   "base_numbering": 1,
   "nav_menu": {},
   "number_sections": true,
   "sideBar": true,
   "skip_h1_title": false,
   "title_cell": "Table of Contents",
   "title_sidebar": "Contents",
   "toc_cell": false,
   "toc_position": {},
   "toc_section_display": true,
   "toc_window_display": false
  }
 },
 "nbformat": 4,
 "nbformat_minor": 5
}
